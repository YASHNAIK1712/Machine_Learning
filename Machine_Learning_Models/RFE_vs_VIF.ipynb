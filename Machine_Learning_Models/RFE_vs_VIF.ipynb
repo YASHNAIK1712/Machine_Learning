{
 "cells": [
  {
   "cell_type": "markdown",
   "metadata": {
    "vscode": {
     "languageId": "plaintext"
    }
   },
   "source": [
    "RFE (Recursive Feature Elimination) and VIF (Variance Inflation Factor) are two different techniques used in feature selection and evaluation, but they serve distinct purposes and are used in different contexts."
   ]
  },
  {
   "cell_type": "markdown",
   "metadata": {},
   "source": [
    "# Recursive Feature Elimination"
   ]
  },
  {
   "cell_type": "markdown",
   "metadata": {},
   "source": [
    "Purpose:\n",
    "- RFE is a wrapper method for feature selection that aims to select the most important features by recursively eliminating the least important ones based on a model's performance (e.g., a linear regression, decision tree, or SVM)."
   ]
  },
  {
   "cell_type": "markdown",
   "metadata": {},
   "source": [
    "How It Works:\n",
    "\n",
    "- Start with all features in the dataset.\n",
    "- Train a model (e.g., linear regression) and rank features based on their importance (e.g., coefficients in linear regression, feature importance in decision trees).\n",
    "- Remove the least important feature(s).\n",
    "- Repeat steps 2–3 until a specified number of features is selected."
   ]
  },
  {
   "cell_type": "markdown",
   "metadata": {},
   "source": [
    "Use Cases:\n",
    "- To find the most predictive features for a model.\n",
    "- Works with both linear and non-linear models."
   ]
  },
  {
   "cell_type": "markdown",
   "metadata": {},
   "source": [
    "Advantages:\n",
    "- Considers the relationship between features and the target variable.\n",
    "- Can handle non-linear models and complex feature interactions."
   ]
  },
  {
   "cell_type": "markdown",
   "metadata": {},
   "source": [
    "Limitations:\n",
    "- Computationally expensive, especially for large datasets.\n",
    "- Requires a model to evaluate feature importance, which introduces model dependency.\n"
   ]
  },
  {
   "cell_type": "markdown",
   "metadata": {},
   "source": [
    "Let us prepare the data first where we can apply our feature selection process and compare our RFE and later VIF's performance on the same"
   ]
  },
  {
   "cell_type": "code",
   "execution_count": null,
   "metadata": {},
   "outputs": [],
   "source": [
    "import pandas as pd\n",
    "import numpy as np\n",
    "import seaborn as sns\n",
    "import matplotlib.pyplot as plt\n",
    "\n",
    "from sklearn.pipeline import Pipeline\n",
    "from sklearn.preprocessing import OneHotEncoder, OrdinalEncoder, StandardScaler\n",
    "from sklearn.impute import SimpleImputer, KNNImputer\n",
    "from sklearn.base import BaseEstimator, TransformerMixin\n",
    "from sklearn.compose import ColumnTransformer\n",
    "from sklearn.neural_network import MLPClassifier, MLPRegressor\n",
    "from sklearn.model_selection import train_test_split, cross_val_score, RandomizedSearchCV, GridSearchCV, KFold\n",
    "from sklearn.linear_model import LogisticRegression, LinearRegression, SGDRegressor\n",
    "from sklearn.discriminant_analysis import QuadraticDiscriminantAnalysis\n",
    "from sklearn.ensemble import RandomForestClassifier, AdaBoostClassifier, GradientBoostingClassifier, BaggingClassifier, RandomForestRegressor\n",
    "from sklearn.neighbors import KNeighborsClassifier, KNeighborsRegressor\n",
    "from sklearn.svm import SVC, LinearSVC, SVR\n",
    "from sklearn.naive_bayes import GaussianNB\n",
    "from sklearn.tree import DecisionTreeClassifier, DecisionTreeRegressor\n",
    "from sklearn.metrics import ConfusionMatrixDisplay, f1_score, make_scorer, confusion_matrix, mean_squared_error, mean_absolute_error\n",
    "\n",
    "from statsmodels.stats.outliers_influence import variance_inflation_factor\n",
    "from statsmodels.tools.tools import add_constant\n",
    "\n",
    "from catboost import CatBoostClassifier\n",
    "from xgboost import XGBClassifier\n",
    "\n",
    "from scipy.stats import randint, uniform\n",
    "from sklearn.feature_selection import RFE"
   ]
  },
  {
   "cell_type": "code",
   "execution_count": 3,
   "metadata": {},
   "outputs": [],
   "source": [
    "raw_data = pd.read_csv(\"/Users/macbookair/Downloads/car_insurance_claim.csv\")"
   ]
  },
  {
   "cell_type": "code",
   "execution_count": 4,
   "metadata": {},
   "outputs": [
    {
     "data": {
      "text/html": [
       "<div>\n",
       "<style scoped>\n",
       "    .dataframe tbody tr th:only-of-type {\n",
       "        vertical-align: middle;\n",
       "    }\n",
       "\n",
       "    .dataframe tbody tr th {\n",
       "        vertical-align: top;\n",
       "    }\n",
       "\n",
       "    .dataframe thead th {\n",
       "        text-align: right;\n",
       "    }\n",
       "</style>\n",
       "<table border=\"1\" class=\"dataframe\">\n",
       "  <thead>\n",
       "    <tr style=\"text-align: right;\">\n",
       "      <th></th>\n",
       "      <th>ID</th>\n",
       "      <th>KIDSDRIV</th>\n",
       "      <th>BIRTH</th>\n",
       "      <th>AGE</th>\n",
       "      <th>HOMEKIDS</th>\n",
       "      <th>YOJ</th>\n",
       "      <th>INCOME</th>\n",
       "      <th>PARENT1</th>\n",
       "      <th>HOME_VAL</th>\n",
       "      <th>MSTATUS</th>\n",
       "      <th>GENDER</th>\n",
       "      <th>EDUCATION</th>\n",
       "      <th>OCCUPATION</th>\n",
       "      <th>TRAVTIME</th>\n",
       "      <th>CAR_USE</th>\n",
       "      <th>BLUEBOOK</th>\n",
       "      <th>TIF</th>\n",
       "      <th>CAR_TYPE</th>\n",
       "      <th>RED_CAR</th>\n",
       "      <th>OLDCLAIM</th>\n",
       "      <th>CLM_FREQ</th>\n",
       "      <th>REVOKED</th>\n",
       "      <th>MVR_PTS</th>\n",
       "      <th>CLM_AMT</th>\n",
       "      <th>CAR_AGE</th>\n",
       "      <th>CLAIM_FLAG</th>\n",
       "      <th>URBANICITY</th>\n",
       "    </tr>\n",
       "  </thead>\n",
       "  <tbody>\n",
       "    <tr>\n",
       "      <th>0</th>\n",
       "      <td>63581743</td>\n",
       "      <td>0</td>\n",
       "      <td>16MAR39</td>\n",
       "      <td>60.0</td>\n",
       "      <td>0</td>\n",
       "      <td>11.0</td>\n",
       "      <td>$67,349</td>\n",
       "      <td>No</td>\n",
       "      <td>$0</td>\n",
       "      <td>z_No</td>\n",
       "      <td>M</td>\n",
       "      <td>PhD</td>\n",
       "      <td>Professional</td>\n",
       "      <td>14</td>\n",
       "      <td>Private</td>\n",
       "      <td>$14,230</td>\n",
       "      <td>11</td>\n",
       "      <td>Minivan</td>\n",
       "      <td>yes</td>\n",
       "      <td>$4,461</td>\n",
       "      <td>2</td>\n",
       "      <td>No</td>\n",
       "      <td>3</td>\n",
       "      <td>$0</td>\n",
       "      <td>18.0</td>\n",
       "      <td>0</td>\n",
       "      <td>Highly Urban/ Urban</td>\n",
       "    </tr>\n",
       "    <tr>\n",
       "      <th>1</th>\n",
       "      <td>132761049</td>\n",
       "      <td>0</td>\n",
       "      <td>21JAN56</td>\n",
       "      <td>43.0</td>\n",
       "      <td>0</td>\n",
       "      <td>11.0</td>\n",
       "      <td>$91,449</td>\n",
       "      <td>No</td>\n",
       "      <td>$257,252</td>\n",
       "      <td>z_No</td>\n",
       "      <td>M</td>\n",
       "      <td>z_High School</td>\n",
       "      <td>z_Blue Collar</td>\n",
       "      <td>22</td>\n",
       "      <td>Commercial</td>\n",
       "      <td>$14,940</td>\n",
       "      <td>1</td>\n",
       "      <td>Minivan</td>\n",
       "      <td>yes</td>\n",
       "      <td>$0</td>\n",
       "      <td>0</td>\n",
       "      <td>No</td>\n",
       "      <td>0</td>\n",
       "      <td>$0</td>\n",
       "      <td>1.0</td>\n",
       "      <td>0</td>\n",
       "      <td>Highly Urban/ Urban</td>\n",
       "    </tr>\n",
       "    <tr>\n",
       "      <th>2</th>\n",
       "      <td>921317019</td>\n",
       "      <td>0</td>\n",
       "      <td>18NOV51</td>\n",
       "      <td>48.0</td>\n",
       "      <td>0</td>\n",
       "      <td>11.0</td>\n",
       "      <td>$52,881</td>\n",
       "      <td>No</td>\n",
       "      <td>$0</td>\n",
       "      <td>z_No</td>\n",
       "      <td>M</td>\n",
       "      <td>Bachelors</td>\n",
       "      <td>Manager</td>\n",
       "      <td>26</td>\n",
       "      <td>Private</td>\n",
       "      <td>$21,970</td>\n",
       "      <td>1</td>\n",
       "      <td>Van</td>\n",
       "      <td>yes</td>\n",
       "      <td>$0</td>\n",
       "      <td>0</td>\n",
       "      <td>No</td>\n",
       "      <td>2</td>\n",
       "      <td>$0</td>\n",
       "      <td>10.0</td>\n",
       "      <td>0</td>\n",
       "      <td>Highly Urban/ Urban</td>\n",
       "    </tr>\n",
       "    <tr>\n",
       "      <th>3</th>\n",
       "      <td>727598473</td>\n",
       "      <td>0</td>\n",
       "      <td>05MAR64</td>\n",
       "      <td>35.0</td>\n",
       "      <td>1</td>\n",
       "      <td>10.0</td>\n",
       "      <td>$16,039</td>\n",
       "      <td>No</td>\n",
       "      <td>$124,191</td>\n",
       "      <td>Yes</td>\n",
       "      <td>z_F</td>\n",
       "      <td>z_High School</td>\n",
       "      <td>Clerical</td>\n",
       "      <td>5</td>\n",
       "      <td>Private</td>\n",
       "      <td>$4,010</td>\n",
       "      <td>4</td>\n",
       "      <td>z_SUV</td>\n",
       "      <td>no</td>\n",
       "      <td>$38,690</td>\n",
       "      <td>2</td>\n",
       "      <td>No</td>\n",
       "      <td>3</td>\n",
       "      <td>$0</td>\n",
       "      <td>10.0</td>\n",
       "      <td>0</td>\n",
       "      <td>Highly Urban/ Urban</td>\n",
       "    </tr>\n",
       "    <tr>\n",
       "      <th>4</th>\n",
       "      <td>450221861</td>\n",
       "      <td>0</td>\n",
       "      <td>05JUN48</td>\n",
       "      <td>51.0</td>\n",
       "      <td>0</td>\n",
       "      <td>14.0</td>\n",
       "      <td>NaN</td>\n",
       "      <td>No</td>\n",
       "      <td>$306,251</td>\n",
       "      <td>Yes</td>\n",
       "      <td>M</td>\n",
       "      <td>&lt;High School</td>\n",
       "      <td>z_Blue Collar</td>\n",
       "      <td>32</td>\n",
       "      <td>Private</td>\n",
       "      <td>$15,440</td>\n",
       "      <td>7</td>\n",
       "      <td>Minivan</td>\n",
       "      <td>yes</td>\n",
       "      <td>$0</td>\n",
       "      <td>0</td>\n",
       "      <td>No</td>\n",
       "      <td>0</td>\n",
       "      <td>$0</td>\n",
       "      <td>6.0</td>\n",
       "      <td>0</td>\n",
       "      <td>Highly Urban/ Urban</td>\n",
       "    </tr>\n",
       "  </tbody>\n",
       "</table>\n",
       "</div>"
      ],
      "text/plain": [
       "          ID  KIDSDRIV    BIRTH   AGE  HOMEKIDS   YOJ   INCOME PARENT1  \\\n",
       "0   63581743         0  16MAR39  60.0         0  11.0  $67,349      No   \n",
       "1  132761049         0  21JAN56  43.0         0  11.0  $91,449      No   \n",
       "2  921317019         0  18NOV51  48.0         0  11.0  $52,881      No   \n",
       "3  727598473         0  05MAR64  35.0         1  10.0  $16,039      No   \n",
       "4  450221861         0  05JUN48  51.0         0  14.0      NaN      No   \n",
       "\n",
       "   HOME_VAL MSTATUS GENDER      EDUCATION     OCCUPATION  TRAVTIME  \\\n",
       "0        $0    z_No      M            PhD   Professional        14   \n",
       "1  $257,252    z_No      M  z_High School  z_Blue Collar        22   \n",
       "2        $0    z_No      M      Bachelors        Manager        26   \n",
       "3  $124,191     Yes    z_F  z_High School       Clerical         5   \n",
       "4  $306,251     Yes      M   <High School  z_Blue Collar        32   \n",
       "\n",
       "      CAR_USE BLUEBOOK  TIF CAR_TYPE RED_CAR OLDCLAIM  CLM_FREQ REVOKED  \\\n",
       "0     Private  $14,230   11  Minivan     yes   $4,461         2      No   \n",
       "1  Commercial  $14,940    1  Minivan     yes       $0         0      No   \n",
       "2     Private  $21,970    1      Van     yes       $0         0      No   \n",
       "3     Private   $4,010    4    z_SUV      no  $38,690         2      No   \n",
       "4     Private  $15,440    7  Minivan     yes       $0         0      No   \n",
       "\n",
       "   MVR_PTS CLM_AMT  CAR_AGE  CLAIM_FLAG           URBANICITY  \n",
       "0        3      $0     18.0           0  Highly Urban/ Urban  \n",
       "1        0      $0      1.0           0  Highly Urban/ Urban  \n",
       "2        2      $0     10.0           0  Highly Urban/ Urban  \n",
       "3        3      $0     10.0           0  Highly Urban/ Urban  \n",
       "4        0      $0      6.0           0  Highly Urban/ Urban  "
      ]
     },
     "execution_count": 4,
     "metadata": {},
     "output_type": "execute_result"
    }
   ],
   "source": [
    "pd.set_option('display.max_columns', None)\n",
    "raw_data.head()"
   ]
  },
  {
   "cell_type": "markdown",
   "metadata": {},
   "source": [
    "#   DATA CLEANING"
   ]
  },
  {
   "cell_type": "code",
   "execution_count": 5,
   "metadata": {},
   "outputs": [],
   "source": [
    "data_df = raw_data.copy()"
   ]
  },
  {
   "cell_type": "markdown",
   "metadata": {},
   "source": [
    "We have just created a copy of our actual data and changed the column names to little descriptive names."
   ]
  },
  {
   "cell_type": "code",
   "execution_count": 6,
   "metadata": {},
   "outputs": [],
   "source": [
    "col_names = {\n",
    "    'KIDSDRIV': 'num_young_drivers',\n",
    "    'BIRTH': 'date_of_birth',\n",
    "    'AGE': 'age',\n",
    "    'HOMEKIDS': 'num_of_children',\n",
    "    'YOJ': 'years_job_held_for',\n",
    "    'INCOME': 'income',\n",
    "    'PARENT1': 'single_parent',\n",
    "    'HOME_VAL': 'value_of_home',\n",
    "    'MSTATUS': 'married',\n",
    "    'GENDER': 'gender',\n",
    "    'EDUCATION': 'highest_education',\n",
    "    'OCCUPATION': 'occupation',\n",
    "    'TRAVTIME': 'commute_dist',\n",
    "    'CAR_USE': 'type_of_use',\n",
    "    'BLUEBOOK': 'vehicle_value',\n",
    "    'TIF': 'policy_tenure',\n",
    "    'CAR_TYPE': 'vehicle_type',\n",
    "    'RED_CAR': 'red_vehicle',\n",
    "    'OLDCLAIM': '5_year_total_claims_value',\n",
    "    'CLM_FREQ': '5_year_num_of_claims',\n",
    "    'REVOKED': 'licence_revoked',\n",
    "    'MVR_PTS': 'license_points',\n",
    "    'CLM_AMT': 'new_claim_value',\n",
    "    'CAR_AGE': 'vehicle_age',\n",
    "    'CLAIM_FLAG': 'is_claim',\n",
    "    'URBANICITY': 'address_type'\n",
    "}\n",
    "\n",
    "# Update column names\n",
    "data_df.rename(columns=col_names, inplace=True)"
   ]
  },
  {
   "cell_type": "code",
   "execution_count": 7,
   "metadata": {},
   "outputs": [],
   "source": [
    "# Drop duplicates\n",
    "data_df.drop_duplicates(inplace=True)"
   ]
  },
  {
   "cell_type": "code",
   "execution_count": 8,
   "metadata": {},
   "outputs": [
    {
     "name": "stdout",
     "output_type": "stream",
     "text": [
      "<class 'pandas.core.frame.DataFrame'>\n",
      "Index: 10301 entries, 0 to 10301\n",
      "Data columns (total 27 columns):\n",
      " #   Column                     Non-Null Count  Dtype  \n",
      "---  ------                     --------------  -----  \n",
      " 0   ID                         10301 non-null  int64  \n",
      " 1   num_young_drivers          10301 non-null  int64  \n",
      " 2   date_of_birth              10301 non-null  object \n",
      " 3   age                        10294 non-null  float64\n",
      " 4   num_of_children            10301 non-null  int64  \n",
      " 5   years_job_held_for         9753 non-null   float64\n",
      " 6   income                     9731 non-null   object \n",
      " 7   single_parent              10301 non-null  object \n",
      " 8   value_of_home              9726 non-null   object \n",
      " 9   married                    10301 non-null  object \n",
      " 10  gender                     10301 non-null  object \n",
      " 11  highest_education          10301 non-null  object \n",
      " 12  occupation                 9636 non-null   object \n",
      " 13  commute_dist               10301 non-null  int64  \n",
      " 14  type_of_use                10301 non-null  object \n",
      " 15  vehicle_value              10301 non-null  object \n",
      " 16  policy_tenure              10301 non-null  int64  \n",
      " 17  vehicle_type               10301 non-null  object \n",
      " 18  red_vehicle                10301 non-null  object \n",
      " 19  5_year_total_claims_value  10301 non-null  object \n",
      " 20  5_year_num_of_claims       10301 non-null  int64  \n",
      " 21  licence_revoked            10301 non-null  object \n",
      " 22  license_points             10301 non-null  int64  \n",
      " 23  new_claim_value            10301 non-null  object \n",
      " 24  vehicle_age                9662 non-null   float64\n",
      " 25  is_claim                   10301 non-null  int64  \n",
      " 26  address_type               10301 non-null  object \n",
      "dtypes: float64(3), int64(8), object(16)\n",
      "memory usage: 2.2+ MB\n"
     ]
    }
   ],
   "source": [
    "data_df.info()"
   ]
  },
  {
   "cell_type": "markdown",
   "metadata": {},
   "source": [
    "We have observed that some columns like income includes special characters like \"$\" and \",\". We need to change that to change the column type to Integer"
   ]
  },
  {
   "cell_type": "code",
   "execution_count": 9,
   "metadata": {},
   "outputs": [],
   "source": [
    "# Define currency based columns\n",
    "currency_cols = ['income', 'value_of_home', 'vehicle_value', '5_year_total_claims_value', 'new_claim_value']\n",
    "\n",
    "# Create function to remove '$' and ','\n",
    "def format_currency_cols(data, cols):\n",
    "    for col in cols:\n",
    "        data[col] = data[col].replace('[\\\\$,]', '', regex=True).astype('Int64')\n",
    "    return data\n",
    "\n",
    "data_df = format_currency_cols(data_df, currency_cols)"
   ]
  },
  {
   "cell_type": "code",
   "execution_count": 10,
   "metadata": {},
   "outputs": [
    {
     "name": "stdout",
     "output_type": "stream",
     "text": [
      "<class 'pandas.core.frame.DataFrame'>\n",
      "Index: 10301 entries, 0 to 10301\n",
      "Data columns (total 27 columns):\n",
      " #   Column                     Non-Null Count  Dtype  \n",
      "---  ------                     --------------  -----  \n",
      " 0   ID                         10301 non-null  int64  \n",
      " 1   num_young_drivers          10301 non-null  int64  \n",
      " 2   date_of_birth              10301 non-null  object \n",
      " 3   age                        10294 non-null  float64\n",
      " 4   num_of_children            10301 non-null  int64  \n",
      " 5   years_job_held_for         9753 non-null   float64\n",
      " 6   income                     9731 non-null   Int64  \n",
      " 7   single_parent              10301 non-null  object \n",
      " 8   value_of_home              9726 non-null   Int64  \n",
      " 9   married                    10301 non-null  object \n",
      " 10  gender                     10301 non-null  object \n",
      " 11  highest_education          10301 non-null  object \n",
      " 12  occupation                 9636 non-null   object \n",
      " 13  commute_dist               10301 non-null  int64  \n",
      " 14  type_of_use                10301 non-null  object \n",
      " 15  vehicle_value              10301 non-null  Int64  \n",
      " 16  policy_tenure              10301 non-null  int64  \n",
      " 17  vehicle_type               10301 non-null  object \n",
      " 18  red_vehicle                10301 non-null  object \n",
      " 19  5_year_total_claims_value  10301 non-null  Int64  \n",
      " 20  5_year_num_of_claims       10301 non-null  int64  \n",
      " 21  licence_revoked            10301 non-null  object \n",
      " 22  license_points             10301 non-null  int64  \n",
      " 23  new_claim_value            10301 non-null  Int64  \n",
      " 24  vehicle_age                9662 non-null   float64\n",
      " 25  is_claim                   10301 non-null  int64  \n",
      " 26  address_type               10301 non-null  object \n",
      "dtypes: Int64(5), float64(3), int64(8), object(11)\n",
      "memory usage: 2.2+ MB\n"
     ]
    }
   ],
   "source": [
    "data_df.info()"
   ]
  },
  {
   "cell_type": "markdown",
   "metadata": {},
   "source": [
    "As we can see that all the data types have changed to integers as we removed the special characters."
   ]
  },
  {
   "cell_type": "code",
   "execution_count": 11,
   "metadata": {},
   "outputs": [],
   "source": [
    "# Define columns that have prefix\n",
    "z_prefix_cols = ['married', 'gender', 'highest_education', 'occupation', 'vehicle_type', 'address_type']\n",
    "\n",
    "# Create function to remove 'z_' prefix\n",
    "def remove_prefix(data, cols):\n",
    "    for col in cols:\n",
    "        data[col] = data[col].replace('[z_]', '', regex=True)\n",
    "    return data\n",
    "\n",
    "data_df = remove_prefix(data_df, z_prefix_cols)"
   ]
  },
  {
   "cell_type": "markdown",
   "metadata": {},
   "source": [
    "We need to remove this Z prefix data values from multiple columns as we can see in married, gender etc."
   ]
  },
  {
   "cell_type": "code",
   "execution_count": 12,
   "metadata": {},
   "outputs": [],
   "source": [
    "data_df.drop(['ID', 'date_of_birth'], axis=1, inplace=True)"
   ]
  },
  {
   "cell_type": "markdown",
   "metadata": {},
   "source": [
    "- ID is just a unique identifier so is not needed\n",
    "- data_of_birth duplicates the age feature (as age infers this information) so is not needed"
   ]
  },
  {
   "cell_type": "code",
   "execution_count": 13,
   "metadata": {},
   "outputs": [
    {
     "data": {
      "text/html": [
       "<div>\n",
       "<style scoped>\n",
       "    .dataframe tbody tr th:only-of-type {\n",
       "        vertical-align: middle;\n",
       "    }\n",
       "\n",
       "    .dataframe tbody tr th {\n",
       "        vertical-align: top;\n",
       "    }\n",
       "\n",
       "    .dataframe thead th {\n",
       "        text-align: right;\n",
       "    }\n",
       "</style>\n",
       "<table border=\"1\" class=\"dataframe\">\n",
       "  <thead>\n",
       "    <tr style=\"text-align: right;\">\n",
       "      <th></th>\n",
       "      <th>num_young_drivers</th>\n",
       "      <th>age</th>\n",
       "      <th>num_of_children</th>\n",
       "      <th>years_job_held_for</th>\n",
       "      <th>income</th>\n",
       "      <th>single_parent</th>\n",
       "      <th>value_of_home</th>\n",
       "      <th>married</th>\n",
       "      <th>gender</th>\n",
       "      <th>highest_education</th>\n",
       "      <th>occupation</th>\n",
       "      <th>commute_dist</th>\n",
       "      <th>type_of_use</th>\n",
       "      <th>vehicle_value</th>\n",
       "      <th>policy_tenure</th>\n",
       "      <th>vehicle_type</th>\n",
       "      <th>red_vehicle</th>\n",
       "      <th>5_year_total_claims_value</th>\n",
       "      <th>5_year_num_of_claims</th>\n",
       "      <th>licence_revoked</th>\n",
       "      <th>license_points</th>\n",
       "      <th>new_claim_value</th>\n",
       "      <th>vehicle_age</th>\n",
       "      <th>is_claim</th>\n",
       "      <th>address_type</th>\n",
       "    </tr>\n",
       "  </thead>\n",
       "  <tbody>\n",
       "    <tr>\n",
       "      <th>0</th>\n",
       "      <td>0</td>\n",
       "      <td>60.0</td>\n",
       "      <td>0</td>\n",
       "      <td>11.0</td>\n",
       "      <td>67349</td>\n",
       "      <td>No</td>\n",
       "      <td>0</td>\n",
       "      <td>No</td>\n",
       "      <td>M</td>\n",
       "      <td>PhD</td>\n",
       "      <td>Professional</td>\n",
       "      <td>14</td>\n",
       "      <td>Private</td>\n",
       "      <td>14230</td>\n",
       "      <td>11</td>\n",
       "      <td>Minivan</td>\n",
       "      <td>yes</td>\n",
       "      <td>4461</td>\n",
       "      <td>2</td>\n",
       "      <td>No</td>\n",
       "      <td>3</td>\n",
       "      <td>0</td>\n",
       "      <td>18.0</td>\n",
       "      <td>0</td>\n",
       "      <td>Highly Urban/ Urban</td>\n",
       "    </tr>\n",
       "    <tr>\n",
       "      <th>1</th>\n",
       "      <td>0</td>\n",
       "      <td>43.0</td>\n",
       "      <td>0</td>\n",
       "      <td>11.0</td>\n",
       "      <td>91449</td>\n",
       "      <td>No</td>\n",
       "      <td>257252</td>\n",
       "      <td>No</td>\n",
       "      <td>M</td>\n",
       "      <td>High School</td>\n",
       "      <td>Blue Collar</td>\n",
       "      <td>22</td>\n",
       "      <td>Commercial</td>\n",
       "      <td>14940</td>\n",
       "      <td>1</td>\n",
       "      <td>Minivan</td>\n",
       "      <td>yes</td>\n",
       "      <td>0</td>\n",
       "      <td>0</td>\n",
       "      <td>No</td>\n",
       "      <td>0</td>\n",
       "      <td>0</td>\n",
       "      <td>1.0</td>\n",
       "      <td>0</td>\n",
       "      <td>Highly Urban/ Urban</td>\n",
       "    </tr>\n",
       "    <tr>\n",
       "      <th>2</th>\n",
       "      <td>0</td>\n",
       "      <td>48.0</td>\n",
       "      <td>0</td>\n",
       "      <td>11.0</td>\n",
       "      <td>52881</td>\n",
       "      <td>No</td>\n",
       "      <td>0</td>\n",
       "      <td>No</td>\n",
       "      <td>M</td>\n",
       "      <td>Bachelors</td>\n",
       "      <td>Manager</td>\n",
       "      <td>26</td>\n",
       "      <td>Private</td>\n",
       "      <td>21970</td>\n",
       "      <td>1</td>\n",
       "      <td>Van</td>\n",
       "      <td>yes</td>\n",
       "      <td>0</td>\n",
       "      <td>0</td>\n",
       "      <td>No</td>\n",
       "      <td>2</td>\n",
       "      <td>0</td>\n",
       "      <td>10.0</td>\n",
       "      <td>0</td>\n",
       "      <td>Highly Urban/ Urban</td>\n",
       "    </tr>\n",
       "    <tr>\n",
       "      <th>3</th>\n",
       "      <td>0</td>\n",
       "      <td>35.0</td>\n",
       "      <td>1</td>\n",
       "      <td>10.0</td>\n",
       "      <td>16039</td>\n",
       "      <td>No</td>\n",
       "      <td>124191</td>\n",
       "      <td>Yes</td>\n",
       "      <td>F</td>\n",
       "      <td>High School</td>\n",
       "      <td>Clerical</td>\n",
       "      <td>5</td>\n",
       "      <td>Private</td>\n",
       "      <td>4010</td>\n",
       "      <td>4</td>\n",
       "      <td>SUV</td>\n",
       "      <td>no</td>\n",
       "      <td>38690</td>\n",
       "      <td>2</td>\n",
       "      <td>No</td>\n",
       "      <td>3</td>\n",
       "      <td>0</td>\n",
       "      <td>10.0</td>\n",
       "      <td>0</td>\n",
       "      <td>Highly Urban/ Urban</td>\n",
       "    </tr>\n",
       "    <tr>\n",
       "      <th>4</th>\n",
       "      <td>0</td>\n",
       "      <td>51.0</td>\n",
       "      <td>0</td>\n",
       "      <td>14.0</td>\n",
       "      <td>&lt;NA&gt;</td>\n",
       "      <td>No</td>\n",
       "      <td>306251</td>\n",
       "      <td>Yes</td>\n",
       "      <td>M</td>\n",
       "      <td>&lt;High School</td>\n",
       "      <td>Blue Collar</td>\n",
       "      <td>32</td>\n",
       "      <td>Private</td>\n",
       "      <td>15440</td>\n",
       "      <td>7</td>\n",
       "      <td>Minivan</td>\n",
       "      <td>yes</td>\n",
       "      <td>0</td>\n",
       "      <td>0</td>\n",
       "      <td>No</td>\n",
       "      <td>0</td>\n",
       "      <td>0</td>\n",
       "      <td>6.0</td>\n",
       "      <td>0</td>\n",
       "      <td>Highly Urban/ Urban</td>\n",
       "    </tr>\n",
       "  </tbody>\n",
       "</table>\n",
       "</div>"
      ],
      "text/plain": [
       "   num_young_drivers   age  num_of_children  years_job_held_for  income  \\\n",
       "0                  0  60.0                0                11.0   67349   \n",
       "1                  0  43.0                0                11.0   91449   \n",
       "2                  0  48.0                0                11.0   52881   \n",
       "3                  0  35.0                1                10.0   16039   \n",
       "4                  0  51.0                0                14.0    <NA>   \n",
       "\n",
       "  single_parent  value_of_home married gender highest_education    occupation  \\\n",
       "0            No              0      No      M               PhD  Professional   \n",
       "1            No         257252      No      M       High School   Blue Collar   \n",
       "2            No              0      No      M         Bachelors       Manager   \n",
       "3            No         124191     Yes      F       High School      Clerical   \n",
       "4            No         306251     Yes      M      <High School   Blue Collar   \n",
       "\n",
       "   commute_dist type_of_use  vehicle_value  policy_tenure vehicle_type  \\\n",
       "0            14     Private          14230             11      Minivan   \n",
       "1            22  Commercial          14940              1      Minivan   \n",
       "2            26     Private          21970              1          Van   \n",
       "3             5     Private           4010              4          SUV   \n",
       "4            32     Private          15440              7      Minivan   \n",
       "\n",
       "  red_vehicle  5_year_total_claims_value  5_year_num_of_claims  \\\n",
       "0         yes                       4461                     2   \n",
       "1         yes                          0                     0   \n",
       "2         yes                          0                     0   \n",
       "3          no                      38690                     2   \n",
       "4         yes                          0                     0   \n",
       "\n",
       "  licence_revoked  license_points  new_claim_value  vehicle_age  is_claim  \\\n",
       "0              No               3                0         18.0         0   \n",
       "1              No               0                0          1.0         0   \n",
       "2              No               2                0         10.0         0   \n",
       "3              No               3                0         10.0         0   \n",
       "4              No               0                0          6.0         0   \n",
       "\n",
       "          address_type  \n",
       "0  Highly Urban/ Urban  \n",
       "1  Highly Urban/ Urban  \n",
       "2  Highly Urban/ Urban  \n",
       "3  Highly Urban/ Urban  \n",
       "4  Highly Urban/ Urban  "
      ]
     },
     "execution_count": 13,
     "metadata": {},
     "output_type": "execute_result"
    }
   ],
   "source": [
    "data_df.head()"
   ]
  },
  {
   "cell_type": "code",
   "execution_count": 14,
   "metadata": {},
   "outputs": [],
   "source": [
    "# Define bins\n",
    "bins = [0.0, 5000, 10_000, 15_000, 20_000, 25_000, 30_000, 35_000, 40_000, 45_000, 50_000, np.inf]\n",
    "# Define bin labels\n",
    "labels = np.arange(1, 12)\n",
    "\n",
    "# Apply the bins using cut\n",
    "data_df['claim_value_cat'] = pd.cut(data_df['new_claim_value'], bins = bins, labels= labels, include_lowest=True)"
   ]
  },
  {
   "cell_type": "code",
   "execution_count": 15,
   "metadata": {},
   "outputs": [],
   "source": [
    "cols_to_drop = [\n",
    "    'red_vehicle',\n",
    "]\n",
    "\n",
    "numerical_cols = ['num_young_drivers',\n",
    " 'age',\n",
    " 'num_of_children',\n",
    " 'years_job_held_for',\n",
    " 'income',\n",
    " 'value_of_home',\n",
    " 'commute_dist',\n",
    " 'vehicle_value',\n",
    " 'policy_tenure',\n",
    " '5_year_total_claims_value',\n",
    " '5_year_num_of_claims',\n",
    " 'license_points',\n",
    " 'vehicle_age']\n",
    "\n",
    "# Define ordinal features\n",
    "cat_cols_ord = ['highest_education']\n",
    "# Define binary features\n",
    "cat_cols_bin = ['single_parent', 'married', 'gender', 'type_of_use', 'licence_revoked', 'address_type']\n",
    "# Define one-hot features\n",
    "cat_cols_one_hot = ['occupation', 'vehicle_type']"
   ]
  },
  {
   "cell_type": "markdown",
   "metadata": {},
   "source": [
    "# MODEL PIPELINE"
   ]
  },
  {
   "cell_type": "code",
   "execution_count": 16,
   "metadata": {},
   "outputs": [],
   "source": [
    "# Custom transformer to drop specified columns\n",
    "class ColumnDropper(BaseEstimator, TransformerMixin):\n",
    "    def __init__(self, columns_to_drop):\n",
    "        self.columns_to_drop = columns_to_drop\n",
    "    \n",
    "    def fit(self, X, y=None):\n",
    "        return self\n",
    "    \n",
    "    def transform(self, X):\n",
    "        return X.drop(columns=self.columns_to_drop)\n",
    "    \n",
    "    def get_feature_names_out(self, input_features=None):\n",
    "        return None"
   ]
  },
  {
   "cell_type": "code",
   "execution_count": 17,
   "metadata": {},
   "outputs": [],
   "source": [
    "class SqrtTransformer(BaseEstimator, TransformerMixin):\n",
    "    def __init__(self, columns_to_transform):\n",
    "        self.columns_to_transform = columns_to_transform\n",
    "    \n",
    "    def fit(self, X, y=None):\n",
    "        return self\n",
    "    \n",
    "    def transform(self, X):\n",
    "        X[self.columns_to_transform] = np.sqrt(X[self.columns_to_transform])\n",
    "        return X\n",
    "\n",
    "    def get_feature_names_out(self, input_features=None):\n",
    "        return input_features"
   ]
  },
  {
   "cell_type": "code",
   "execution_count": 18,
   "metadata": {},
   "outputs": [],
   "source": [
    "from sklearn import set_config\n",
    "\n",
    "# Set transformer output to df so we can reference columns names\n",
    "set_config(transform_output='pandas')"
   ]
  },
  {
   "cell_type": "code",
   "execution_count": 19,
   "metadata": {},
   "outputs": [],
   "source": [
    "# Define column dropper pipeline\n",
    "cols_to_drop_pipeline = Pipeline([\n",
    "    ('col_dropper', ColumnDropper(cols_to_drop))\n",
    "])\n",
    "\n",
    "skewed_features = ['income', 'value_of_home', 'commute_dist', 'vehicle_value', 'policy_tenure', 'license_points']\n",
    "\n",
    "# Define numerical feature pipeline\n",
    "num_pipeline = Pipeline([\n",
    "    ('knn_imputer', KNNImputer(n_neighbors=2)),\n",
    "    ('sqrt', SqrtTransformer(skewed_features)),\n",
    "    ('scaler', StandardScaler()),\n",
    "])\n",
    "\n",
    "# Define rank of education levels\n",
    "education_rank = [['<High School', 'High School', 'Bachelors', 'Masters', 'PhD']]\n",
    "\n",
    "# Define ordinal categorical feature pipeline (highest_education feature)\n",
    "cat_ord_pipeline = Pipeline([\n",
    "    ('simple_imputer', SimpleImputer(strategy='most_frequent')),\n",
    "    ('ord_encoder', OrdinalEncoder(categories=education_rank)),\n",
    "])\n",
    "\n",
    "# Define binary categorical feature pipeline\n",
    "cat_bin_pipeline = Pipeline([\n",
    "    ('simple_imputer', SimpleImputer(strategy='most_frequent')),\n",
    "    ('binary_encoder', OrdinalEncoder()),\n",
    "])\n",
    "\n",
    "# Define one-hot categorical feature pipeline\n",
    "cat_one_hot_pipeline = Pipeline([\n",
    "    ('cat_simple_imputer', SimpleImputer(strategy='most_frequent')),\n",
    "    ('one_hot_encoder', OneHotEncoder(handle_unknown='ignore', sparse_output=False, drop='first')),\n",
    "])\n",
    "\n",
    "# Define preprocessing pipeline with a column transformer\n",
    "preprocess_pipeline = ColumnTransformer([\n",
    "    ('drop_features', cols_to_drop_pipeline, cols_to_drop),\n",
    "    ('num', num_pipeline, numerical_cols),\n",
    "    ('cat_ord', cat_ord_pipeline, cat_cols_ord),\n",
    "    ('cat_bin', cat_bin_pipeline, cat_cols_bin),\n",
    "    ('cat_one_hot', cat_one_hot_pipeline, cat_cols_one_hot),\n",
    "])"
   ]
  },
  {
   "cell_type": "code",
   "execution_count": 20,
   "metadata": {},
   "outputs": [],
   "source": [
    "X = data_df.copy()\n",
    "y = data_df['is_claim']\n",
    "\n",
    "# Drop the target feature\n",
    "X.drop(columns=['new_claim_value','is_claim'], inplace=True)\n",
    "\n",
    "# Create train/test split\n",
    "X_train, X_test, y_train, y_test = train_test_split(X, y, test_size=0.2, random_state=42, stratify=X['claim_value_cat'])"
   ]
  },
  {
   "cell_type": "code",
   "execution_count": 21,
   "metadata": {},
   "outputs": [],
   "source": [
    "# Use the same pipeline as the classifier model to preprocess X train\n",
    "X_train_prepared = preprocess_pipeline.fit_transform(X_train)"
   ]
  },
  {
   "cell_type": "code",
   "execution_count": null,
   "metadata": {},
   "outputs": [],
   "source": [
    "kf = KFold(n_splits=10, shuffle=True, random_state=42)\n",
    "\n",
    "name, clf =  ('XGBoost', XGBClassifier(random_state=0))"
   ]
  },
  {
   "cell_type": "code",
   "execution_count": null,
   "metadata": {},
   "outputs": [
    {
     "name": "stdout",
     "output_type": "stream",
     "text": [
      "('XGBoost', 0.7672991505941971)\n"
     ]
    }
   ],
   "source": [
    "clf.fit(X_train_prepared, y_train)\n",
    "X_test_prepared = preprocess_pipeline.fit_transform(X_test)\n",
    "y_pred = clf.predict(X_test_prepared)\n",
    "perf_tuple = (name, f1_score(y_test, y_pred, average='weighted'))\n",
    "print(perf_tuple)"
   ]
  },
  {
   "cell_type": "markdown",
   "metadata": {},
   "source": [
    "Now, we check whether using Advance feature transformation techniques like RFE and VIF changes any accuracy scores of the model."
   ]
  },
  {
   "cell_type": "markdown",
   "metadata": {},
   "source": [
    "First, we will use RFE to decide which feature to eliminate and we will use decision tree classifier to reduce the run time "
   ]
  },
  {
   "cell_type": "code",
   "execution_count": 22,
   "metadata": {},
   "outputs": [],
   "source": [
    "rfe = RFE(\n",
    "estimator=DecisionTreeClassifier(),\n",
    "n_features_to_select=10\n",
    ")\n",
    "\n",
    "pipe = Pipeline([('rfe',rfe)])\n",
    "transformed_df_rfe = pipe.fit_transform(X_train_prepared, y_train)\n",
    "support = pipe.named_steps['rfe'].support_\n",
    "drop_cols_rfe = list(X_train_prepared.columns[support])"
   ]
  },
  {
   "cell_type": "code",
   "execution_count": null,
   "metadata": {},
   "outputs": [
    {
     "data": {
      "text/plain": [
       "['num__age',\n",
       " 'num__years_job_held_for',\n",
       " 'num__income',\n",
       " 'num__value_of_home',\n",
       " 'num__commute_dist',\n",
       " 'num__vehicle_value',\n",
       " 'num__policy_tenure',\n",
       " 'num__5_year_total_claims_value',\n",
       " 'num__license_points',\n",
       " 'num__vehicle_age']"
      ]
     },
     "execution_count": 44,
     "metadata": {},
     "output_type": "execute_result"
    }
   ],
   "source": [
    "drop_cols_rfe"
   ]
  },
  {
   "cell_type": "code",
   "execution_count": null,
   "metadata": {},
   "outputs": [],
   "source": [
    "X_train_rfe = X_train_prepared.drop(['num__age',\n",
    " 'num__years_job_held_for',\n",
    " 'num__income',\n",
    " 'num__value_of_home',\n",
    " 'num__commute_dist',\n",
    " 'num__vehicle_value',\n",
    " 'num__policy_tenure',\n",
    " 'num__5_year_total_claims_value',\n",
    " 'num__license_points',\n",
    " 'num__vehicle_age'], axis=1)"
   ]
  },
  {
   "cell_type": "code",
   "execution_count": null,
   "metadata": {},
   "outputs": [],
   "source": [
    "X_test_rfe = X_test_prepared.drop(['num__age',\n",
    " 'num__years_job_held_for',\n",
    " 'num__income',\n",
    " 'num__value_of_home',\n",
    " 'num__commute_dist',\n",
    " 'num__vehicle_value',\n",
    " 'num__policy_tenure',\n",
    " 'num__5_year_total_claims_value',\n",
    " 'num__license_points',\n",
    " 'num__vehicle_age'], axis=1)"
   ]
  },
  {
   "cell_type": "code",
   "execution_count": null,
   "metadata": {},
   "outputs": [
    {
     "name": "stdout",
     "output_type": "stream",
     "text": [
      "('XGBoost', 0.7442920713355535)\n"
     ]
    }
   ],
   "source": [
    "clf.fit(X_train_rfe, y_train)\n",
    "# X_test_rfe = preprocess_pipeline.fit_transform(X_test_rfe)\n",
    "y_pred = clf.predict(X_test_rfe)\n",
    "perf_tuple = (name, f1_score(y_test, y_pred, average='weighted'))\n",
    "print(perf_tuple)"
   ]
  },
  {
   "cell_type": "markdown",
   "metadata": {},
   "source": [
    "The f1 score has come down from 76.73% to 74.43% that means there is negative impact on using RFE on this dataset"
   ]
  },
  {
   "cell_type": "markdown",
   "metadata": {},
   "source": [
    "Now, we will try to apply VIF."
   ]
  },
  {
   "cell_type": "markdown",
   "metadata": {},
   "source": [
    "# Variance Inflation Factor"
   ]
  },
  {
   "cell_type": "markdown",
   "metadata": {},
   "source": [
    "Purpose:\n",
    "- VIF is a statistical measure used to detect multicollinearity among independent variables in regression models."
   ]
  },
  {
   "cell_type": "markdown",
   "metadata": {},
   "source": [
    "How It Works:\n",
    "\n",
    "- For each feature, compute a regression where that feature is the dependent variable, and the rest are independent variables.\n",
    "- Calculate the R-square value for the regression.\n",
    "- Compute VIF using the formula:\n",
    "    (VIF)i = 1/(1-Riˆ2)"
   ]
  },
  {
   "cell_type": "markdown",
   "metadata": {},
   "source": [
    "Interpreting VIF:\n",
    "- VIF = 1: No multicollinearity.\n",
    "- VIF > 5: Moderate multicollinearity (thresholds vary, but common cutoff is 5 or 10).\n",
    "- VIF > 10: High multicollinearity, problematic.\n"
   ]
  },
  {
   "cell_type": "markdown",
   "metadata": {},
   "source": [
    "Use Cases:\n",
    "- To identify and address multicollinearity in linear regression models."
   ]
  },
  {
   "cell_type": "markdown",
   "metadata": {},
   "source": [
    "Advantages:\n",
    "- Easy to calculate.\n",
    "- Helps improve regression model interpretability."
   ]
  },
  {
   "cell_type": "markdown",
   "metadata": {},
   "source": [
    "Limitations:\n",
    "- Only applicable to linear models.\n",
    "- Doesn't evaluate the relationship between features and the target variable, only among features."
   ]
  },
  {
   "cell_type": "code",
   "execution_count": 24,
   "metadata": {},
   "outputs": [],
   "source": [
    "def calc_vif(df):\n",
    "    df_cols = df.columns\n",
    "    vif_values = [\n",
    "        variance_inflation_factor(df.values, i) for i in range(len(df_cols))\n",
    "        ]\n",
    "    return pd.DataFrame(zip(df_cols, vif_values),columns=['Variable','VIF'])"
   ]
  },
  {
   "cell_type": "code",
   "execution_count": 25,
   "metadata": {},
   "outputs": [
    {
     "data": {
      "text/html": [
       "<div>\n",
       "<style scoped>\n",
       "    .dataframe tbody tr th:only-of-type {\n",
       "        vertical-align: middle;\n",
       "    }\n",
       "\n",
       "    .dataframe tbody tr th {\n",
       "        vertical-align: top;\n",
       "    }\n",
       "\n",
       "    .dataframe thead th {\n",
       "        text-align: right;\n",
       "    }\n",
       "</style>\n",
       "<table border=\"1\" class=\"dataframe\">\n",
       "  <thead>\n",
       "    <tr style=\"text-align: right;\">\n",
       "      <th></th>\n",
       "      <th>Variable</th>\n",
       "      <th>VIF</th>\n",
       "    </tr>\n",
       "  </thead>\n",
       "  <tbody>\n",
       "    <tr>\n",
       "      <th>0</th>\n",
       "      <td>num__num_young_drivers</td>\n",
       "      <td>1.315863</td>\n",
       "    </tr>\n",
       "    <tr>\n",
       "      <th>1</th>\n",
       "      <td>num__age</td>\n",
       "      <td>1.450899</td>\n",
       "    </tr>\n",
       "    <tr>\n",
       "      <th>2</th>\n",
       "      <td>num__num_of_children</td>\n",
       "      <td>2.027072</td>\n",
       "    </tr>\n",
       "    <tr>\n",
       "      <th>3</th>\n",
       "      <td>num__years_job_held_for</td>\n",
       "      <td>1.521501</td>\n",
       "    </tr>\n",
       "    <tr>\n",
       "      <th>4</th>\n",
       "      <td>num__income</td>\n",
       "      <td>2.742351</td>\n",
       "    </tr>\n",
       "    <tr>\n",
       "      <th>5</th>\n",
       "      <td>num__value_of_home</td>\n",
       "      <td>1.870488</td>\n",
       "    </tr>\n",
       "    <tr>\n",
       "      <th>6</th>\n",
       "      <td>num__commute_dist</td>\n",
       "      <td>1.010240</td>\n",
       "    </tr>\n",
       "    <tr>\n",
       "      <th>7</th>\n",
       "      <td>num__vehicle_value</td>\n",
       "      <td>1.806091</td>\n",
       "    </tr>\n",
       "    <tr>\n",
       "      <th>8</th>\n",
       "      <td>num__policy_tenure</td>\n",
       "      <td>1.005262</td>\n",
       "    </tr>\n",
       "    <tr>\n",
       "      <th>9</th>\n",
       "      <td>num__5_year_total_claims_value</td>\n",
       "      <td>1.675245</td>\n",
       "    </tr>\n",
       "    <tr>\n",
       "      <th>10</th>\n",
       "      <td>num__5_year_num_of_claims</td>\n",
       "      <td>1.518762</td>\n",
       "    </tr>\n",
       "    <tr>\n",
       "      <th>11</th>\n",
       "      <td>num__license_points</td>\n",
       "      <td>1.191517</td>\n",
       "    </tr>\n",
       "    <tr>\n",
       "      <th>12</th>\n",
       "      <td>num__vehicle_age</td>\n",
       "      <td>1.384558</td>\n",
       "    </tr>\n",
       "    <tr>\n",
       "      <th>13</th>\n",
       "      <td>cat_bin__single_parent</td>\n",
       "      <td>1.887422</td>\n",
       "    </tr>\n",
       "    <tr>\n",
       "      <th>14</th>\n",
       "      <td>cat_bin__married</td>\n",
       "      <td>3.996520</td>\n",
       "    </tr>\n",
       "    <tr>\n",
       "      <th>15</th>\n",
       "      <td>cat_bin__gender</td>\n",
       "      <td>3.310700</td>\n",
       "    </tr>\n",
       "    <tr>\n",
       "      <th>16</th>\n",
       "      <td>cat_bin__licence_revoked</td>\n",
       "      <td>1.439666</td>\n",
       "    </tr>\n",
       "    <tr>\n",
       "      <th>17</th>\n",
       "      <td>cat_one_hot__occupation_Clerical</td>\n",
       "      <td>1.620649</td>\n",
       "    </tr>\n",
       "    <tr>\n",
       "      <th>18</th>\n",
       "      <td>cat_one_hot__occupation_Doctor</td>\n",
       "      <td>1.200680</td>\n",
       "    </tr>\n",
       "    <tr>\n",
       "      <th>19</th>\n",
       "      <td>cat_one_hot__occupation_Home Maker</td>\n",
       "      <td>1.818677</td>\n",
       "    </tr>\n",
       "    <tr>\n",
       "      <th>20</th>\n",
       "      <td>cat_one_hot__occupation_Lawyer</td>\n",
       "      <td>1.512771</td>\n",
       "    </tr>\n",
       "    <tr>\n",
       "      <th>21</th>\n",
       "      <td>cat_one_hot__occupation_Manager</td>\n",
       "      <td>1.407135</td>\n",
       "    </tr>\n",
       "    <tr>\n",
       "      <th>22</th>\n",
       "      <td>cat_one_hot__occupation_Professional</td>\n",
       "      <td>1.376922</td>\n",
       "    </tr>\n",
       "    <tr>\n",
       "      <th>23</th>\n",
       "      <td>cat_one_hot__occupation_Student</td>\n",
       "      <td>2.045095</td>\n",
       "    </tr>\n",
       "    <tr>\n",
       "      <th>24</th>\n",
       "      <td>cat_one_hot__vehicle_type_Panel Truck</td>\n",
       "      <td>1.844990</td>\n",
       "    </tr>\n",
       "    <tr>\n",
       "      <th>25</th>\n",
       "      <td>cat_one_hot__vehicle_type_Pickup</td>\n",
       "      <td>1.520831</td>\n",
       "    </tr>\n",
       "    <tr>\n",
       "      <th>26</th>\n",
       "      <td>cat_one_hot__vehicle_type_SUV</td>\n",
       "      <td>2.235949</td>\n",
       "    </tr>\n",
       "    <tr>\n",
       "      <th>27</th>\n",
       "      <td>cat_one_hot__vehicle_type_Sports Car</td>\n",
       "      <td>1.596871</td>\n",
       "    </tr>\n",
       "    <tr>\n",
       "      <th>28</th>\n",
       "      <td>cat_one_hot__vehicle_type_Van</td>\n",
       "      <td>1.454971</td>\n",
       "    </tr>\n",
       "  </tbody>\n",
       "</table>\n",
       "</div>"
      ],
      "text/plain": [
       "                                 Variable       VIF\n",
       "0                  num__num_young_drivers  1.315863\n",
       "1                                num__age  1.450899\n",
       "2                    num__num_of_children  2.027072\n",
       "3                 num__years_job_held_for  1.521501\n",
       "4                             num__income  2.742351\n",
       "5                      num__value_of_home  1.870488\n",
       "6                       num__commute_dist  1.010240\n",
       "7                      num__vehicle_value  1.806091\n",
       "8                      num__policy_tenure  1.005262\n",
       "9          num__5_year_total_claims_value  1.675245\n",
       "10              num__5_year_num_of_claims  1.518762\n",
       "11                    num__license_points  1.191517\n",
       "12                       num__vehicle_age  1.384558\n",
       "13                 cat_bin__single_parent  1.887422\n",
       "14                       cat_bin__married  3.996520\n",
       "15                        cat_bin__gender  3.310700\n",
       "16               cat_bin__licence_revoked  1.439666\n",
       "17       cat_one_hot__occupation_Clerical  1.620649\n",
       "18         cat_one_hot__occupation_Doctor  1.200680\n",
       "19     cat_one_hot__occupation_Home Maker  1.818677\n",
       "20         cat_one_hot__occupation_Lawyer  1.512771\n",
       "21        cat_one_hot__occupation_Manager  1.407135\n",
       "22   cat_one_hot__occupation_Professional  1.376922\n",
       "23        cat_one_hot__occupation_Student  2.045095\n",
       "24  cat_one_hot__vehicle_type_Panel Truck  1.844990\n",
       "25       cat_one_hot__vehicle_type_Pickup  1.520831\n",
       "26          cat_one_hot__vehicle_type_SUV  2.235949\n",
       "27   cat_one_hot__vehicle_type_Sports Car  1.596871\n",
       "28          cat_one_hot__vehicle_type_Van  1.454971"
      ]
     },
     "metadata": {},
     "output_type": "display_data"
    }
   ],
   "source": [
    "vif_df = calc_vif(X_train_prepared)\n",
    "drop_cols_vif = vif_df.loc[vif_df['VIF']>5]['Variable'].values\n",
    "transformed_df_rfe_vif = X_train_prepared.drop(drop_cols_vif,axis=1)\n",
    "display(calc_vif(transformed_df_rfe_vif))"
   ]
  },
  {
   "cell_type": "code",
   "execution_count": 26,
   "metadata": {},
   "outputs": [
    {
     "data": {
      "text/plain": [
       "['cat_ord__highest_education', 'cat_bin__type_of_use', 'cat_bin__address_type']"
      ]
     },
     "execution_count": 26,
     "metadata": {},
     "output_type": "execute_result"
    }
   ],
   "source": [
    "list(drop_cols_vif)"
   ]
  },
  {
   "cell_type": "code",
   "execution_count": 42,
   "metadata": {},
   "outputs": [],
   "source": [
    "X_train_VIF = X_train_prepared.drop(['cat_ord__highest_education', 'cat_bin__type_of_use', 'cat_bin__address_type'],axis =1)\n",
    "X_test_VIF = X_test_prepared.drop(['cat_ord__highest_education', 'cat_bin__type_of_use', 'cat_bin__address_type'],axis =1)"
   ]
  },
  {
   "cell_type": "code",
   "execution_count": 43,
   "metadata": {},
   "outputs": [
    {
     "name": "stdout",
     "output_type": "stream",
     "text": [
      "('XGBoost', 0.7373420130501036)\n"
     ]
    }
   ],
   "source": [
    "clf.fit(X_train_VIF, y_train)\n",
    "y_pred = clf.predict(X_test_VIF)\n",
    "perf_tuple = (name, f1_score(y_test, y_pred, average='weighted'))\n",
    "print(perf_tuple)"
   ]
  },
  {
   "cell_type": "markdown",
   "metadata": {},
   "source": [
    "The f-1 Score is this case has also dropped significantly, This means we cannot use VIF also for this dataset."
   ]
  },
  {
   "cell_type": "markdown",
   "metadata": {},
   "source": [
    "# When to Use RFE vs. VIF"
   ]
  },
  {
   "cell_type": "markdown",
   "metadata": {},
   "source": [
    "\n",
    "Use RFE when:\n",
    "\n",
    "- Your goal is to select the best predictive features for a machine learning model.\n",
    "- You are working with non-linear models or need model-dependent feature importance.\n",
    "\n",
    "Use VIF when:\n",
    "\n",
    "- You are building a linear regression model and want to detect and handle multicollinearity.\n",
    "- You need a simple, statistical measure of feature redundancy.\n"
   ]
  },
  {
   "cell_type": "markdown",
   "metadata": {},
   "source": [
    "## Both methods can complement each other. For example, you might first use VIF to remove multicollinear features and then apply RFE to select the most predictive ones."
   ]
  },
  {
   "cell_type": "markdown",
   "metadata": {},
   "source": [
    "It’s not uncommon for RFE (Recursive Feature Elimination) and VIF (Variance Inflation Factor) to suggest different columns to drop, as they are fundamentally different methods with distinct purposes and approaches. Here's why they might give different results:\n",
    "\n",
    "1. Different Objectives:\n",
    "\n",
    "- RFE: Focuses on the relationship between features and the target variable. It aims to identify the features that are most predictive of the target.\n",
    "- VIF: Focuses on the relationship among the independent features. It identifies multicollinearity and highlights features that may distort model interpretability but not necessarily affect the target variable directly.\n",
    "\n",
    "Reason for Different Results:\n",
    "RFE might retain features with high multicollinearity (high VIF) because they have strong predictive power for the target, while VIF would suggest removing them to address multicollinearity.\n",
    "\n",
    "2. Dependence on the Model in RFE:\n",
    "\n",
    "- RFE is a model-dependent method. The importance of features is determined based on the specific algorithm used (e.g., linear regression, random forest, etc.). Different algorithms may rank feature importance differently, leading to a different set of features selected by RFE.\n",
    "\n",
    "- Reason for Different Results:\n",
    "The feature rankings in RFE depend on the model's biases and the algorithm's ability to handle multicollinearity. For instance:\n",
    "    - Tree-based models (e.g., random forest) are less sensitive to multicollinearity and may select features that VIF suggests dropping.\n",
    "    - Linear models in RFE are more likely to align with VIF results because both are sensitive to multicollinearity.\n",
    "\n",
    "3. Multicollinearity's Role:\n",
    "\n",
    "- RFE: Multicollinearity may not be a concern unless it directly affects the model's predictive performance. A highly correlated feature might still be retained if it contributes significantly to the target prediction.\n",
    "- VIF: Treats multicollinearity as a red flag. Even if a feature is important for prediction, it will be flagged for removal if it is highly correlated with others.\n",
    "\n",
    "Reason for Different Results:\n",
    "A feature might be useful for prediction (retained by RFE) but redundant due to high correlation with another feature (flagged by VIF).\n",
    "\n",
    "4. Thresholds and Criteria:\n",
    "\n",
    "- RFE: Drops features based on feature importance rankings and the number of features specified for selection.\n",
    "- VIF: Drops features based on a threshold for multicollinearity (e.g., VIF > 5 or 10).\n",
    "\n",
    "Reason for Different Results:\n",
    "* The criteria for dropping features are not directly comparable, as RFE focuses on target prediction and VIF on feature redundancy.\n",
    "\n",
    "5. Scale of Data:\n",
    "\n",
    "- RFE: Model performance might be affected if features are not scaled appropriately (e.g., for models like linear regression or SVM).\n",
    "- VIF: Works purely on correlation, and scaling doesn't affect VIF values.\n",
    "\n",
    "Reason for Different Results:\n",
    "* Unscaled data might impact RFE results but leave VIF unaffected, leading to discrepancies.\n"
   ]
  },
  {
   "cell_type": "markdown",
   "metadata": {},
   "source": [
    "# Which One to Trust?\n",
    "-> If your goal is prediction: Focus on RFE, as it selects features based on their ability to predict the target variable.\n",
    "\n",
    "-> If your goal is interpretation: Focus on VIF, as it ensures the model is interpretable by removing redundant features.\n"
   ]
  },
  {
   "cell_type": "markdown",
   "metadata": {},
   "source": [
    "We now use another dataset and find out the effects of RFE and VIF individually and use to compare them to original method and evaluate their performance"
   ]
  },
  {
   "cell_type": "code",
   "execution_count": 48,
   "metadata": {},
   "outputs": [
    {
     "name": "stdout",
     "output_type": "stream",
     "text": [
      "RFE Selected Features:\n",
      "Index(['MedInc', 'AveRooms', 'AveBedrms', 'Latitude', 'Longitude'], dtype='object')\n",
      "RFE Model RMSE: 0.7528\n",
      "\n",
      "Initial VIF:\n",
      "      feature         VIF\n",
      "0      MedInc   11.831609\n",
      "1    HouseAge    7.155405\n",
      "2    AveRooms   46.792373\n",
      "3   AveBedrms   48.332634\n",
      "4  Population    2.915730\n",
      "5    AveOccup    1.080609\n",
      "6    Latitude  560.583263\n",
      "7   Longitude  641.224254\n",
      "Removing feature with high VIF: Longitude\n",
      "Removing feature with high VIF: AveBedrms\n",
      "Removing feature with high VIF: Latitude\n",
      "Removing feature with high VIF: AveRooms\n",
      "\n",
      "Final VIF:\n",
      "      feature       VIF\n",
      "0      MedInc  3.348454\n",
      "1    HouseAge  2.890335\n",
      "2  Population  2.068500\n",
      "3    AveOccup  1.079622\n",
      "VIF Model RMSE: 0.8122\n",
      "\n",
      "Comparison of RMSE:\n",
      "Original Model RMSE: 0.8122\n",
      "RFE Model RMSE: 0.7528\n",
      "VIF Model RMSE: 0.8122\n"
     ]
    }
   ],
   "source": [
    "# Import libraries\n",
    "import numpy as np\n",
    "import pandas as pd\n",
    "from sklearn.datasets import fetch_california_housing\n",
    "from sklearn.linear_model import LinearRegression\n",
    "from sklearn.feature_selection import RFE\n",
    "from statsmodels.stats.outliers_influence import variance_inflation_factor\n",
    "import statsmodels.api as sm\n",
    "from sklearn.model_selection import train_test_split\n",
    "from sklearn.metrics import mean_squared_error\n",
    "\n",
    "# Load the Boston housing dataset\n",
    "boston = fetch_california_housing(as_frame=True)\n",
    "X = pd.DataFrame(boston.data, columns=boston.feature_names)\n",
    "y = boston.target\n",
    "\n",
    "# Train-test split\n",
    "X_train, X_test, y_train, y_test = train_test_split(X, y, test_size=0.2, random_state=42)\n",
    "\n",
    "# ---- RFE ----\n",
    "# Initialize Linear Regression model\n",
    "lr = LinearRegression()\n",
    "\n",
    "# RFE: Select top 5 features\n",
    "selector = RFE(lr, n_features_to_select=5)\n",
    "selector = selector.fit(X_train, y_train)\n",
    "\n",
    "# Get selected features\n",
    "rfe_selected_features = X_train.columns[selector.support_]\n",
    "print(\"RFE Selected Features:\")\n",
    "print(rfe_selected_features)\n",
    "\n",
    "# Train model with RFE-selected features\n",
    "X_train_rfe = X_train[rfe_selected_features]\n",
    "X_test_rfe = X_test[rfe_selected_features]\n",
    "lr.fit(X_train_rfe, y_train)\n",
    "y_pred_rfe = lr.predict(X_test_rfe)\n",
    "rfe_rmse = np.sqrt(mean_squared_error(y_test, y_pred_rfe))\n",
    "print(f\"RFE Model RMSE: {rfe_rmse:.4f}\")\n",
    "\n",
    "# ---- VIF ----\n",
    "# Calculate VIF for each feature\n",
    "def calculate_vif(X):\n",
    "    vif_data = pd.DataFrame()\n",
    "    vif_data[\"feature\"] = X.columns\n",
    "    vif_data[\"VIF\"] = [variance_inflation_factor(X.values, i) for i in range(X.shape[1])]\n",
    "    return vif_data\n",
    "\n",
    "# Initial VIF calculation\n",
    "vif_df = calculate_vif(X_train)\n",
    "print(\"\\nInitial VIF:\")\n",
    "print(vif_df)\n",
    "\n",
    "# Remove features with high VIF (e.g., > 10)\n",
    "while vif_df[\"VIF\"].max() > 5:\n",
    "    high_vif_feature = vif_df.loc[vif_df[\"VIF\"].idxmax(), \"feature\"]\n",
    "    print(f\"Removing feature with high VIF: {high_vif_feature}\")\n",
    "    X_train = X_train.drop(columns=[high_vif_feature])\n",
    "    X_test = X_test.drop(columns=[high_vif_feature])\n",
    "    vif_df = calculate_vif(X_train)\n",
    "\n",
    "print(\"\\nFinal VIF:\")\n",
    "print(vif_df)\n",
    "\n",
    "# Train model with VIF-selected features\n",
    "lr.fit(X_train, y_train)\n",
    "y_pred_vif = lr.predict(X_test)\n",
    "vif_rmse = np.sqrt(mean_squared_error(y_test, y_pred_vif))\n",
    "print(f\"VIF Model RMSE: {vif_rmse:.4f}\")\n",
    "\n",
    "# ---- Compare RFE and VIF ----\n",
    "print(\"\\nComparison of RMSE:\")\n",
    "print(f\"Original Model RMSE: {np.sqrt(mean_squared_error(y_test, LinearRegression().fit(X_train, y_train).predict(X_test))):.4f}\")\n",
    "print(f\"RFE Model RMSE: {rfe_rmse:.4f}\")\n",
    "print(f\"VIF Model RMSE: {vif_rmse:.4f}\")\n"
   ]
  },
  {
   "cell_type": "code",
   "execution_count": null,
   "metadata": {},
   "outputs": [],
   "source": []
  }
 ],
 "metadata": {
  "kernelspec": {
   "display_name": "Python 3",
   "language": "python",
   "name": "python3"
  },
  "language_info": {
   "codemirror_mode": {
    "name": "ipython",
    "version": 3
   },
   "file_extension": ".py",
   "mimetype": "text/x-python",
   "name": "python",
   "nbconvert_exporter": "python",
   "pygments_lexer": "ipython3",
   "version": "3.10.0"
  }
 },
 "nbformat": 4,
 "nbformat_minor": 2
}
