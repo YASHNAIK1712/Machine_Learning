{
 "cells": [
  {
   "cell_type": "markdown",
   "metadata": {},
   "source": [
    "<p><img alt=\"Insight logo\" src=\"https://raw.githubusercontent.com/warazkhan/Data-Analysis-Project/main/favpng_fountain-pen-book-ballpoint-pen.png\" align=\"left\" hspace=\"25px\" vspace=\"25px\" width=\"100\" height=\"60\" ></p>\n",
    "\n",
    "<ul style=\"list-style-type:none;\">\n",
    "  <li style=\"font-weight: bold;font-family:Trebuchet MS;font-size:35px;font-style: italic;color:  red\">Highlights</li>\n",
    "</ul>\n",
    "\n",
    "<div class=\"alert alert-info\" role=\"alert\">\n",
    "<ul style=\"list-style-type:circle;font-family:Trebuchet MS;font-size:17px;color:black\">\n",
    "    <li>The aim of this project is to present a proper approach to the questioning of datasets while maintaining the main objective of extracting various interesting facts through EDA.</li>\n",
    "    <li>It uses <span style=\"color:#122ecc;\"> pandas, numpy, matplot, seaborn and numpy, sklearn.impute, plotly.express, plotly.graph_objects, plotly.subplots, plotly.io, scipy.stats, warnings, pio.renderers </span>libraries.</li>  \n",
    "</ul>\n",
    "</div>"
   ]
  },
  {
   "cell_type": "markdown",
   "metadata": {},
   "source": [
    "<center><img alt=\"Insight logo\" src=\"https://raw.githubusercontent.com/warazkhan/CarInssurance-DataAnalysis/main/carInssuranceClaimGif.gif\" align=\"center\" hspace=\"10px\" vspace=\"10px\" width=80% height=100% ></center>"
   ]
  },
  {
   "cell_type": "markdown",
   "metadata": {},
   "source": [
    "<p><img alt=\"Insight logo\" src=\"https://raw.githubusercontent.com/warazkhan/Data-Analysis-Project/main/DataAnalysislogo.png\" align=\"left\" hspace=\"25px\" vspace=\"25px\" width=\"100\" height=\"80\" ></p>\n",
    "\n",
    "<ul style=\"list-style-type:none;\">\n",
    "  <li style=\"font-weight: bold;font-family:Trebuchet MS;font-size:35px;font-style: italic;color:red\">Data Exploration and Preprocessing</li>\n",
    "</ul>\n",
    "<ul style=\"list-style-type:none;font-family:Trebuchet MS;font-size:17px;color:black\">\n",
    "    <li> Downloading, cleaning, and preparing the dataset</li> \n",
    "</ul>"
   ]
  },
  {
   "cell_type": "code",
   "execution_count": null,
   "metadata": {
    "execution": {
     "iopub.execute_input": "2023-09-10T20:04:04.743687Z",
     "iopub.status.busy": "2023-09-10T20:04:04.743255Z",
     "iopub.status.idle": "2023-09-10T20:04:04.753892Z",
     "shell.execute_reply": "2023-09-10T20:04:04.752552Z",
     "shell.execute_reply.started": "2023-09-10T20:04:04.743651Z"
    },
    "trusted": true
   },
   "outputs": [],
   "source": [
    "# Import all the required libraries\n",
    "import pandas as pd #data manipulation and analysis library\n",
    "import matplotlib #plotting library\n",
    "import matplotlib.pyplot as plt\n",
    "import seaborn as sns #statistical data visualization library\n",
    "import numpy as np #numerical computing library\n",
    "from sklearn.impute import SimpleImputer #missing value imputation\n",
    "import plotly.express as px #high-level interface for interactive visualizations\n",
    "import plotly.graph_objects as go #low-level interface for customizing plots\n",
    "from plotly.subplots import make_subplots #creating subplots in a single figure\n",
    "import plotly.io as pio #rendering and displaying Plotly figures\n",
    "pio.renderers.default = \"iframe\"\n",
    "from scipy.stats import skew #computing skewness\n",
    "import warnings #handling warnings.\n",
    "pd.options.mode.chained_assignment = None\n",
    "warnings.filterwarnings('ignore')"
   ]
  },
  {
   "cell_type": "code",
   "execution_count": null,
   "metadata": {
    "execution": {
     "iopub.execute_input": "2023-09-10T20:04:04.755713Z",
     "iopub.status.busy": "2023-09-10T20:04:04.755338Z",
     "iopub.status.idle": "2023-09-10T20:04:04.777282Z",
     "shell.execute_reply": "2023-09-10T20:04:04.776034Z",
     "shell.execute_reply.started": "2023-09-10T20:04:04.755682Z"
    },
    "trusted": true
   },
   "outputs": [],
   "source": [
    "import os\n",
    "for dirname, _, filenames in os.walk('/kaggle/input'):\n",
    "    for filename in filenames:\n",
    "        print(os.path.join(dirname, filename))"
   ]
  },
  {
   "cell_type": "code",
   "execution_count": null,
   "metadata": {
    "execution": {
     "iopub.execute_input": "2023-09-10T20:04:04.780856Z",
     "iopub.status.busy": "2023-09-10T20:04:04.780154Z",
     "iopub.status.idle": "2023-09-10T20:04:04.865914Z",
     "shell.execute_reply": "2023-09-10T20:04:04.864818Z",
     "shell.execute_reply.started": "2023-09-10T20:04:04.78082Z"
    },
    "trusted": true
   },
   "outputs": [],
   "source": [
    "# load the dataset into pandas dataframe\n",
    "customersRecordsforCarInssuranceDataframe = pd.read_csv('car_insurance_claim.csv')"
   ]
  },
  {
   "cell_type": "code",
   "execution_count": null,
   "metadata": {
    "execution": {
     "iopub.execute_input": "2023-09-10T20:04:04.868016Z",
     "iopub.status.busy": "2023-09-10T20:04:04.867652Z",
     "iopub.status.idle": "2023-09-10T20:04:04.901493Z",
     "shell.execute_reply": "2023-09-10T20:04:04.900196Z",
     "shell.execute_reply.started": "2023-09-10T20:04:04.867984Z"
    },
    "trusted": true
   },
   "outputs": [],
   "source": [
    "customersRecordsforCarInssuranceDataframe.head(5).style.background_gradient(cmap='Pastel2')"
   ]
  },
  {
   "cell_type": "code",
   "execution_count": null,
   "metadata": {
    "execution": {
     "iopub.execute_input": "2023-09-10T20:04:04.904353Z",
     "iopub.status.busy": "2023-09-10T20:04:04.903208Z",
     "iopub.status.idle": "2023-09-10T20:04:04.91515Z",
     "shell.execute_reply": "2023-09-10T20:04:04.913577Z",
     "shell.execute_reply.started": "2023-09-10T20:04:04.904307Z"
    },
    "trusted": true
   },
   "outputs": [],
   "source": [
    "# Check the no. of columns & rows\n",
    "\n",
    "print('The Car Inssurance Dataset contains {:,d} rows & {} columns'.format(customersRecordsforCarInssuranceDataframe.shape[0],customersRecordsforCarInssuranceDataframe.shape[1]))"
   ]
  },
  {
   "cell_type": "code",
   "execution_count": null,
   "metadata": {
    "execution": {
     "iopub.execute_input": "2023-09-10T20:04:04.917509Z",
     "iopub.status.busy": "2023-09-10T20:04:04.917041Z",
     "iopub.status.idle": "2023-09-10T20:04:04.958282Z",
     "shell.execute_reply": "2023-09-10T20:04:04.957092Z",
     "shell.execute_reply.started": "2023-09-10T20:04:04.917468Z"
    },
    "trusted": true
   },
   "outputs": [],
   "source": [
    "customersRecordsforCarInssuranceDataframe.info()"
   ]
  },
  {
   "cell_type": "code",
   "execution_count": null,
   "metadata": {
    "execution": {
     "iopub.execute_input": "2023-09-10T20:04:04.960468Z",
     "iopub.status.busy": "2023-09-10T20:04:04.960008Z",
     "iopub.status.idle": "2023-09-10T20:04:04.977739Z",
     "shell.execute_reply": "2023-09-10T20:04:04.976686Z",
     "shell.execute_reply.started": "2023-09-10T20:04:04.960424Z"
    },
    "tags": [],
    "trusted": true
   },
   "outputs": [],
   "source": [
    "colExplanation=[ \"Unique identifier for each customer.\", \"Number of kids the customer has who are of driving age.\", \"Date of birth of the customer.\", \"Age of the customer.\", \n",
    "                \"Number of kids the customer has at home.\", \"Years on the job (number of years the customer has been employed).\", \"Income of the customer.\",\n",
    "                \"Indicates whether the customer is a single parent (Yes/No).\", \"Value of the customer's home.\", \"Marital status of the customer (Yes/No).\",\n",
    "                \"Gender of the customer (M/F).\", \"Education level of the customer.\", \"Occupation of the customer.\", \"Daily travel time to work.\",\n",
    "                \"Purpose of car usage (Private/Commercial).\", \"Value of the customer's car.\", \"Time in force (Years).\",  \"Type of car.\", \n",
    "                \"Indicates whether the customer owns a red car (yes/no).\", \"Total amount of previous claims.\", \"Number of claims reported.\", \n",
    "                \"Indicates whether the customer's driver's license has been revoked (Yes/No).\", \"Number of motor vehicle record points.\", \"Possible future claims\",\n",
    "                \"Age of the customer's car.\", \"Indicates whether a claim was filed (1/0).\", \" Urbanicity type ((Highly Urban/Urban)/(Highly Rural/Rural)).\"\n",
    "]\n",
    "colExplanationDf = pd.DataFrame({\n",
    "    'Variables': customersRecordsforCarInssuranceDataframe.columns,\n",
    "    'Explanation': colExplanation\n",
    "})\n",
    "colExplanationDf.style.background_gradient()"
   ]
  },
  {
   "cell_type": "markdown",
   "metadata": {
    "tags": []
   },
   "source": [
    "<p><img alt=\"Insight logo\" src=\"https://raw.githubusercontent.com/warazkhan/CarInssurance-DataAnalysis/main/DataPreprocessing.png\" align=\"left\" hspace=\"25px\" vspace=\"25px\" width=\"100\" height=\"80\" ></p>\n",
    "\n",
    "<ul style=\"list-style-type:none;\">\n",
    "  <li style=\"font-weight: bold;font-family:Trebuchet MS;font-size:25px;font-style: italic;color:darkblue\">Data Preprocessing</li>\n",
    "</ul>\n",
    "<ul style=\"list-style-type:none;font-family:Trebuchet MS;font-size:15px;color:black\">\n",
    "    <li>Analyze the dataset for data preprocessing, which involved cleaning, transforming, and organizing the data to prepare it for further analysis and modeling.</li> \n",
    "</ul>"
   ]
  },
  {
   "cell_type": "code",
   "execution_count": null,
   "metadata": {
    "execution": {
     "iopub.execute_input": "2023-09-10T20:04:04.980137Z",
     "iopub.status.busy": "2023-09-10T20:04:04.979544Z",
     "iopub.status.idle": "2023-09-10T20:04:06.393961Z",
     "shell.execute_reply": "2023-09-10T20:04:06.392707Z",
     "shell.execute_reply.started": "2023-09-10T20:04:04.980099Z"
    },
    "trusted": true
   },
   "outputs": [],
   "source": [
    "#Preparation and Cleaning of Dataset\n",
    "\n",
    "# Convert Date into Datetime Feature\n",
    "DateFormattedrCarInssuranceDataframe = customersRecordsforCarInssuranceDataframe.copy()\n",
    "birthYear= customersRecordsforCarInssuranceDataframe['BIRTH'].tolist()\n",
    "\n",
    "if birthYear[0]=='16MAR39':\n",
    "    formattedBirthDate=[]\n",
    "\n",
    "    for items in range (0, len(birthYear)):\n",
    "        splittingLetter= birthYear[items][4]\n",
    "        years = birthYear[items].split(splittingLetter)\n",
    "        splittingLetter = splittingLetter+'19'\n",
    "        formattedBirthDate.append(years[0]+splittingLetter+years[1])\n",
    "\n",
    "DateFormattedrCarInssuranceDataframe['BIRTH']= formattedBirthDate\n",
    "\n",
    "DateFormattedrCarInssuranceDataframe['BIRTH'] = pd.to_datetime(DateFormattedrCarInssuranceDataframe['BIRTH'])\n",
    "\n",
    "#Cleaning values with typo errors\n",
    "CarInssuranceDataframeCleaning = DateFormattedrCarInssuranceDataframe.copy()\n",
    "\n",
    "for col in CarInssuranceDataframeCleaning:\n",
    "    row=[]\n",
    "    for items in CarInssuranceDataframeCleaning[col]:\n",
    "        if type(items)==str:\n",
    "            if items.find('z_') >= 0:\n",
    "                splititems = items.split('z_')\n",
    "                row.append(splititems[1])\n",
    "            elif items.find('<') >= 0:\n",
    "                splititems = items.split('<')\n",
    "                row.append(splititems[1])\n",
    "            else:\n",
    "                row.append(items)\n",
    "        else:\n",
    "            row.append(items)\n",
    "    CarInssuranceDataframeCleaning[col]=row\n",
    "\n",
    "#Preparing numeric values for comparisons\n",
    "PreparedCarInssuranceDataframe=CarInssuranceDataframeCleaning.copy()\n",
    "income = PreparedCarInssuranceDataframe['INCOME'].tolist()\n",
    "homeVal = PreparedCarInssuranceDataframe['HOME_VAL'].tolist()\n",
    "BlueBookVal = PreparedCarInssuranceDataframe['BLUEBOOK'].tolist()\n",
    "OldClaimVal = PreparedCarInssuranceDataframe['OLDCLAIM'].tolist()\n",
    "ClaimAmount = PreparedCarInssuranceDataframe['CLM_AMT'].tolist()\n",
    "\n",
    "formattedIncome=[]\n",
    "formattedHomeValue=[]\n",
    "formattedBlueBook=[]\n",
    "formattedOldClaim=[]\n",
    "formattedClaimAmount=[]\n",
    "\n",
    "for items in range (0,len(income)):\n",
    "    strincome = str(income[items])\n",
    "    strHomeVal = str(homeVal[items])\n",
    "    strBlueBook = str(BlueBookVal[items])\n",
    "    strOldClaim = str(OldClaimVal[items])\n",
    "    strClaimAmount = str(ClaimAmount[items])\n",
    "    \n",
    "    strincome=strincome.replace(\",\", \"\")\n",
    "    strHomeVal=strHomeVal.replace(\",\", \"\")\n",
    "    strBlueBook=strBlueBook.replace(\",\", \"\")\n",
    "    strOldClaim=strOldClaim.replace(\",\", \"\")\n",
    "    strClaimAmount=strClaimAmount.replace(\",\",\"\")\n",
    "    \n",
    "    if strincome.find('$') >= 0 :\n",
    "        incomes = strincome.split('$')\n",
    "        formattedIncome.append(float(incomes[1]))\n",
    "    else:\n",
    "        formattedIncome.append(float(strincome))\n",
    "\n",
    "    if strHomeVal.find('$') >= 0:\n",
    "        homeVals = strHomeVal.split('$')\n",
    "        formattedHomeValue.append(float(homeVals[1]))\n",
    "    else :\n",
    "        formattedHomeValue.append(float(strHomeVal))\n",
    "        \n",
    "    if strBlueBook.find('$') >= 0:\n",
    "        BlueBookVals = strBlueBook.split('$')\n",
    "        formattedBlueBook.append(float(BlueBookVals[1]))\n",
    "    else:\n",
    "        formattedBlueBook.append(float(strBlueBook))\n",
    "        \n",
    "    if strOldClaim.find('$') >= 0:\n",
    "        OldClaimVals = strOldClaim.split('$')\n",
    "        formattedOldClaim.append(float(OldClaimVals[1]))\n",
    "    else:\n",
    "        formattedOldClaim.append(float(strOldClaim))\n",
    "    \n",
    "    if strClaimAmount.find('$') >= 0:\n",
    "        ClaimAmountVals = strClaimAmount.split('$')\n",
    "        formattedClaimAmount.append(float(ClaimAmountVals[1]))\n",
    "    else:\n",
    "        formattedClaimAmount.append(float(strClaimAmount))\n",
    "    \n",
    "PreparedCarInssuranceDataframe['INCOME'] = formattedIncome\n",
    "PreparedCarInssuranceDataframe['HOME_VAL'] = formattedHomeValue\n",
    "PreparedCarInssuranceDataframe['BLUEBOOK'] = formattedBlueBook\n",
    "PreparedCarInssuranceDataframe['OLDCLAIM'] = formattedOldClaim\n",
    "PreparedCarInssuranceDataframe['CLM_AMT'] = formattedClaimAmount\n",
    "PreparedCarInssuranceDataframe = PreparedCarInssuranceDataframe.rename(columns={'INCOME': 'INCOME($)', 'HOME_VAL': 'HOME_VAL($)', 'BLUEBOOK': 'BLUEBOOK($)', 'OLDCLAIM': \n",
    "                                                                                'OLDCLAIM($)', 'CLM_AMT': 'CLM_AMT($)'})"
   ]
  },
  {
   "cell_type": "code",
   "execution_count": null,
   "metadata": {
    "execution": {
     "iopub.execute_input": "2023-09-10T20:04:06.398899Z",
     "iopub.status.busy": "2023-09-10T20:04:06.398491Z",
     "iopub.status.idle": "2023-09-10T20:04:06.439621Z",
     "shell.execute_reply": "2023-09-10T20:04:06.43848Z",
     "shell.execute_reply.started": "2023-09-10T20:04:06.398865Z"
    },
    "trusted": true
   },
   "outputs": [],
   "source": [
    "PreparedCarInssuranceDataframe.head(5).style.background_gradient(cmap='Pastel1')"
   ]
  },
  {
   "cell_type": "markdown",
   "metadata": {
    "tags": []
   },
   "source": [
    "<p><img alt=\"Insight logo\" src=\"https://raw.githubusercontent.com/warazkhan/CarInssurance-DataAnalysis/main/frequency.png\" align=\"left\" hspace=\"25px\" vspace=\"5px\" width=\"170\" height=\"80\" ></p>\n",
    "\n",
    "<ul style=\"list-style-type:none;\">\n",
    "  <li style=\"font-weight: bold;font-family:Trebuchet MS;font-size:25px;font-style: italic;color:darkblue\">Frequency Plots</li>\n",
    "</ul>\n",
    "<ul style=\"list-style-type:none;font-family:Trebuchet MS;font-size:15px;color:black\">\n",
    "    <li>Analyze the dataset using frequency plots to visualize the distribution of variables.</li> \n",
    "</ul>"
   ]
  },
  {
   "cell_type": "code",
   "execution_count": null,
   "metadata": {
    "execution": {
     "iopub.execute_input": "2023-09-10T20:04:06.442882Z",
     "iopub.status.busy": "2023-09-10T20:04:06.441825Z",
     "iopub.status.idle": "2023-09-10T20:04:06.704367Z",
     "shell.execute_reply": "2023-09-10T20:04:06.703324Z",
     "shell.execute_reply.started": "2023-09-10T20:04:06.442822Z"
    },
    "trusted": true
   },
   "outputs": [],
   "source": [
    "# Create subplots for pie charts\n",
    "fig = make_subplots(\n",
    "    rows=5, cols=3,\n",
    "    specs=[[{}, {},{}],\n",
    "           [{}, {},{}],\n",
    "          [{}, {\"colspan\": 2}, None],\n",
    "          [{}, {},{}],\n",
    "          [{}, {},{}]], subplot_titles=(\"AGE\",\"KIDSDRIV\", \"HOMEKIDS\", \"YOJ\", \"INCOME($)\", \"HOME_VAL($)\", \"BLUEBOOK($)\", \"TRAVTIME\", \"TIF\", \"OLDCLAIM($)\", \"CLM_FREQ\",\"MVR_PTS\",\"CLM_AMT($)\",\"CAR_AGE\")\n",
    ")\n",
    "# Plot the bars\n",
    "\n",
    "#Frequency count for AGE\n",
    "fig.add_trace(go.Histogram(x=PreparedCarInssuranceDataframe['AGE'], histfunc=\"count\", hoverinfo=\"x+y\", marker=dict(color=[3, 4, 5], coloraxis=\"coloraxis\")), 1, 1)\n",
    "\n",
    "#Frequency count for KIDSDRIV\n",
    "fig.add_trace(go.Bar(x=PreparedCarInssuranceDataframe['KIDSDRIV'].unique(), y=PreparedCarInssuranceDataframe['KIDSDRIV'].value_counts(sort=False), hoverinfo=\"x+y\", marker=dict(color=[4, 5, 6], coloraxis=\"coloraxis\")), 1, 2)\n",
    "\n",
    "#Frequency count for HOMEKIDS\n",
    "fig.add_trace(go.Bar(x=PreparedCarInssuranceDataframe['HOMEKIDS'].unique(), y=PreparedCarInssuranceDataframe['HOMEKIDS'].value_counts(sort=False), hoverinfo=\"x+y\", marker=dict(color=[4, 5, 6], coloraxis=\"coloraxis\")), 1, 3)\n",
    "\n",
    "#Frequency count for YOJ\n",
    "fig.add_trace(go.Bar(x=PreparedCarInssuranceDataframe['YOJ'].unique(), y=PreparedCarInssuranceDataframe['YOJ'].value_counts(sort=False), hoverinfo=\"x+y\", marker=dict(color=[4, 5, 6], coloraxis=\"coloraxis\")), 2, 1)\n",
    "\n",
    "#Frequency count for INCOME($)\n",
    "fig.add_trace(go.Histogram(x=PreparedCarInssuranceDataframe['INCOME($)'], histfunc=\"count\", hoverinfo=\"x+y\", marker=dict(color=[4, 5, 6], coloraxis=\"coloraxis\")), 2, 2)\n",
    "\n",
    "#Frequency count for HOME_VAL($)\n",
    "fig.add_trace(go.Histogram(x=PreparedCarInssuranceDataframe['HOME_VAL($)'],  histfunc=\"count\", hoverinfo=\"x+y\", marker=dict(color=[4, 5, 6], coloraxis=\"coloraxis\")), 2, 3)\n",
    "\n",
    "#Frequency count for BLUEBOOK($)\n",
    "fig.add_trace(go.Histogram(x=PreparedCarInssuranceDataframe['BLUEBOOK($)'], histfunc=\"count\", hoverinfo=\"x+y\", marker=dict(color=[4, 5, 6], coloraxis=\"coloraxis\")), 3, 1)\n",
    "\n",
    "#Frequency count for TRAVTIME\n",
    "fig.add_trace(go.Bar(x=PreparedCarInssuranceDataframe['TRAVTIME'].unique(), y=PreparedCarInssuranceDataframe['TRAVTIME'].value_counts(sort=False), hoverinfo=\"x+y\", marker=dict(color=[4, 5, 6], coloraxis=\"coloraxis\")), 3, 2)\n",
    "\n",
    "#Frequency count for TIF\n",
    "fig.add_trace(go.Bar(x=PreparedCarInssuranceDataframe['TIF'].unique(), y=PreparedCarInssuranceDataframe['TIF'].value_counts(sort=False), hoverinfo=\"x+y\", marker=dict(color=[4, 5, 6], coloraxis=\"coloraxis\")), 4, 1)\n",
    "\n",
    "#Frequency count for OLDCLAIM($)\n",
    "fig.add_trace(go.Histogram(x=PreparedCarInssuranceDataframe['OLDCLAIM($)'], histfunc=\"count\", hoverinfo=\"x+y\", marker=dict(color=[4, 5, 6], coloraxis=\"coloraxis\")), 4, 2)\n",
    "\n",
    "#Frequency count for CLM_FREQ\n",
    "fig.add_trace(go.Bar(x=PreparedCarInssuranceDataframe['CLM_FREQ'].unique(), y=PreparedCarInssuranceDataframe['CLM_FREQ'].value_counts(sort=False), hoverinfo=\"x+y\", marker=dict(color=[4, 5, 6], coloraxis=\"coloraxis\")), 4, 3)\n",
    "\n",
    "#Frequency count for MVR_PTS\n",
    "fig.add_trace(go.Bar(x=PreparedCarInssuranceDataframe['MVR_PTS'].unique(), y=PreparedCarInssuranceDataframe['MVR_PTS'].value_counts(sort=False), hoverinfo=\"x+y\", marker=dict(color=[4, 5, 6], coloraxis=\"coloraxis\")), 5, 1)\n",
    "\n",
    "#Frequency count for CLM_AMT($)\n",
    "fig.add_trace(go.Histogram(x=PreparedCarInssuranceDataframe['CLM_AMT($)'], histfunc=\"count\", hoverinfo=\"x+y\", marker=dict(color=[4, 5, 6], coloraxis=\"coloraxis\")), 5, 2)\n",
    "\n",
    "#Frequency count for CAR_AGE\n",
    "fig.add_trace(go.Bar(x=PreparedCarInssuranceDataframe['CAR_AGE'].unique(), y=PreparedCarInssuranceDataframe['CAR_AGE'].value_counts(sort=False), hoverinfo=\"x+y\", marker=dict(color=[4, 5, 6], coloraxis=\"coloraxis\")), 5, 3)\n",
    "\n",
    "fig.update_layout(bargap=0.03, height=1500, width=1400, coloraxis=dict(colorscale='Plasma'), showlegend=False, title_text=\"FREQUENCY FOR CONTINUOUS VARIABLES\", title_font = {\"size\": 22, \"color\": 'grey', 'family':'Arial Black'}, title={ 'x':0.5,'xanchor': 'center','yanchor': 'top'})\n",
    "\n",
    "# Update xaxis properties\n",
    "fig.update_xaxes(title_text=\"AGE\", row=1, col=1)\n",
    "fig.update_xaxes(title_text=\"KIDSDRIV\", row=1, col=2)\n",
    "fig.update_xaxes(title_text=\"HOMEKIDS\", row=1, col=3)\n",
    "fig.update_xaxes(title_text=\"YOJ\", row=2, col=1)\n",
    "fig.update_xaxes(title_text=\"INCOME($)\", row=2, col=2)\n",
    "fig.update_xaxes(title_text=\"HOME_VAL($)\",row=2, col=3)\n",
    "fig.update_xaxes(title_text=\"BLUEBOOK($)\", row=3, col=1)\n",
    "fig.update_xaxes(title_text=\"TRAVTIME\", row=3, col=2)\n",
    "fig.update_xaxes(title_text=\"TIF\", row=4, col=1)\n",
    "fig.update_xaxes(title_text=\"OLDCLAIM($)\", range=[0, 20000], row=4, col=2)\n",
    "fig.update_xaxes(title_text=\"CLM_FREQ\", row=4, col=3)\n",
    "fig.update_xaxes(title_text=\"MVR_PTS\", row=5, col=1)\n",
    "fig.update_xaxes(title_text=\"CLM_AMT($)\", range=[0, 20000], row=5, col=2)\n",
    "fig.update_xaxes(title_text=\"CAR_AGE\", row=5, col=3)\n",
    "\n",
    "# Update yaxis properties\n",
    "fig.update_yaxes(title_text=\"FREQUENCY\", row=1, col=1)\n",
    "fig.update_yaxes(title_text=\"FREQUENCY\", row=1, col=2)\n",
    "fig.update_yaxes(title_text=\"FREQUENCY\", row=1, col=3)\n",
    "fig.update_yaxes(title_text=\"FREQUENCY\", row=2, col=1)\n",
    "fig.update_yaxes(title_text=\"FREQUENCY\", row=2, col=2)\n",
    "fig.update_yaxes(title_text=\"FREQUENCY\", row=2, col=3)\n",
    "fig.update_yaxes(title_text=\"FREQUENCY\", row=3, col=1)\n",
    "fig.update_yaxes(title_text=\"FREQUENCY\", row=3, col=2)\n",
    "fig.update_yaxes(title_text=\"FREQUENCY\", row=4, col=1)\n",
    "fig.update_yaxes(title_text=\"FREQUENCY\", row=4, col=2)\n",
    "fig.update_yaxes(title_text=\"FREQUENCY\", row=4, col=3)\n",
    "fig.update_yaxes(title_text=\"FREQUENCY\", row=5, col=1)\n",
    "fig.update_yaxes(title_text=\"FREQUENCY\", row=5, col=2)\n",
    "fig.update_yaxes(title_text=\"FREQUENCY\", row=5, col=3)\n",
    "fig.show()"
   ]
  },
  {
   "cell_type": "markdown",
   "metadata": {},
   "source": [
    "<p><img alt=\"Insight logo\" src=\"https://raw.githubusercontent.com/warazkhan/Data-Analysis-Project/main/Insights%20logo.png\" align=\"left\" hspace=\"0px\" vspace=\"10px\" width=\"180\" height=\"150\"></p>\n",
    "\n",
    "<ul style=\"list-style-type:none;\">\n",
    "  <li style=\"font-weight: bold;font-family:Trebuchet MS;font-size:30px;font-style: italic;color:  red\">Insights:</li>\n",
    "</ul>\n",
    "<div class=\"alert alert-success\" role=\"alert\">\n",
    "<ul style=\"list-style-type:none;font-family:Trebuchet MS;font-size:17px;color:black\">\n",
    "    <li> During the analysis of continuous variables, frequency plots are used to analyze the <span style=\"font-weight: bold; color:blue;\">distribution</span>, <span style=\"font-weight: bold; color:blue;\">frequency</span>, <span style=\"font-weight: bold; color:blue;\">central tendency</span>, <span style=\"font-weight: bold; color:blue;\">spread</span>, and <span style=\"font-weight: bold; color:blue;\">potential outliers</span>. These plots are providing insights into the overall characteristics and variations in the dataset and also confirming that the values of the variables are <span style=\"font-weight: bold; color:blue;\">non-negative</span>.</li>\n",
    "    <br>\n",
    "</ul>\n",
    "</div>"
   ]
  },
  {
   "cell_type": "code",
   "execution_count": null,
   "metadata": {
    "execution": {
     "iopub.execute_input": "2023-09-10T20:04:06.707124Z",
     "iopub.status.busy": "2023-09-10T20:04:06.706122Z",
     "iopub.status.idle": "2023-09-10T20:04:06.946315Z",
     "shell.execute_reply": "2023-09-10T20:04:06.945235Z",
     "shell.execute_reply.started": "2023-09-10T20:04:06.707089Z"
    },
    "tags": [],
    "trusted": true
   },
   "outputs": [],
   "source": [
    "# Create subplots for pie charts\n",
    "fig = make_subplots(rows=4, cols=3,specs=[\n",
    "           [{}, {},{}],\n",
    "           [{}, {},{}],\n",
    "           [{}, {},{}],\n",
    "           [{}, {}, None]], subplot_titles=(\"Single Parent\",\"Marital Status\", \"Gender\", \"Level of Education\", \"Occupation\", \"Car Usage\", \"Car Type\", \"Red Cars\", \"Revoked Licenses\", \"City\", \"No Claim or Claim\"))\n",
    "\n",
    "# Plot the bars\n",
    "\n",
    "#Frequency count for PARENT1\n",
    "fig.add_trace(go.Bar(x=PreparedCarInssuranceDataframe['PARENT1'].unique(), y=PreparedCarInssuranceDataframe['PARENT1'].value_counts(sort=False), hoverinfo=\"x+y\", marker=dict(color=[4, 5, 6], coloraxis=\"coloraxis\")), 1, 1)\n",
    "\n",
    "#Frequency count for MSTATUS\n",
    "fig.add_trace(go.Bar(x=PreparedCarInssuranceDataframe['MSTATUS'].unique(), y=PreparedCarInssuranceDataframe['MSTATUS'].value_counts(sort=False), hoverinfo=\"x+y\", marker=dict(color=[4, 5, 6], coloraxis=\"coloraxis\")), 1, 2)\n",
    "\n",
    "#Frequency count for GENDER\n",
    "fig.add_trace(go.Bar(x=PreparedCarInssuranceDataframe['GENDER'].unique(), y=PreparedCarInssuranceDataframe['GENDER'].value_counts(sort=False), hoverinfo=\"x+y\", marker=dict(color=[4, 5, 6], coloraxis=\"coloraxis\")), 1, 3)\n",
    "\n",
    "#Frequency count for EDUCATION\n",
    "fig.add_trace(go.Bar(x=PreparedCarInssuranceDataframe['EDUCATION'].unique(), y=PreparedCarInssuranceDataframe['EDUCATION'].value_counts(sort=False), hoverinfo=\"x+y\", marker=dict(color=[4, 5, 6], coloraxis=\"coloraxis\")), 2, 1)\n",
    "\n",
    "#Frequency count for OCCUPATION\n",
    "fig.add_trace(go.Bar(x=PreparedCarInssuranceDataframe['OCCUPATION'].unique(), y=PreparedCarInssuranceDataframe['OCCUPATION'].value_counts(sort=False), hoverinfo=\"x+y\", marker=dict(color=[4, 5, 6], coloraxis=\"coloraxis\")), 2, 2)\n",
    "\n",
    "#Frequency count for CAR_USE\n",
    "fig.add_trace(go.Bar(x=PreparedCarInssuranceDataframe['CAR_USE'].unique(), y=PreparedCarInssuranceDataframe['CAR_USE'].value_counts(sort=False), hoverinfo=\"x+y\", marker=dict(color=[4, 5, 6], coloraxis=\"coloraxis\")), 2, 3)\n",
    "\n",
    "#Frequency count for CAR_TYPE\n",
    "fig.add_trace(go.Bar(x=PreparedCarInssuranceDataframe['CAR_TYPE'].unique(), y=PreparedCarInssuranceDataframe['CAR_TYPE'].value_counts(sort=False), hoverinfo=\"x+y\", marker=dict(color=[4, 5, 6], coloraxis=\"coloraxis\")), 3, 1)\n",
    "\n",
    "#Frequency count for RED_CAR\n",
    "fig.add_trace(go.Bar(x=PreparedCarInssuranceDataframe['RED_CAR'].unique(), y=PreparedCarInssuranceDataframe['RED_CAR'].value_counts(sort=False), hoverinfo=\"x+y\", marker=dict(color=[4, 5, 6], coloraxis=\"coloraxis\")), 3, 2)\n",
    "\n",
    "#Frequency count for REVOKED\n",
    "fig.add_trace(go.Bar(x=PreparedCarInssuranceDataframe['REVOKED'].unique(), y=PreparedCarInssuranceDataframe['REVOKED'].value_counts(sort=False), hoverinfo=\"x+y\", marker=dict(color=[4, 5, 6], coloraxis=\"coloraxis\")), 3, 3)\n",
    "\n",
    "#Frequency count for URBANICITY\n",
    "fig.add_trace(go.Bar(x=PreparedCarInssuranceDataframe['URBANICITY'].unique(), y=PreparedCarInssuranceDataframe['URBANICITY'].value_counts(sort=False), hoverinfo=\"x+y\", marker=dict(color=[4, 5, 6], coloraxis=\"coloraxis\")), 4, 1)\n",
    "\n",
    "#Frequency count for URBANICITY\n",
    "fig.add_trace(go.Bar(x= list(map(str,PreparedCarInssuranceDataframe['CLAIM_FLAG'].unique())), y=PreparedCarInssuranceDataframe['CLAIM_FLAG'].value_counts(sort=False), hoverinfo=\"x+y\", marker=dict(color=[4, 5, 6], coloraxis=\"coloraxis\")), 4, 2)\n",
    "\n",
    "fig.update_layout(bargap=0.01, height=1250, width=1400, coloraxis=dict(colorscale='sunsetdark'), showlegend=False, title_text=\"FREQUENCY FOR DISCRETE VARIABLES\", title_font = {\"size\": 22, \"color\": 'grey', 'family':'Arial Black'}, title={ 'x':0.5,'xanchor': 'center','yanchor': 'top'})\n",
    "\n",
    "# Update xaxis properties\n",
    "fig.update_xaxes(title_text=\"PARENT1\", row=1, col=1)\n",
    "fig.update_xaxes(title_text=\"MSTATUS\", row=1, col=2)\n",
    "fig.update_xaxes(title_text=\"GENDER\", row=1, col=3)\n",
    "fig.update_xaxes(title_text=\"EDUCATION\", row=2, col=1)\n",
    "fig.update_xaxes(title_text=\"OCCUPATION\", row=2, col=2)\n",
    "fig.update_xaxes(title_text=\"CAR_USE\",row=2, col=3)\n",
    "fig.update_xaxes(title_text=\"CAR_TYPE\", row=3, col=1)\n",
    "fig.update_xaxes(title_text=\"RED_CAR\", row=3, col=2)\n",
    "fig.update_xaxes(title_text=\"REVOKED\", row=3, col=3)\n",
    "fig.update_xaxes(title_text=\"URBANICITY\", row=4, col=1)\n",
    "fig.update_xaxes(title_text=\"CLAIM_FLAG\", row=4, col=2)\n",
    "\n",
    "\n",
    "# Update yaxis properties\n",
    "fig.update_yaxes(title_text=\"FREQUENCY\", row=1, col=1)\n",
    "fig.update_yaxes(title_text=\"FREQUENCY\", row=1, col=2)\n",
    "fig.update_yaxes(title_text=\"FREQUENCY\", row=1, col=3)\n",
    "fig.update_yaxes(title_text=\"FREQUENCY\", row=2, col=1)\n",
    "fig.update_yaxes(title_text=\"FREQUENCY\", row=2, col=2)\n",
    "fig.update_yaxes(title_text=\"FREQUENCY\", row=2, col=3)\n",
    "fig.update_yaxes(title_text=\"FREQUENCY\", row=3, col=1)\n",
    "fig.update_yaxes(title_text=\"FREQUENCY\", row=3, col=2)\n",
    "fig.update_yaxes(title_text=\"FREQUENCY\", row=3, col=3)\n",
    "fig.update_yaxes(title_text=\"FREQUENCY\", row=4, col=1)\n",
    "fig.update_yaxes(title_text=\"FREQUENCY\", row=4, col=2)\n",
    "\n",
    "fig.show()"
   ]
  },
  {
   "cell_type": "markdown",
   "metadata": {},
   "source": [
    "<p><img alt=\"Insight logo\" src=\"https://raw.githubusercontent.com/warazkhan/Data-Analysis-Project/main/Insights%20logo.png\" align=\"left\" hspace=\"0px\" vspace=\"10px\" width=\"180\" height=\"150\"></p>\n",
    "\n",
    "<ul style=\"list-style-type:none;\">\n",
    "  <li style=\"font-weight: bold;font-family:Trebuchet MS;font-size:30px;font-style: italic;color:  red\">Insights:</li>\n",
    "</ul>\n",
    "<div class=\"alert alert-success\" role=\"alert\">\n",
    "<ul style=\"list-style-type:none;font-family:Trebuchet MS;font-size:17px;color:black\">\n",
    "    <li>During the analysis of discrete variables, frequency plots are used to analyze the distribution, frequency, central tendency, spread, and potential outliers. These plots are providing insights into the overall characteristics and variations in the dataset.</li>\n",
    "    <br>\n",
    "</ul>\n",
    "</div>"
   ]
  },
  {
   "cell_type": "markdown",
   "metadata": {},
   "source": [
    "<p><img alt=\"Insight logo\" src=\"https://raw.githubusercontent.com/warazkhan/CarInssurance-DataAnalysis/main/DescriptiveStatics.png\" align=\"left\" hspace=\"25px\" vspace=\"25px\" width=\"100\" height=\"80\" ></p>\n",
    "\n",
    "<ul style=\"list-style-type:none;\">\n",
    "  <li style=\"font-weight: bold;font-family:Trebuchet MS;font-size:35px;font-style: italic;color:red\">Descriptive statistics</li>\n",
    "</ul>\n",
    "<ul style=\"list-style-type:none;font-family:Trebuchet MS;font-size:17px;color:black\">\n",
    "    <li>Descriptive statistics summarize important data features using a single numerical value.</li> \n",
    "</ul>"
   ]
  },
  {
   "cell_type": "code",
   "execution_count": null,
   "metadata": {
    "execution": {
     "iopub.execute_input": "2023-09-10T20:04:06.948302Z",
     "iopub.status.busy": "2023-09-10T20:04:06.947984Z",
     "iopub.status.idle": "2023-09-10T20:04:07.065798Z",
     "shell.execute_reply": "2023-09-10T20:04:07.064676Z",
     "shell.execute_reply.started": "2023-09-10T20:04:06.948274Z"
    },
    "trusted": true
   },
   "outputs": [],
   "source": [
    "#Extract numeric columns\n",
    "numericData = PreparedCarInssuranceDataframe.select_dtypes(include=np.number).columns.tolist()\n",
    "\n",
    "CarInssuranceDataframeDescriptiveStatics = PreparedCarInssuranceDataframe[numericData[1:]].describe().T\n",
    "CarInssuranceDataframeDescriptiveStatics['median'] = PreparedCarInssuranceDataframe[numericData[1:]].median().T\n",
    "CarInssuranceDataframeDescriptiveStatics['mode'] = PreparedCarInssuranceDataframe[numericData[1:]].mode().T\n",
    "CarInssuranceDataframeDescriptiveStatics['range'] = (CarInssuranceDataframeDescriptiveStatics['max']-CarInssuranceDataframeDescriptiveStatics['min']).T\n",
    "CarInssuranceDataframeDescriptiveStatics['variance'] = np.var(PreparedCarInssuranceDataframe[numericData[1:]])\n",
    "CarInssuranceDataframeDescriptiveStatics['skew'] = PreparedCarInssuranceDataframe[numericData[1:]].skew()\n",
    "CarInssuranceDataframeDescriptiveStatics['kurt'] = PreparedCarInssuranceDataframe[numericData[1:]].kurt()\n",
    "\n",
    "CarInssuranceDataframeDescriptiveStatics.style.background_gradient(cmap='icefire')"
   ]
  },
  {
   "cell_type": "markdown",
   "metadata": {},
   "source": [
    "<p><img alt=\"Insight logo\" src=\"https://raw.githubusercontent.com/warazkhan/Data-Analysis-Project/main/Insights%20logo.png\" align=\"left\" hspace=\"0px\" vspace=\"10px\" width=\"180\" height=\"150\"></p>\n",
    "\n",
    "<ul style=\"list-style-type:none;\">\n",
    "  <li style=\"font-weight: bold;font-family:Trebuchet MS;font-size:30px;font-style: italic;color:  red\">Insights:</li>\n",
    "</ul>\n",
    "<div class=\"alert alert-success\" role=\"alert\">\n",
    "<ul style=\"list-style-type:none;font-family:Trebuchet MS;font-size:17px;color:black\">\n",
    "    <li><span style=\"font-weight: bold; color:darkred;\">Measures of central tendency:</span>\n",
    "        <br>\n",
    "        1. <span style=\"font-weight: bold; color:blue;\">Mean</span> is calculated by summing all values and dividing by the total number of records, representing the average value.<br>\n",
    "        2. <span style=\"font-weight: bold; color:blue;\">Median</span> represents the middle value in a dataset. <br>\n",
    "        3. <span style=\"font-weight: bold; color:blue;\">Mode</span> represents the value that appears most frequently in a dataset or the highest count among all the values in the dataset.\n",
    "<br>\n",
    "<br>\n",
    "<span style=\"font-weight: bold; color:darkred;\">Measures of variability or dispersion:</span><br>\n",
    "        1. <span style=\"font-weight: bold; color:blue;\">Range</span> statistic quantifies the difference between a dataset's maximum and minimum values.<br>\n",
    "        2. <span style=\"font-weight: bold; color:blue;\">Standard deviation</span> measures how far individual values deviate from the mean in a dataset. Higher standard deviations indicate a greater degree of variability.<br>\n",
    "<span style=\"font-weight: bold; color:green;\">KIDSDRIV, HOMEKIDS, TIF, CLM_FREQ, and CLAIM_FLAG:</span> <span style=\"font-weight: bold; color:#E97451;\">Low</span> variability (small std compared to range and mean).<br>\n",
    "<span style=\"font-weight: bold; color:green;\">AGE, YOJ, TRAVTIME, BLUEBOOK(<span>&#36;</span>), OLDCLAIM(<span>&#36;</span>), MVR_PTS, CLM_AMT(<span>&#36;</span>), and CAR_AGE:</span> <span style=\"font-weight: bold; color:#E97451;\">Moderate to high</span> variability (moderate to high std compared to range and mean).<br>\n",
    "<span style=\"font-weight: bold; color:green;\">INCOME(<span>&#36;</span>) and HOME_VAL(<span>&#36;</span>):</span> <span style=\"font-weight: bold; color:#E97451;\">Significant</span> variability (high std compared to range and mean).<br>\n",
    "        3. <span style=\"font-weight: bold; color:blue;\">Variance</span> quantifies the extent of dispersion or spread among the data points in relation to the mean. A higher variance also indicates a larger variability in the dataset.<br>\n",
    "<span style=\"font-weight: bold; color:green;\">KIDSDRIV, HOMEKIDS, YOJ, TRAVTIME, TIF, CLM_FREQ, MVR_PTS, CAR_AGE, CLAIM_FLAG: </span>Relatively<span style=\"font-weight: bold; color:#E97451;\"> low</span> variance<br>\n",
    "<span style=\"font-weight: bold; color:green;\">AGE, INCOME(<span>&#36;</span>), HOME_VAL(<span>&#36;</span>), BLUEBOOK(<span>&#36;</span>), OLDCLAIM(<span>&#36;</span>), CLM_AMT(<span>&#36;</span>): </span><span style=\"font-weight: bold; color:#E97451;\">High</span> variance<br><br>\n",
    "        \n",
    "<span style=\"font-weight: bold; color:darkred;\">Measures of shape or distribution:</span><br>\n",
    "        1. <span style=\"font-weight: bold; color:blue;\">Skewness</span> of a dataset indicates whether it is skewed left or right, or if its distribution is symmetric.<br>\n",
    "<span style=\"font-weight: bold; color:green;\">YOJ:</span> <span style=\"font-weight: bold; color:#E97451;\">Left</span>-skewed<br>\n",
    "<span style=\"font-weight: bold; color:green;\">AGE:</span> Approximately <span style=\"font-weight: bold; color:#E97451;\">symmetric</span><br>\n",
    "<span style=\"font-weight: bold; color:green;\">CAR_AGE, TRAVTIME, BLUEBOOK(<span>&#36;</span>), HOME_VAL(<span>&#36;</span>), TIF, INCOME(<span>&#36;</span>), CLM_FREQ, HOMEKIDS, MVR_PTS, KIDSDRIV, OLDCLAIM(<span>&#36;</span>), CLM_AMT(<span>&#36;</span>), CLAIM_FLAG:</span> <span style=\"font-weight: bold; color:#E97451;\">Right</span>-skewed. A significant degree of skew and likely contains <span style=\"font-weight: bold; color:darkred;\">outliers</span>.<br>\n",
    "        2. <span style=\"font-weight: bold; color:blue;\">Kurtosis</span> of a dataset indicates whether it has a distribution that is more concentrated around its mean (peaked) or more distributed (flat).<br>\n",
    "<span style=\"font-weight: bold; color:green;\">KIDSDRIV, OLDCLAIM(<span>&#36;</span>), CLM_AMT(<span>&#36;</span>):</span> <span style=\"font-weight: bold; color:#E97451;\">High positive</span> kurtosis (indicating heavy tails and potential outliers/extreme values)<br>\n",
    "<span style=\"font-weight: bold; color:green;\">AGE, HOME_VAL(<span>&#36;</span>), CAR_AGE, CLAIM_FLAG:</span> <span style=\"font-weight: bold; color:#E97451;\">Negative</span> kurtosis (indicating lighter tails compared to a normal distribution)<br>\n",
    "<span style=\"font-weight: bold; color:green;\">HOMEKIDS, YOJ, INCOME(<span>&#36;</span>), TRAVTIME, BLUEBOOK(<span>&#36;</span>), TIF, CLM_FREQ, MVR_PTS:</span> Relatively <span style=\"font-weight: bold; color:#E97451;\">low positive</span> kurtosis (moderately heavy tails)\n",
    "<br><br>\n",
    "<span style=\"font-weight: bold; color:darkred;\">Percentiles</span> divide the data into hundredths, representing specific values or regions in a distribution. They help identify extreme values and assess the relative position of a value within the dataset.<br>\n",
    "    </li>\n",
    "    <br>\n",
    "</ul>\n",
    "</div>"
   ]
  },
  {
   "cell_type": "markdown",
   "metadata": {
    "tags": []
   },
   "source": [
    "<p><img alt=\"Insight logo\" src=\"https://raw.githubusercontent.com/warazkhan/CarInssurance-DataAnalysis/main/outliers.png\" align=\"left\" hspace=\"25px\" vspace=\"25px\" width=\"100\" height=\"80\" ></p>\n",
    "\n",
    "<ul style=\"list-style-type:none;\">\n",
    "  <li style=\"font-weight: bold;font-family:Trebuchet MS;font-size:35px;font-style: italic;color:red\">Outliers Treatment</li>\n",
    "</ul>\n",
    "<ul style=\"list-style-type:none;font-family:Trebuchet MS;font-size:17px;color:black\">\n",
    "    <li>Outliers are the data that differs from the rest, is rare, distinct, or does not fit in any way. There can be numerous causes of outliers, such as measurement error or data corruption.</li> \n",
    "</ul>"
   ]
  },
  {
   "cell_type": "markdown",
   "metadata": {},
   "source": [
    "<p><img alt=\"Insight logo\" src=\"https://raw.githubusercontent.com/warazkhan/CarInssurance-DataAnalysis/main/univariateOutliers.png\" align=\"left\" hspace=\"25px\" vspace=\"25px\" width=\"100\" height=\"100\" ></p>\n",
    "\n",
    "<ul style=\"list-style-type:none;\">\n",
    "  <li style=\"font-weight: bold;font-family:Trebuchet MS;font-size:30px;font-style: italic;color:green\">Univariate Outliers</li>\n",
    "</ul>\n",
    "<ul style=\"list-style-type:none;font-family:Trebuchet MS;font-size:15px;color:black\">\n",
    "    <li>Such outliers are data points that deviate from the expected range for a single variable.</li> \n",
    "</ul>"
   ]
  },
  {
   "cell_type": "markdown",
   "metadata": {},
   "source": [
    "<p><img alt=\"Insight logo\" src=\"https://raw.githubusercontent.com/warazkhan/CarInssurance-DataAnalysis/main/InterquantileRange.png\" align=\"left\" hspace=\"25px\" vspace=\"25px\" width=\"100\" height=\"80\" ></p>\n",
    "\n",
    "<ul style=\"list-style-type:none;\">\n",
    "  <li style=\"font-weight: bold;font-family:Trebuchet MS;font-size:25px;font-style: italic;color:darkblue\">Interquartile Range Method</li>\n",
    "</ul>\n",
    "<ul style=\"list-style-type:none;font-family:Trebuchet MS;font-size:15px;color:black\">\n",
    "    <li>Using the Interquartile Range (IQR) method, create boxplots to visualize the distribution of statistical data by dividing the dataset into quartiles. Quartiles divide the data into three points and four intervals, providing insights into the dispersion and variability of the data.</li> \n",
    "</ul>"
   ]
  },
  {
   "cell_type": "code",
   "execution_count": null,
   "metadata": {
    "execution": {
     "iopub.execute_input": "2023-09-10T20:04:07.068412Z",
     "iopub.status.busy": "2023-09-10T20:04:07.067752Z",
     "iopub.status.idle": "2023-09-10T20:04:07.077994Z",
     "shell.execute_reply": "2023-09-10T20:04:07.076658Z",
     "shell.execute_reply.started": "2023-09-10T20:04:07.06837Z"
    },
    "trusted": true
   },
   "outputs": [],
   "source": [
    "# Function to compute the IQR and treat outlier values by mean\n",
    "def ImputeOutliersIQR(dataframeVariable):\n",
    "    \n",
    "  Q1 = dataframeVariable.quantile(0.25) # the first quartile\n",
    "  Q3 = dataframeVariable.quantile(0.75) # the third quartile\n",
    "\n",
    "  # Compute lower and upper boundaries \n",
    "  IQR = Q3 - Q1 # the difference between the third quartile and the first quartile\n",
    "  lower = Q1 - (IQR * 1.5) # value represents the lower whisker of the boxplot, below which any data points are considered outliers\n",
    "  upper = Q3 + (IQR * 1.5) # value represents the upper whisker of the boxplot, above which any data points are considered outliers\n",
    "\n",
    "  dataframeVariable = np.where(dataframeVariable >= upper, dataframeVariable.mean(), np.where(dataframeVariable <= lower, dataframeVariable.mean(), dataframeVariable)) \n",
    "  # Since outliers are often present in significant numbers, simply deleting them is not always the most appropriate solution. Instead, a common approach is to replace the \n",
    "  # outliers (i.e., values that fall outside the boxplot's upper and lower whiskers) with the mean value of the dataframe variable.\n",
    "    \n",
    "  return dataframeVariable"
   ]
  },
  {
   "cell_type": "code",
   "execution_count": null,
   "metadata": {
    "execution": {
     "iopub.execute_input": "2023-09-10T20:04:07.080588Z",
     "iopub.status.busy": "2023-09-10T20:04:07.079577Z",
     "iopub.status.idle": "2023-09-10T20:04:07.095793Z",
     "shell.execute_reply": "2023-09-10T20:04:07.094407Z",
     "shell.execute_reply.started": "2023-09-10T20:04:07.080544Z"
    },
    "trusted": true
   },
   "outputs": [],
   "source": [
    "# Function to compute the IQR and drop the outliers\n",
    "def ImputeOutliersIQRDrop(dataframeVariable):\n",
    "    \n",
    "  Q1 = dataframeVariable.quantile(0.25) # the first quartile\n",
    "  Q3 = dataframeVariable.quantile(0.75) # the third quartile\n",
    "\n",
    "  # Compute lower and upper boundaries \n",
    "  IQR = Q3 - Q1 # the difference between the third quartile and the first quartile\n",
    "  lower = Q1 - (IQR * 1.5) # value represents the lower whisker of the boxplot, below which any data points are considered outliers\n",
    "  upper = Q3 + (IQR * 1.5) # value represents the upper whisker of the boxplot, above which any data points are considered outliers\n",
    " \n",
    "  # Create arrays of Boolean values indicating the outlier rows\n",
    "  upper_array = np.where(dataframeVariable>=upper)[0]\n",
    "  lower_array = np.where(dataframeVariable<=lower)[0]\n",
    " \n",
    "  # Removing the outliers\n",
    "  dataframeVariable.drop(index=upper_array, inplace=True) # Droppong the outliers\n",
    "  dataframeVariable.drop(index=lower_array, inplace=True) # Droppong the outliers\n",
    " \n",
    "  return dataframeVariable"
   ]
  },
  {
   "cell_type": "markdown",
   "metadata": {},
   "source": [
    "<p><img alt=\"Insight logo\" src=\"https://raw.githubusercontent.com/warazkhan/CarInssurance-DataAnalysis/main/analysis.png\" align=\"left\" hspace=\"25px\" vspace=\"0px\" width=\"90\" height=\"80\" ></p>\n",
    "\n",
    "<ul style=\"list-style-type:none;\">\n",
    "  <li style=\"font-weight: bold;font-family:Trebuchet MS;font-size:25px;font-style: italic;color:darkblue\">Handling Outliers in Income Variable</li>\n",
    "</ul>"
   ]
  },
  {
   "cell_type": "code",
   "execution_count": null,
   "metadata": {
    "execution": {
     "iopub.execute_input": "2023-09-10T20:04:07.098796Z",
     "iopub.status.busy": "2023-09-10T20:04:07.097672Z",
     "iopub.status.idle": "2023-09-10T20:04:07.230137Z",
     "shell.execute_reply": "2023-09-10T20:04:07.229272Z",
     "shell.execute_reply.started": "2023-09-10T20:04:07.09875Z"
    },
    "tags": [],
    "trusted": true
   },
   "outputs": [],
   "source": [
    "CarInssuranceDataframeWithoutOutliersINCOME = PreparedCarInssuranceDataframe.copy()\n",
    "#Remove Outliers of variable INCOME($)\n",
    "fig = make_subplots(\n",
    "    rows=1, cols=5,\n",
    "    specs=[[{}, {}, {}, {}, {}]], subplot_titles=(\"Initial Data\",\"Step 1\",\"Step 2\",\"Step 3\",\"Outliers Removed\"))\n",
    "\n",
    "# Plot Graph before removing outliers  \n",
    "fig.add_trace(go.Box(y=PreparedCarInssuranceDataframe['INCOME($)'],  name=\"INCOME($)\"), 1, 1)\n",
    "\n",
    "#Checking Outliers\n",
    "CarInssuranceDataframeWithoutOutliersINCOME['INCOME($)'] = ImputeOutliersIQR(CarInssuranceDataframeWithoutOutliersINCOME['INCOME($)'])\n",
    "\n",
    "# Plot Graph after removing outliers           \n",
    "fig.add_trace(go.Box(y=CarInssuranceDataframeWithoutOutliersINCOME['INCOME($)'], name=\"INCOME($)\"), 1, 2)\n",
    "\n",
    "CarInssuranceDataframeWithoutOutliersINCOME2 = CarInssuranceDataframeWithoutOutliersINCOME.copy()\n",
    "#Checking Outliers\n",
    "CarInssuranceDataframeWithoutOutliersINCOME2['INCOME($)'] = ImputeOutliersIQR(CarInssuranceDataframeWithoutOutliersINCOME2['INCOME($)'])\n",
    "\n",
    "# Plot Graph after removing outliers           \n",
    "fig.add_trace(go.Box(y=CarInssuranceDataframeWithoutOutliersINCOME2['INCOME($)'], name=\"INCOME($)\"), 1, 3)\n",
    "\n",
    "CarInssuranceDataframeWithoutOutliersINCOME3 = CarInssuranceDataframeWithoutOutliersINCOME2.copy()\n",
    "#Checking Outliers\n",
    "CarInssuranceDataframeWithoutOutliersINCOME3['INCOME($)'] = ImputeOutliersIQR(CarInssuranceDataframeWithoutOutliersINCOME3['INCOME($)'])\n",
    "\n",
    "# Plot Graph after removing outliers           \n",
    "fig.add_trace(go.Box(y=CarInssuranceDataframeWithoutOutliersINCOME3['INCOME($)'], name=\"INCOME($)\"), 1, 4)\n",
    "\n",
    "CarInssuranceDataframeWithoutOutliersINCOME4 = CarInssuranceDataframeWithoutOutliersINCOME3.copy()\n",
    "#Checking Outliers\n",
    "CarInssuranceDataframeWithoutOutliersINCOME4['INCOME($)'] = ImputeOutliersIQRDrop(CarInssuranceDataframeWithoutOutliersINCOME4['INCOME($)'])\n",
    "\n",
    "# Plot Graph after removing outliers           \n",
    "fig.add_trace(go.Box(y=CarInssuranceDataframeWithoutOutliersINCOME4['INCOME($)'], name=\"INCOME($)\"), 1, 5)\n",
    "\n",
    "\n",
    "fig.update_layout(height=700, width=1300, showlegend=False, title_text=\"REMOVE OUTLIERS FROM INCOME($)\", \n",
    "                  title_font = {\"size\": 22, \"color\": 'grey', 'family':'Arial Black'}, title={ 'x':0.5,'xanchor': 'center','yanchor': 'top'})"
   ]
  },
  {
   "cell_type": "markdown",
   "metadata": {},
   "source": [
    "<p><img alt=\"Insight logo\" src=\"https://raw.githubusercontent.com/warazkhan/CarInssurance-DataAnalysis/main/analysis.png\" align=\"left\" hspace=\"25px\" vspace=\"0px\" width=\"90\" height=\"80\" ></p>\n",
    "\n",
    "<ul style=\"list-style-type:none;\">\n",
    "  <li style=\"font-weight: bold;font-family:Trebuchet MS;font-size:25px;font-style: italic;color:darkblue\">Handling Outliers in Home Value Variable</li>\n",
    "</ul>"
   ]
  },
  {
   "cell_type": "code",
   "execution_count": null,
   "metadata": {
    "execution": {
     "iopub.execute_input": "2023-09-10T20:04:07.232729Z",
     "iopub.status.busy": "2023-09-10T20:04:07.231588Z",
     "iopub.status.idle": "2023-09-10T20:04:07.314481Z",
     "shell.execute_reply": "2023-09-10T20:04:07.313376Z",
     "shell.execute_reply.started": "2023-09-10T20:04:07.232688Z"
    },
    "trusted": true
   },
   "outputs": [],
   "source": [
    "CarInssuranceDataframeWithoutOutliersHOME_VAL = CarInssuranceDataframeWithoutOutliersINCOME4.copy()\n",
    "#Remove Outliers of variable HOME_VAL($)\n",
    "fig = make_subplots(\n",
    "    rows=1, cols=2,\n",
    "    specs=[[{}, {}]], subplot_titles=(\"Initial Data\",\"Outliers Removed\"))\n",
    "\n",
    "# Plot Graph before removing outliers  \n",
    "fig.add_trace(go.Box(y=PreparedCarInssuranceDataframe['HOME_VAL($)'],  name=\"HOME_VAL($)\"), 1, 1)\n",
    "\n",
    "#Checking Outliers\n",
    "CarInssuranceDataframeWithoutOutliersHOME_VAL['HOME_VAL($)'] = ImputeOutliersIQR(CarInssuranceDataframeWithoutOutliersHOME_VAL['HOME_VAL($)'])\n",
    "\n",
    "# Plot Graph after removing outliers           \n",
    "fig.add_trace(go.Box(y=CarInssuranceDataframeWithoutOutliersHOME_VAL['HOME_VAL($)'], name=\"HOME_VAL($)\"), 1, 2)\n",
    "\n",
    "fig.update_layout( height=700, width=1300, coloraxis=dict(colorscale='Plasma'), showlegend=False, title_text=\"REMOVE OUTLIERS FROM HOME_VAL($)\", \n",
    "                  title_font = {\"size\": 22, \"color\": 'grey', 'family':'Arial Black'}, title={ 'x':0.5,'xanchor': 'center','yanchor': 'top'})"
   ]
  },
  {
   "cell_type": "markdown",
   "metadata": {},
   "source": [
    "<p><img alt=\"Insight logo\" src=\"https://raw.githubusercontent.com/warazkhan/CarInssurance-DataAnalysis/main/analysis.png\" align=\"left\" hspace=\"25px\" vspace=\"0px\" width=\"90\" height=\"80\" ></p>\n",
    "\n",
    "<ul style=\"list-style-type:none;\">\n",
    "  <li style=\"font-weight: bold;font-family:Trebuchet MS;font-size:25px;font-style: italic;color:darkblue\">Handling Outliers in BlueBook Variable</li>\n",
    "</ul>"
   ]
  },
  {
   "cell_type": "code",
   "execution_count": null,
   "metadata": {
    "execution": {
     "iopub.execute_input": "2023-09-10T20:04:07.316201Z",
     "iopub.status.busy": "2023-09-10T20:04:07.315873Z",
     "iopub.status.idle": "2023-09-10T20:04:07.442585Z",
     "shell.execute_reply": "2023-09-10T20:04:07.441744Z",
     "shell.execute_reply.started": "2023-09-10T20:04:07.31617Z"
    },
    "trusted": true
   },
   "outputs": [],
   "source": [
    "CarInssuranceDataframeWithoutOutliersBLUEBOOK=CarInssuranceDataframeWithoutOutliersHOME_VAL.copy()\n",
    "#Remove Outliers of variable BLUEBOOK($)\n",
    "fig = make_subplots(\n",
    "    rows=1, cols=5,\n",
    "    specs=[[{}, {}, {}, {}, {}]], subplot_titles=(\"Initial Data\",\"Step 1\",\"Step 2\",\"Step 3\",\"Outliers Removed\"))\n",
    "\n",
    "# Plot Graph before removing outliers  \n",
    "fig.add_trace(go.Box(y=PreparedCarInssuranceDataframe['BLUEBOOK($)'],  name=\"BLUEBOOK($)\"), 1, 1)\n",
    "\n",
    "#Checking Outliers\n",
    "CarInssuranceDataframeWithoutOutliersBLUEBOOK['BLUEBOOK($)'] = ImputeOutliersIQR(CarInssuranceDataframeWithoutOutliersBLUEBOOK['BLUEBOOK($)'])\n",
    "\n",
    "# Plot Graph after removing outliers           \n",
    "fig.add_trace(go.Box(y=CarInssuranceDataframeWithoutOutliersBLUEBOOK['BLUEBOOK($)'], name=\"BLUEBOOK($)\"), 1, 2)\n",
    "\n",
    "CarInssuranceDataframeWithoutOutliersBLUEBOOK2 = CarInssuranceDataframeWithoutOutliersBLUEBOOK.copy()\n",
    "#Checking Outliers\n",
    "CarInssuranceDataframeWithoutOutliersBLUEBOOK2['BLUEBOOK($)'] = ImputeOutliersIQR(CarInssuranceDataframeWithoutOutliersBLUEBOOK2['BLUEBOOK($)'])\n",
    "\n",
    "# Plot Graph after removing outliers           \n",
    "fig.add_trace(go.Box(y=CarInssuranceDataframeWithoutOutliersBLUEBOOK2['BLUEBOOK($)'], name=\"BLUEBOOK($)\"), 1, 3)\n",
    "\n",
    "CarInssuranceDataframeWithoutOutliersBLUEBOOK3 = CarInssuranceDataframeWithoutOutliersBLUEBOOK2.copy()\n",
    "#Checking Outliers\n",
    "CarInssuranceDataframeWithoutOutliersBLUEBOOK3['BLUEBOOK($)'] = ImputeOutliersIQR(CarInssuranceDataframeWithoutOutliersBLUEBOOK3['BLUEBOOK($)'])\n",
    "\n",
    "# Plot Graph after removing outliers           \n",
    "fig.add_trace(go.Box(y=CarInssuranceDataframeWithoutOutliersBLUEBOOK3['BLUEBOOK($)'], name=\"BLUEBOOK($)\"), 1, 4)\n",
    "\n",
    "CarInssuranceDataframeWithoutOutliersBLUEBOOK4 = CarInssuranceDataframeWithoutOutliersBLUEBOOK3.copy()\n",
    "#Checking Outliers\n",
    "CarInssuranceDataframeWithoutOutliersBLUEBOOK4['BLUEBOOK($)'] = ImputeOutliersIQRDrop(CarInssuranceDataframeWithoutOutliersBLUEBOOK4['BLUEBOOK($)'])\n",
    "\n",
    "# Plot Graph after removing outliers           \n",
    "fig.add_trace(go.Box(y=CarInssuranceDataframeWithoutOutliersBLUEBOOK4['BLUEBOOK($)'], name=\"BLUEBOOK($)\"), 1, 5)\n",
    "\n",
    "\n",
    "fig.update_layout( height=700, width=1300, coloraxis=dict(colorscale='Plasma'), showlegend=False, title_text=\"REMOVE OUTLIERS FROM BLUEBOOK($)\", \n",
    "                  title_font = {\"size\": 22, \"color\": 'grey', 'family':'Arial Black'}, title={ 'x':0.5,'xanchor': 'center','yanchor': 'top'})"
   ]
  },
  {
   "cell_type": "markdown",
   "metadata": {},
   "source": [
    "<p><img alt=\"Insight logo\" src=\"https://raw.githubusercontent.com/warazkhan/CarInssurance-DataAnalysis/main/analysis.png\" align=\"left\" hspace=\"25px\" vspace=\"0px\" width=\"90\" height=\"80\" ></p>\n",
    "\n",
    "<ul style=\"list-style-type:none;\">\n",
    "  <li style=\"font-weight: bold;font-family:Trebuchet MS;font-size:25px;font-style: italic;color:darkblue\">Handling Outliers in Old Claim Variable</li>\n",
    "</ul>"
   ]
  },
  {
   "cell_type": "code",
   "execution_count": null,
   "metadata": {
    "execution": {
     "iopub.execute_input": "2023-09-10T20:04:07.445054Z",
     "iopub.status.busy": "2023-09-10T20:04:07.444318Z",
     "iopub.status.idle": "2023-09-10T20:04:07.538792Z",
     "shell.execute_reply": "2023-09-10T20:04:07.537705Z",
     "shell.execute_reply.started": "2023-09-10T20:04:07.44501Z"
    },
    "trusted": true
   },
   "outputs": [],
   "source": [
    "CarInssuranceDataframeWithoutOutliersOLDCLAIM= CarInssuranceDataframeWithoutOutliersBLUEBOOK4.copy()\n",
    "#Remove Outliers of variable OLDCLAIM($)\n",
    "fig = make_subplots(\n",
    "    rows=1, cols=3,\n",
    "    specs=[[{}, {}, {}]], subplot_titles=(\"Initial Data\",\"Step 1\",\"Outliers Removed\"))\n",
    "\n",
    "# Plot Graph before removing outliers  \n",
    "fig.add_trace(go.Box(y=PreparedCarInssuranceDataframe['OLDCLAIM($)'],  name=\"OLDCLAIM($)\"), 1, 1)\n",
    "\n",
    "#Checking Outliers\n",
    "CarInssuranceDataframeWithoutOutliersOLDCLAIM['OLDCLAIM($)'] = ImputeOutliersIQR(CarInssuranceDataframeWithoutOutliersOLDCLAIM['OLDCLAIM($)'])\n",
    "\n",
    "# Plot Graph after removing outliers           \n",
    "fig.add_trace(go.Box(y=CarInssuranceDataframeWithoutOutliersOLDCLAIM['OLDCLAIM($)'], name=\"OLDCLAIM($)\"), 1, 2)\n",
    "\n",
    "CarInssuranceDataframeWithoutOutliersOLDCLAIM2 = CarInssuranceDataframeWithoutOutliersOLDCLAIM.copy()\n",
    "#Checking Outliers\n",
    "CarInssuranceDataframeWithoutOutliersOLDCLAIM2['OLDCLAIM($)'] = ImputeOutliersIQR(CarInssuranceDataframeWithoutOutliersOLDCLAIM2['OLDCLAIM($)'])\n",
    "\n",
    "# Plot Graph after removing outliers           \n",
    "fig.add_trace(go.Box(y=CarInssuranceDataframeWithoutOutliersOLDCLAIM2['OLDCLAIM($)'], name=\"OLDCLAIM($)\"), 1, 3)\n",
    "\n",
    "fig.update_layout( height=700, width=1300, coloraxis=dict(colorscale='Plasma'), showlegend=False, title_text=\"REMOVE OUTLIERS FROM OLDCLAIM($)\", title_font = {\"size\": 22, \"color\": 'grey', 'family':'Arial Black'}, title={ 'x':0.5,'xanchor': 'center','yanchor': 'top'})"
   ]
  },
  {
   "cell_type": "markdown",
   "metadata": {},
   "source": [
    "<p><img alt=\"Insight logo\" src=\"https://raw.githubusercontent.com/warazkhan/CarInssurance-DataAnalysis/main/analysis.png\" align=\"left\" hspace=\"25px\" vspace=\"0px\" width=\"90\" height=\"80\" ></p>\n",
    "\n",
    "<ul style=\"list-style-type:none;\">\n",
    "  <li style=\"font-weight: bold;font-family:Trebuchet MS;font-size:25px;font-style: italic;color:darkblue\">Handling Outliers in Claim Amount Variable</li>\n",
    "</ul>"
   ]
  },
  {
   "cell_type": "code",
   "execution_count": null,
   "metadata": {
    "execution": {
     "iopub.execute_input": "2023-09-10T20:04:07.540457Z",
     "iopub.status.busy": "2023-09-10T20:04:07.540074Z",
     "iopub.status.idle": "2023-09-10T20:04:07.629725Z",
     "shell.execute_reply": "2023-09-10T20:04:07.628426Z",
     "shell.execute_reply.started": "2023-09-10T20:04:07.540425Z"
    },
    "trusted": true
   },
   "outputs": [],
   "source": [
    "CarInssuranceDataframeWithoutOutliers=CarInssuranceDataframeWithoutOutliersOLDCLAIM2.copy()\n",
    "#Remove Outliers of variable CLM_AMT($)\n",
    "fig = make_subplots(\n",
    "    rows=1, cols=2,\n",
    "    specs=[[{}, {}]], subplot_titles=(\"Initial Data\",\"Outliers Removed\"))\n",
    "\n",
    "# Plot Graph before removing outliers  \n",
    "fig.add_trace(go.Box(y=CarInssuranceDataframeWithoutOutliersOLDCLAIM2['CLM_AMT($)'],  name=\"CLM_AMT($)\"), 1, 1)\n",
    "\n",
    "#Checking Outliers\n",
    "CarInssuranceDataframeWithoutOutliers['CLM_AMT($)'] = ImputeOutliersIQR(CarInssuranceDataframeWithoutOutliers['CLM_AMT($)'])\n",
    "\n",
    "# Plot Graph after removing outliers           \n",
    "fig.add_trace(go.Box(y=CarInssuranceDataframeWithoutOutliers['CLM_AMT($)'], name=\"CLM_AMT($)\"), 1, 2)\n",
    "\n",
    "fig.update_layout( height=700, width=1300, coloraxis=dict(colorscale='Plasma'), showlegend=False, title_text=\"REMOVE OUTLIERS FROM CLM_AMT($)\", title_font = {\"size\": 22, \"color\": 'grey', 'family':'Arial Black'}, title={ 'x':0.5,'xanchor': 'center','yanchor': 'top'})"
   ]
  },
  {
   "cell_type": "markdown",
   "metadata": {},
   "source": [
    "<p><img alt=\"Insight logo\" src=\"https://raw.githubusercontent.com/warazkhan/Data-Analysis-Project/main/Insights%20logo.png\" align=\"left\" hspace=\"0px\" vspace=\"10px\" width=\"180\" height=\"150\"></p>\n",
    "\n",
    "<ul style=\"list-style-type:none;\">\n",
    "  <li style=\"font-weight: bold;font-family:Trebuchet MS;font-size:30px;font-style: italic;color:  red\">Insights:</li>\n",
    "</ul>\n",
    "<div class=\"alert alert-success\" role=\"alert\">\n",
    "<ul style=\"list-style-type:none;font-family:Trebuchet MS;font-size:17px;color:black\">\n",
    "    <li> During the univariate outlier analysis, columns with significant skewness were treated. Initially, outliers were replaced with mean values to avoid significant data loss. However, in the case of the BLUEBOOK($) column, where the number of outliers was minimal in the final step, they were dropped from the dataset as a suitable option of outlier treatment.</li>\n",
    "    <br>\n",
    "</ul>\n",
    "</div>"
   ]
  },
  {
   "cell_type": "markdown",
   "metadata": {},
   "source": [
    "<p><img alt=\"Insight logo\" src=\"https://raw.githubusercontent.com/warazkhan/CarInssurance-DataAnalysis/main/multivariateOutliers.png\" align=\"left\" hspace=\"25px\" vspace=\"20px\" width=\"90\" height=\"80\" ></p>\n",
    "\n",
    "<ul style=\"list-style-type:none;\">\n",
    "  <li style=\"font-weight: bold;font-family:Trebuchet MS;font-size:30px;font-style: italic;color:green\">Multivariate Outliers</li>\n",
    "</ul>\n",
    "<ul style=\"list-style-type:none;font-family:Trebuchet MS;font-size:15px;color:black\">\n",
    "    <li> Analyze the dataset for multivariate outliers, which are observations that deviate from the expected range for a combination of variables.</li> \n",
    "</ul>"
   ]
  },
  {
   "cell_type": "code",
   "execution_count": null,
   "metadata": {
    "execution": {
     "iopub.execute_input": "2023-09-10T20:04:07.631769Z",
     "iopub.status.busy": "2023-09-10T20:04:07.631405Z",
     "iopub.status.idle": "2023-09-10T20:04:07.642785Z",
     "shell.execute_reply": "2023-09-10T20:04:07.641545Z",
     "shell.execute_reply.started": "2023-09-10T20:04:07.631737Z"
    },
    "trusted": true
   },
   "outputs": [],
   "source": [
    "def ImputeMultivariateOutliersIQR(dataframe, variable):\n",
    "    \n",
    "  # Extract data based on CLAIM_FLAG values\n",
    "  claimFlag1 = dataframe[dataframe['CLAIM_FLAG'] == 1]\n",
    "  claimFlag0 = dataframe[dataframe['CLAIM_FLAG'] == 0]\n",
    "  \n",
    "  # Function to compute the IQR and treat outlier values by mean\n",
    "  def ComputeIQR(data):\n",
    "      Q1 = data.quantile(0.25)\n",
    "      Q3 = data.quantile(0.75)\n",
    "\n",
    "      IQR = Q3 - Q1\n",
    "      lower = Q1 - (IQR * 1.5)\n",
    "      upper = Q3 + (IQR * 1.5)\n",
    "    \n",
    "      return lower, upper\n",
    "    \n",
    "  # Compute lower and upper boundaries for each CLAIM_FLAG value\n",
    "  lower1, upper1 = ComputeIQR(claimFlag1[variable])\n",
    "  lower0, upper0 = ComputeIQR(claimFlag0[variable])\n",
    "\n",
    "  # Replace outliers with mean values within each CLAIM_FLAG value\n",
    "  claimFlag1[variable] = np.where(claimFlag1[variable] >= upper1, claimFlag1[variable].mean(), np.where(claimFlag1[variable] <= lower1, claimFlag1[variable].mean(), claimFlag1[variable]))\n",
    "  claimFlag0[variable] = np.where(claimFlag0[variable] >= upper0, claimFlag0[variable].mean(), np.where(claimFlag0[variable] <= lower0, claimFlag0[variable].mean(), claimFlag0[variable])) \n",
    "  \n",
    "  # Concatenate the modified dataframes and return the result\n",
    "  result = pd.concat([claimFlag1, claimFlag0], axis = 0)\n",
    "    \n",
    "  return result"
   ]
  },
  {
   "cell_type": "markdown",
   "metadata": {},
   "source": [
    "<p><img alt=\"Insight logo\" src=\"https://raw.githubusercontent.com/warazkhan/CarInssurance-DataAnalysis/main/analysis.png\" align=\"left\" hspace=\"25px\" vspace=\"0px\" width=\"90\" height=\"80\" ></p>\n",
    "\n",
    "<ul style=\"list-style-type:none;\">\n",
    "  <li style=\"font-weight: bold;font-family:Trebuchet MS;font-size:25px;font-style: italic;color:darkblue\">Handling Outliers in Income in Relation with Claim Flag Variable</li>\n",
    "</ul>"
   ]
  },
  {
   "cell_type": "code",
   "execution_count": null,
   "metadata": {
    "execution": {
     "iopub.execute_input": "2023-09-10T20:04:07.644914Z",
     "iopub.status.busy": "2023-09-10T20:04:07.644451Z",
     "iopub.status.idle": "2023-09-10T20:04:07.850371Z",
     "shell.execute_reply": "2023-09-10T20:04:07.849228Z",
     "shell.execute_reply.started": "2023-09-10T20:04:07.644881Z"
    },
    "trusted": true
   },
   "outputs": [],
   "source": [
    "CarInssuranceDataframeWithoutMultivariateOutliersINCOME = CarInssuranceDataframeWithoutOutliers.copy()\n",
    "#Remove Outliers of variable HOME_VAL($)\n",
    "fig = make_subplots(\n",
    "    rows=1, cols=5,\n",
    "    specs=[[{}, {}, {}, {}, {}]], subplot_titles=(\"Initial Data\",\"Step 1\",\"Step 2\",\"Step 3\",\"Outliers Removed\"))\n",
    "\n",
    "# Plot Graph before removing outliers  \n",
    "fig.add_trace(go.Box(x=CarInssuranceDataframeWithoutOutliers['CLAIM_FLAG'], y=CarInssuranceDataframeWithoutOutliers['INCOME($)'],  name=\"HOME_VAL($)\"), 1, 1)\n",
    "\n",
    "#Checking Outliers\n",
    "CarInssuranceDataframeWithoutMultivariateOutliersINCOME = ImputeMultivariateOutliersIQR(dataframe = CarInssuranceDataframeWithoutMultivariateOutliersINCOME, variable='INCOME($)')\n",
    "\n",
    "# Plot Graph after removing outliers           \n",
    "fig.add_trace(go.Box(x=CarInssuranceDataframeWithoutMultivariateOutliersINCOME['CLAIM_FLAG'], y=CarInssuranceDataframeWithoutMultivariateOutliersINCOME['INCOME($)'], name=\"INCOME($)\"), 1, 2)\n",
    "\n",
    "CarInssuranceDataframeWithoutMultivariateOutliersINCOME2 = CarInssuranceDataframeWithoutMultivariateOutliersINCOME.copy()\n",
    "#Checking Outliers\n",
    "CarInssuranceDataframeWithoutMultivariateOutliersINCOME2 = ImputeMultivariateOutliersIQR(dataframe = CarInssuranceDataframeWithoutMultivariateOutliersINCOME2, variable='INCOME($)')\n",
    "\n",
    "# Plot Graph after removing outliers           \n",
    "fig.add_trace(go.Box(x=CarInssuranceDataframeWithoutMultivariateOutliersINCOME2['CLAIM_FLAG'], y=CarInssuranceDataframeWithoutMultivariateOutliersINCOME2['INCOME($)'], name=\"INCOME($)\"), 1, 3)\n",
    "\n",
    "\n",
    "CarInssuranceDataframeWithoutMultivariateOutliersINCOME3 = CarInssuranceDataframeWithoutMultivariateOutliersINCOME2.copy()\n",
    "#Checking Outliers\n",
    "CarInssuranceDataframeWithoutMultivariateOutliersINCOME3 = ImputeMultivariateOutliersIQR(dataframe = CarInssuranceDataframeWithoutMultivariateOutliersINCOME3, variable='INCOME($)')\n",
    "\n",
    "# Plot Graph after removing outliers           \n",
    "fig.add_trace(go.Box(x=CarInssuranceDataframeWithoutMultivariateOutliersINCOME3['CLAIM_FLAG'], y=CarInssuranceDataframeWithoutMultivariateOutliersINCOME3['INCOME($)'], name=\"INCOME($)\"), 1, 4)\n",
    "\n",
    "\n",
    "CarInssuranceDataframeWithoutMultivariateOutliersINCOME4 = CarInssuranceDataframeWithoutMultivariateOutliersINCOME3.copy()\n",
    "#Checking Outliers\n",
    "CarInssuranceDataframeWithoutMultivariateOutliersINCOME4 = ImputeMultivariateOutliersIQR(dataframe = CarInssuranceDataframeWithoutMultivariateOutliersINCOME4, variable='INCOME($)')\n",
    "\n",
    "# Plot Graph after removing outliers           \n",
    "fig.add_trace(go.Box(x=CarInssuranceDataframeWithoutMultivariateOutliersINCOME4['CLAIM_FLAG'], y=CarInssuranceDataframeWithoutMultivariateOutliersINCOME4['INCOME($)'], name=\"INCOME($)\"), 1, 5)\n",
    "\n",
    "\n",
    "fig.update_layout( height=700, width=1300, coloraxis=dict(colorscale='Plasma'), showlegend=False, title_text=\"REMOVE OUTLIERS FROM INCOME($)\", \n",
    "                  title_font = {\"size\": 22, \"color\": 'grey', 'family':'Arial Black'}, title={ 'x':0.5,'xanchor': 'center','yanchor': 'top'})"
   ]
  },
  {
   "cell_type": "markdown",
   "metadata": {},
   "source": [
    "<p><img alt=\"Insight logo\" src=\"https://raw.githubusercontent.com/warazkhan/CarInssurance-DataAnalysis/main/analysis.png\" align=\"left\" hspace=\"25px\" vspace=\"0px\" width=\"90\" height=\"80\" ></p>\n",
    "\n",
    "<ul style=\"list-style-type:none;\">\n",
    "  <li style=\"font-weight: bold;font-family:Trebuchet MS;font-size:25px;font-style: italic;color:darkblue\">Handling Outliers in Home Value in Relation with Claim Flag Variable</li>\n",
    "</ul>"
   ]
  },
  {
   "cell_type": "code",
   "execution_count": null,
   "metadata": {
    "execution": {
     "iopub.execute_input": "2023-09-10T20:04:07.85227Z",
     "iopub.status.busy": "2023-09-10T20:04:07.851925Z",
     "iopub.status.idle": "2023-09-10T20:04:07.959577Z",
     "shell.execute_reply": "2023-09-10T20:04:07.958416Z",
     "shell.execute_reply.started": "2023-09-10T20:04:07.852233Z"
    },
    "trusted": true
   },
   "outputs": [],
   "source": [
    "CarInssuranceDataframeWithoutMultivariateOutliersHOME_VAL= CarInssuranceDataframeWithoutMultivariateOutliersINCOME4.copy()\n",
    "#Remove Outliers of variable HOME_VAL($)\n",
    "fig = make_subplots(\n",
    "    rows=1, cols=2,\n",
    "    specs=[[{}, {}]], subplot_titles=(\"Initial Data\",\"Outliers Removed\"))\n",
    "\n",
    "# Plot Graph before removing outliers  \n",
    "fig.add_trace(go.Box(x=CarInssuranceDataframeWithoutMultivariateOutliersINCOME4['CLAIM_FLAG'], y=CarInssuranceDataframeWithoutMultivariateOutliersINCOME4['HOME_VAL($)'],  name=\"HOME_VAL($)\"), 1, 1)\n",
    "\n",
    "#Checking Outliers\n",
    "CarInssuranceDataframeWithoutMultivariateOutliersHOME_VAL = ImputeMultivariateOutliersIQR(dataframe = CarInssuranceDataframeWithoutMultivariateOutliersHOME_VAL, variable='HOME_VAL($)')\n",
    "\n",
    "# Plot Graph after removing outliers           \n",
    "fig.add_trace(go.Box(x=CarInssuranceDataframeWithoutMultivariateOutliersHOME_VAL['CLAIM_FLAG'], y=CarInssuranceDataframeWithoutMultivariateOutliersHOME_VAL['HOME_VAL($)'], name=\"HOME_VAL($)\"), 1, 2)\n",
    "\n",
    "fig.update_layout( height=700, width=1300, coloraxis=dict(colorscale='Plasma'), showlegend=False, title_text=\"REMOVE OUTLIERS FROM HOME_VAL($)\", \n",
    "                  title_font = {\"size\": 22, \"color\": 'grey', 'family':'Arial Black'}, title={ 'x':0.5,'xanchor': 'center','yanchor': 'top'})"
   ]
  },
  {
   "cell_type": "markdown",
   "metadata": {},
   "source": [
    "<p><img alt=\"Insight logo\" src=\"https://raw.githubusercontent.com/warazkhan/CarInssurance-DataAnalysis/main/analysis.png\" align=\"left\" hspace=\"25px\" vspace=\"0px\" width=\"90\" height=\"80\" ></p>\n",
    "\n",
    "<ul style=\"list-style-type:none;\">\n",
    "  <li style=\"font-weight: bold;font-family:Trebuchet MS;font-size:25px;font-style: italic;color:darkblue\">Handling Outliers in BlueBook in Relation with Claim Flag Variable</li>\n",
    "</ul>"
   ]
  },
  {
   "cell_type": "code",
   "execution_count": null,
   "metadata": {
    "execution": {
     "iopub.execute_input": "2023-09-10T20:04:07.961782Z",
     "iopub.status.busy": "2023-09-10T20:04:07.961437Z",
     "iopub.status.idle": "2023-09-10T20:04:08.104701Z",
     "shell.execute_reply": "2023-09-10T20:04:08.103447Z",
     "shell.execute_reply.started": "2023-09-10T20:04:07.961752Z"
    },
    "trusted": true
   },
   "outputs": [],
   "source": [
    "CarInssuranceDataframeWithoutMultivariateOutliersBLUEBOOK= CarInssuranceDataframeWithoutMultivariateOutliersHOME_VAL.copy()\n",
    "\n",
    "#Remove Outliers of variable BLUEBOOK($)\n",
    "fig = make_subplots(\n",
    "    rows=1, cols=3,\n",
    "    specs=[[{}, {}, {}]], subplot_titles=(\"Initial Data\",\"Step 1\",\"Outliers Removed\"))\n",
    "\n",
    "# Plot Graph before removing outliers  \n",
    "fig.add_trace(go.Box(x=CarInssuranceDataframeWithoutMultivariateOutliersHOME_VAL['CLAIM_FLAG'], y=CarInssuranceDataframeWithoutMultivariateOutliersHOME_VAL['BLUEBOOK($)'],  name=\"BLUEBOOK($)\"), 1, 1)\n",
    "\n",
    "#Checking Outliers\n",
    "CarInssuranceDataframeWithoutMultivariateOutliersBLUEBOOK = ImputeMultivariateOutliersIQR(dataframe = CarInssuranceDataframeWithoutMultivariateOutliersBLUEBOOK, variable='BLUEBOOK($)')\n",
    "\n",
    "# Plot Graph after removing outliers           \n",
    "fig.add_trace(go.Box(x=CarInssuranceDataframeWithoutMultivariateOutliersBLUEBOOK['CLAIM_FLAG'], y=CarInssuranceDataframeWithoutMultivariateOutliersBLUEBOOK['BLUEBOOK($)'], name=\"BLUEBOOK($)\"), 1, 2)\n",
    "\n",
    "CarInssuranceDataframeWithoutMultivariateOutliersBLUEBOOK2= CarInssuranceDataframeWithoutMultivariateOutliersBLUEBOOK.copy()\n",
    "#Checking Outliers\n",
    "CarInssuranceDataframeWithoutMultivariateOutliersBLUEBOOK2 = ImputeMultivariateOutliersIQR(dataframe = CarInssuranceDataframeWithoutMultivariateOutliersBLUEBOOK2, variable='BLUEBOOK($)')\n",
    "\n",
    "# Plot Graph after removing outliers           \n",
    "fig.add_trace(go.Box(x=CarInssuranceDataframeWithoutMultivariateOutliersBLUEBOOK2['CLAIM_FLAG'], y=CarInssuranceDataframeWithoutMultivariateOutliersBLUEBOOK2['BLUEBOOK($)'], name=\"BLUEBOOK($)\"), 1, 3)\n",
    "\n",
    "fig.update_layout( height=700, width=1300, coloraxis=dict(colorscale='Plasma'), showlegend=False, title_text=\"REMOVE OUTLIERS FROM BLUEBOOK($)\", \n",
    "                  title_font = {\"size\": 22, \"color\": 'grey', 'family':'Arial Black'}, title={ 'x':0.5,'xanchor': 'center','yanchor': 'top'})"
   ]
  },
  {
   "cell_type": "markdown",
   "metadata": {},
   "source": [
    "<p><img alt=\"Insight logo\" src=\"https://raw.githubusercontent.com/warazkhan/CarInssurance-DataAnalysis/main/analysis.png\" align=\"left\" hspace=\"25px\" vspace=\"0px\" width=\"90\" height=\"80\" ></p>\n",
    "\n",
    "<ul style=\"list-style-type:none;\">\n",
    "  <li style=\"font-weight: bold;font-family:Trebuchet MS;font-size:25px;font-style: italic;color:darkblue\">Handling Outliers in Old Claim in Relation with Claim Flag Variable</li>\n",
    "</ul>"
   ]
  },
  {
   "cell_type": "code",
   "execution_count": null,
   "metadata": {
    "execution": {
     "iopub.execute_input": "2023-09-10T20:04:08.109501Z",
     "iopub.status.busy": "2023-09-10T20:04:08.10906Z",
     "iopub.status.idle": "2023-09-10T20:04:08.278843Z",
     "shell.execute_reply": "2023-09-10T20:04:08.277471Z",
     "shell.execute_reply.started": "2023-09-10T20:04:08.109468Z"
    },
    "tags": [],
    "trusted": true
   },
   "outputs": [],
   "source": [
    "CarInssuranceDataframeWithoutMultivariateOutliersOLDCLAIM= CarInssuranceDataframeWithoutMultivariateOutliersBLUEBOOK.copy()\n",
    "\n",
    "#Remove Outliers of variable OLDCLAIM($)\n",
    "fig = make_subplots(\n",
    "    rows=1, cols=3,\n",
    "    specs=[[{}, {}, {}]], subplot_titles=(\"Initial Data\",\"Step 1\",\"Outliers Removed\"))\n",
    "\n",
    "# Plot Graph before removing outliers  \n",
    "fig.add_trace(go.Box(x=CarInssuranceDataframeWithoutMultivariateOutliersBLUEBOOK['CLAIM_FLAG'], y=CarInssuranceDataframeWithoutMultivariateOutliersBLUEBOOK['OLDCLAIM($)'],  name=\"OLDCLAIM($)\"), 1, 1)\n",
    "#Checking Outliers\n",
    "CarInssuranceDataframeWithoutMultivariateOutliersOLDCLAIM = ImputeMultivariateOutliersIQR(dataframe = CarInssuranceDataframeWithoutMultivariateOutliersOLDCLAIM, variable='OLDCLAIM($)')\n",
    "\n",
    "CarInssuranceDataframeWithoutMultivariateOutliersOLDCLAIM2= CarInssuranceDataframeWithoutMultivariateOutliersOLDCLAIM.copy()\n",
    "#Checking Outliers\n",
    "CarInssuranceDataframeWithoutMultivariateOutliersOLDCLAIM2 = ImputeMultivariateOutliersIQR(dataframe = CarInssuranceDataframeWithoutMultivariateOutliersOLDCLAIM2, variable='OLDCLAIM($)')\n",
    "# Plot Graph after removing outliers           \n",
    "fig.add_trace(go.Box(x=CarInssuranceDataframeWithoutMultivariateOutliersOLDCLAIM2['CLAIM_FLAG'], y=CarInssuranceDataframeWithoutMultivariateOutliersOLDCLAIM2['OLDCLAIM($)'], name=\"OLDCLAIM($)\"), 1, 2)\n",
    "\n",
    "\n",
    "CarInssuranceDataframeWithoutMultivariateOutliersOLDCLAIM3= CarInssuranceDataframeWithoutMultivariateOutliersOLDCLAIM2.copy()\n",
    "#Checking Outliers\n",
    "CarInssuranceDataframeWithoutMultivariateOutliersOLDCLAIM3 = ImputeMultivariateOutliersIQR(dataframe = CarInssuranceDataframeWithoutMultivariateOutliersOLDCLAIM3, variable='OLDCLAIM($)')\n",
    "# Plot Graph after removing outliers           \n",
    "fig.add_trace(go.Box(x=CarInssuranceDataframeWithoutMultivariateOutliersOLDCLAIM3['CLAIM_FLAG'], y=CarInssuranceDataframeWithoutMultivariateOutliersOLDCLAIM3['OLDCLAIM($)'], name=\"OLDCLAIM($)\"), 1, 3)\n",
    "\n",
    "fig.update_layout( height=700, width=1300, coloraxis=dict(colorscale='Plasma'), showlegend=False, title_text=\"REMOVE OUTLIERS FROM OLDCLAIM($)\", \n",
    "                  title_font = {\"size\": 22, \"color\": 'grey', 'family':'Arial Black'}, title={ 'x':0.5,'xanchor': 'center','yanchor': 'top'})\n",
    "\n",
    "CarInssuranceDataframeWithoutMultivariateOutliers=CarInssuranceDataframeWithoutMultivariateOutliersOLDCLAIM3.copy()\n",
    "fig.show()"
   ]
  },
  {
   "cell_type": "markdown",
   "metadata": {},
   "source": [
    "<p><img alt=\"Insight logo\" src=\"https://raw.githubusercontent.com/warazkhan/Data-Analysis-Project/main/Insights%20logo.png\" align=\"left\" hspace=\"0px\" vspace=\"10px\" width=\"180\" height=\"150\"></p>\n",
    "\n",
    "<ul style=\"list-style-type:none;\">\n",
    "  <li style=\"font-weight: bold;font-family:Trebuchet MS;font-size:30px;font-style: italic;color:  red\">Insights:</li>\n",
    "</ul>\n",
    "<div class=\"alert alert-success\" role=\"alert\">\n",
    "<ul style=\"list-style-type:none;font-family:Trebuchet MS;font-size:17px;color:black\">\n",
    "    <li> During the multivariate outlier analysis, columns with significant skewness were treated in conjunction with the CLAIM_FLAG column. Outliers in these columns were replaced with the mean values of the respective columns to avoid significant data loss.</li>\n",
    "    <br>\n",
    "</ul>\n",
    "</div>"
   ]
  },
  {
   "cell_type": "markdown",
   "metadata": {},
   "source": [
    "<p><img alt=\"Insight logo\" src=\"https://raw.githubusercontent.com/warazkhan/CarInssurance-DataAnalysis/main/missingValues.png\" align=\"left\" hspace=\"25px\" vspace=\"25px\" width=\"100\" height=\"80\" ></p>\n",
    "\n",
    "<ul style=\"list-style-type:none;\">\n",
    "  <li style=\"font-weight: bold;font-family:Trebuchet MS;font-size:35px;font-style: italic;color:red\">Handling missing values in the dataset</li>\n",
    "</ul>\n",
    "<ul style=\"list-style-type:none;font-family:Trebuchet MS;font-size:17px;color:black\">\n",
    "    <li> Analyze and handle all the missing values in the dataset</li> \n",
    "</ul>"
   ]
  },
  {
   "cell_type": "code",
   "execution_count": null,
   "metadata": {
    "execution": {
     "iopub.execute_input": "2023-09-10T20:04:08.280705Z",
     "iopub.status.busy": "2023-09-10T20:04:08.280324Z",
     "iopub.status.idle": "2023-09-10T20:04:08.80723Z",
     "shell.execute_reply": "2023-09-10T20:04:08.806399Z",
     "shell.execute_reply.started": "2023-09-10T20:04:08.280666Z"
    },
    "trusted": true
   },
   "outputs": [],
   "source": [
    "percentageList=[]\n",
    "for i in CarInssuranceDataframeWithoutMultivariateOutliers.isnull().sum():\n",
    "    percentage= (i/len(CarInssuranceDataframeWithoutMultivariateOutliers))*100\n",
    "    percentage = round(percentage, 2)\n",
    "    percentageList.append(percentage)\n",
    "    \n",
    "missingValuesDf = pd.DataFrame({\n",
    "    'Variables': CarInssuranceDataframeWithoutMultivariateOutliers.columns,\n",
    "    'NumberOfMissingValues': CarInssuranceDataframeWithoutMultivariateOutliers.isnull().sum().values,\n",
    "    'MissingValuesPercentage': percentageList\n",
    "})\n",
    "\n",
    "missingValuesDf=missingValuesDf.sort_values(by='NumberOfMissingValues', ascending=False)\n",
    "\n",
    "df = missingValuesDf\n",
    "\n",
    "fig = px.bar(df, y='Variables', x='NumberOfMissingValues', color='Variables', text='MissingValuesPercentage')\n",
    "fig.update_traces(textangle=0, textfont_size=18, textposition=\"outside\", cliponaxis=False, texttemplate='%{x}<br>%{text}%')\n",
    "fig.update_layout(bargap=0.05, height=650, width=1200, showlegend=False, title_text=\"MISSING VALUES\", title_font = {\"size\": 22, \"color\": 'grey', 'family':'Arial Black'},\n",
    "                  title={ 'x':0.5,'xanchor': 'center','yanchor': 'top'})\n",
    "fig.update_xaxes(title_text=\"MISSING VALUES COUNT\")\n",
    "fig.update_yaxes(title_text=\"VARIABLES\")\n",
    "\n",
    "fig.show()"
   ]
  },
  {
   "cell_type": "markdown",
   "metadata": {},
   "source": [
    "<p><img alt=\"Insight logo\" src=\"https://raw.githubusercontent.com/warazkhan/Data-Analysis-Project/main/Insights%20logo.png\" align=\"left\" hspace=\"0px\" vspace=\"10px\" width=\"180\" height=\"150\"></p>\n",
    "\n",
    "<ul style=\"list-style-type:none;\">\n",
    "  <li style=\"font-weight: bold;font-family:Trebuchet MS;font-size:30px;font-style: italic;color:  red\">Insights:</li>\n",
    "</ul>\n",
    "<div class=\"alert alert-success\" role=\"alert\">\n",
    "<ul style=\"list-style-type:none;font-family:Trebuchet MS;font-size:17px;color:black\">\n",
    "    <li> The dataset contains a <span style=\"font-weight: bold; color:blue;\">large number</span> of missing values of some variables, making it impractical to simply drop them. To handle missing values in the dataset, analyze and address <span style=\"font-weight: bold; color:blue;\">categorical</span> and <span style=\"font-weight: bold; color:blue;\">numerical</span> variables separately.</li>\n",
    "    <br>\n",
    "</ul>\n",
    "</div>"
   ]
  },
  {
   "cell_type": "markdown",
   "metadata": {},
   "source": [
    "<p><img alt=\"Insight logo\" src=\"https://raw.githubusercontent.com/warazkhan/CarInssurance-DataAnalysis/main/numericData.png\" align=\"left\" hspace=\"25px\" vspace=\"20px\" width=\"80\" height=\"80\" ></p>\n",
    "\n",
    "<ul style=\"list-style-type:none;\">\n",
    "  <li style=\"font-weight: bold;font-family:Trebuchet MS;font-size:30px;font-style: italic;color:green\">Numeric Data</li>\n",
    "</ul>\n",
    "<ul style=\"list-style-type:none;font-family:Trebuchet MS;font-size:15px;color:black\">\n",
    "    <li> Analyze and handle the missing values in numeric data</li> \n",
    "</ul>"
   ]
  },
  {
   "cell_type": "code",
   "execution_count": null,
   "metadata": {
    "execution": {
     "iopub.execute_input": "2023-09-10T20:04:08.809113Z",
     "iopub.status.busy": "2023-09-10T20:04:08.808746Z",
     "iopub.status.idle": "2023-09-10T20:04:08.849284Z",
     "shell.execute_reply": "2023-09-10T20:04:08.848152Z",
     "shell.execute_reply.started": "2023-09-10T20:04:08.809081Z"
    },
    "tags": [],
    "trusted": true
   },
   "outputs": [],
   "source": [
    "CarInssuranceDataframeToImpute = CarInssuranceDataframeWithoutMultivariateOutliers.copy()\n",
    "\n",
    "# Check missing numeric values\n",
    "numericData = CarInssuranceDataframeToImpute.select_dtypes(include=np.number).columns.tolist()\n",
    "pd.DataFrame(CarInssuranceDataframeToImpute[numericData].isnull().sum()).T.style.background_gradient(cmap='flare')"
   ]
  },
  {
   "cell_type": "code",
   "execution_count": null,
   "metadata": {
    "execution": {
     "iopub.execute_input": "2023-09-10T20:04:08.857734Z",
     "iopub.status.busy": "2023-09-10T20:04:08.857355Z",
     "iopub.status.idle": "2023-09-10T20:04:08.922073Z",
     "shell.execute_reply": "2023-09-10T20:04:08.920827Z",
     "shell.execute_reply.started": "2023-09-10T20:04:08.857702Z"
    },
    "trusted": true
   },
   "outputs": [],
   "source": [
    "#Create Imputer\n",
    "meanImpute= CarInssuranceDataframeToImpute[['AGE', 'INCOME($)', 'HOME_VAL($)', 'BLUEBOOK($)']].copy()\n",
    "modeImpute= CarInssuranceDataframeToImpute[['YOJ', 'CAR_AGE' ]].copy()\n",
    "\n",
    "imputer = SimpleImputer(strategy = 'mean')\n",
    "imputer.fit(meanImpute)\n",
    "meanImpute = imputer.transform(meanImpute)\n",
    "\n",
    "imputer = SimpleImputer(strategy = 'most_frequent')\n",
    "imputer.fit(modeImpute)\n",
    "modeImpute = imputer.transform(modeImpute)\n",
    "\n",
    "CarInssuranceDataframeToImpute[['AGE', 'INCOME($)', 'HOME_VAL($)', 'BLUEBOOK($)']]=meanImpute\n",
    "CarInssuranceDataframeToImpute[['YOJ', 'CAR_AGE' ]]=modeImpute\n",
    "\n",
    "# Check missing numeric values\n",
    "pd.DataFrame(CarInssuranceDataframeToImpute[numericData].isnull().sum()).T.style.background_gradient(cmap='flare_r')"
   ]
  },
  {
   "cell_type": "markdown",
   "metadata": {},
   "source": [
    "<p><img alt=\"Insight logo\" src=\"https://raw.githubusercontent.com/warazkhan/Data-Analysis-Project/main/Insights%20logo.png\" align=\"left\" hspace=\"0px\" vspace=\"10px\" width=\"180\" height=\"150\"></p>\n",
    "\n",
    "<ul style=\"list-style-type:none;\">\n",
    "  <li style=\"font-weight: bold;font-family:Trebuchet MS;font-size:30px;font-style: italic;color:  red\">Insights:</li>\n",
    "</ul>\n",
    "<div class=\"alert alert-success\" role=\"alert\">\n",
    "<ul style=\"list-style-type:none;font-family:Trebuchet MS;font-size:17px;color:black\">\n",
    "    <li> The dataset contains a large number of missing values, making it impractical to simply drop them. To handle missing numeric data in the dataset, the <span style=\"font-weight: bold; color:blue;\"> imputation technique</span> is employed using an <span style=\"font-weight: bold; color:blue;\">SimpleImputer</span> from <span style=\"font-weight: bold; color:blue;\">Sklearn</span> library. The selected strategies for imputation are the <span style=\"font-weight: bold; color:blue;\">mean</span> and <span style=\"font-weight: bold; color:blue;\">most frequent</span> strategies, which involves replacing missing values with the mean and most frequent values present in the corresponding variable.</li>\n",
    "    <br>\n",
    "</ul>\n",
    "</div>"
   ]
  },
  {
   "cell_type": "markdown",
   "metadata": {},
   "source": [
    "<p><img alt=\"Insight logo\" src=\"https://raw.githubusercontent.com/warazkhan/CarInssurance-DataAnalysis/main/categoricalData.png\" align=\"left\" hspace=\"25px\" vspace=\"20px\" width=\"120\" height=\"120\" ></p>\n",
    "\n",
    "<ul style=\"list-style-type:none;\">\n",
    "  <li style=\"font-weight: bold;font-family:Trebuchet MS;font-size:30px;font-style: italic;color:green\"> Categorical Data</li>\n",
    "</ul>\n",
    "<ul style=\"list-style-type:none;font-family:Trebuchet MS;font-size:15px;color:black\">\n",
    "    <li> Analyze and handle the missing values in categorical data.</li> \n",
    "</ul>"
   ]
  },
  {
   "cell_type": "code",
   "execution_count": null,
   "metadata": {
    "execution": {
     "iopub.execute_input": "2023-09-10T20:04:08.923961Z",
     "iopub.status.busy": "2023-09-10T20:04:08.923573Z",
     "iopub.status.idle": "2023-09-10T20:04:08.971397Z",
     "shell.execute_reply": "2023-09-10T20:04:08.970223Z",
     "shell.execute_reply.started": "2023-09-10T20:04:08.923929Z"
    },
    "trusted": true
   },
   "outputs": [],
   "source": [
    "CarInssuranceDataframeImputedValues = CarInssuranceDataframeToImpute.copy() \n",
    "\n",
    "# Check missing  Categorical values\n",
    "catagoricalData = CarInssuranceDataframeImputedValues.select_dtypes(exclude=np.number).columns.tolist()\n",
    "pd.DataFrame(CarInssuranceDataframeImputedValues[catagoricalData].isnull().sum()).T.style.background_gradient(cmap='flare')"
   ]
  },
  {
   "cell_type": "code",
   "execution_count": null,
   "metadata": {
    "execution": {
     "iopub.execute_input": "2023-09-10T20:04:08.973013Z",
     "iopub.status.busy": "2023-09-10T20:04:08.972703Z",
     "iopub.status.idle": "2023-09-10T20:04:09.409404Z",
     "shell.execute_reply": "2023-09-10T20:04:09.407619Z",
     "shell.execute_reply.started": "2023-09-10T20:04:08.972986Z"
    },
    "trusted": true
   },
   "outputs": [],
   "source": [
    "imputer = SimpleImputer(strategy = 'most_frequent')\n",
    "imputer.fit(CarInssuranceDataframeImputedValues[catagoricalData])\n",
    "CarInssuranceDataframeImputedValues[catagoricalData] = imputer.transform(CarInssuranceDataframeImputedValues[catagoricalData])\n",
    "\n",
    "# Check missing catagoric values\n",
    "pd.DataFrame(CarInssuranceDataframeImputedValues[catagoricalData].isnull().sum()).T.style.background_gradient(cmap='Blues_r')"
   ]
  },
  {
   "cell_type": "markdown",
   "metadata": {},
   "source": [
    "<p><img alt=\"Insight logo\" src=\"https://raw.githubusercontent.com/warazkhan/Data-Analysis-Project/main/Insights%20logo.png\" align=\"left\" hspace=\"0px\" vspace=\"10px\" width=\"180\" height=\"150\"></p>\n",
    "\n",
    "<ul style=\"list-style-type:none;\">\n",
    "  <li style=\"font-weight: bold;font-family:Trebuchet MS;font-size:30px;font-style: italic;color:  red\">Insights:</li>\n",
    "</ul>\n",
    "<div class=\"alert alert-success\" role=\"alert\">\n",
    "<ul style=\"list-style-type:none;font-family:Trebuchet MS;font-size:17px;color:black\">\n",
    "    <li>To handle missing categorical data in the dataset, missing values are replaced with the <span style=\"font-weight: bold; color:blue;\">most frequent value</span> of the corresponding variable in the dataset, which is determined using the <span style=\"font-weight: bold; color:blue;\">mode</span> function.</li>\n",
    "    <br>\n",
    "</ul>\n",
    "</div>"
   ]
  },
  {
   "cell_type": "markdown",
   "metadata": {},
   "source": [
    "<p><img alt=\"Insight logo\" src=\"https://raw.githubusercontent.com/warazkhan/CarInssurance-DataAnalysis/main/correlation.png\" align=\"left\" hspace=\"25px\" vspace=\"25px\" width=\"120\" height=\"100\" ></p>\n",
    "<ul style=\"list-style-type:none;\">\n",
    "  <li style=\"font-weight: bold;font-family:Trebuchet MS;font-size:35px;font-style: italic;color:red\">Correlation</li>\n",
    "</ul>\n",
    "<ul style=\"list-style-type:none;font-family:Trebuchet MS;font-size:17px;color:black\">\n",
    "    <li> The correlation between variables can provide insights into the relationships and dependencies among different features. The correlation coefficient ranges from -1 to 1, where -1 indicates a perfect negative correlation, 1 indicates a perfect positive correlation, and 0 indicates no correlation.</li> \n",
    "</ul>"
   ]
  },
  {
   "cell_type": "code",
   "execution_count": null,
   "metadata": {
    "execution": {
     "iopub.execute_input": "2023-09-10T20:04:09.41186Z",
     "iopub.status.busy": "2023-09-10T20:04:09.411383Z",
     "iopub.status.idle": "2023-09-10T20:04:10.559776Z",
     "shell.execute_reply": "2023-09-10T20:04:10.558825Z",
     "shell.execute_reply.started": "2023-09-10T20:04:09.41182Z"
    },
    "tags": [],
    "trusted": true
   },
   "outputs": [],
   "source": [
    "fig, ax = plt.subplots(figsize = (20,10), dpi = 80)\n",
    "\n",
    "ax=sns.heatmap(CarInssuranceDataframeToImpute[numericData[1:]].corr(), annot=True, cmap='crest');\n",
    "ax.collections[0].set_clim(-1,1)    \n",
    "ax.set_title('\\nCorrelation of all columns in Car Inssurance Dataframe\\n\\n\\n', size=22, color='GREY', x=0.45, y=0.925, **{'fontname':'DejaVu Sans', 'weight':'bold' })\n",
    "ax.patch.set_edgecolor('black') \n",
    "plt.show()"
   ]
  },
  {
   "cell_type": "markdown",
   "metadata": {},
   "source": [
    "<p><img alt=\"Insight logo\" src=\"https://raw.githubusercontent.com/warazkhan/Data-Analysis-Project/main/Insights%20logo.png\" align=\"left\" hspace=\"0px\" vspace=\"10px\" width=\"180\" height=\"150\"></p>\n",
    "\n",
    "<ul style=\"list-style-type:none;\">\n",
    "  <li style=\"font-weight: bold;font-family:Trebuchet MS;font-size:30px;font-style: italic;color:  red\">Insights:</li>\n",
    "</ul>\n",
    "<div class=\"alert alert-success\" role=\"alert\">\n",
    "<ul style=\"list-style-type:none;font-family:Trebuchet MS;font-size:17px;color:black\">\n",
    "    <li> In the given car insurance dataset, the correlation between two variables is visualized using a color-coded graph. A correlation of 0 or near 0 is represented by the color  <span style=\"font-weight: bold; color:#065465;\">green</span>, with the  <span style=\"font-weight: bold; color:darkblue;\"> darkest blue</span> indicating a perfect positive correlation, and the  <span style=\"font-weight: bold; color:green;\"> lightest green</span> representing a perfect negative correlation.\n",
    "<br>\n",
    "<br>\n",
    "When evaluating the correlation between all the features, the <span style=\"font-weight: bold; color:#122ecc;\">corr()</span> method includes the correlation of each feature with itself, which always results in a correlation coefficient of 1. Therefore, the graph always has a darkest blue diagonal line from the upper left to the lower right. Apart from the diagonal, the remaining squares in the graph representing correlations between different features generally exhibit weak or moderately strong relationships.\n",
    "<br>\n",
    "<br>      \n",
    "<span style=\"font-weight: bold; color:darkred;\">Positive Correlation:</span> A positive correlation indicates that as one variable increases, the other variable also tends to increase. In this dataset, variables related to income(<span style=\"font-weight: bold; color:#122ecc;\">INCOME(<span>&#36;</span>)</span>), home value(<span style=\"font-weight: bold; color:#122ecc;\">HOME_VAL(<span>&#36;</span>)</span>), car value (<span style=\"font-weight: bold; color:#122ecc;\">BLUEBOOK(<span>&#36;</span>)</span>), age of customer (<span style=\"font-weight: bold; color:#122ecc;\">AGE</span>), and years in the same job (<span style=\"font-weight: bold; color:#122ecc;\">YOJ</span>) are positively correlated with each other.\n",
    "<br>\n",
    "<br>        \n",
    "        \n",
    "<span style=\"font-weight: bold; color:darkred;\">Negative Correlation:</span> A negative correlation indicates that as one variable increases, the other variable tends to decrease. For instance, the number of children at home (<span style=\"font-weight: bold; color:#122ecc;\">HOMEKIDS</span>) may be negatively correlated with variables such as (<span style=\"font-weight: bold; color:#122ecc;\">AGE</span>) and (<span style=\"font-weight: bold; color:#122ecc;\">INCOME(<span>&#36;</span>)</span>), suggesting that as the number of children at home increases, the average age and income of individuals may decrease. The number of children at home (<span style=\"font-weight: bold; color:#122ecc;\">HOMEKIDS</span>) is also negatively linked with the age of the car.\n",
    "<br>\n",
    "<br> \n",
    "<span style=\"font-weight: bold; color:darkred;\">Weak or No Correlation:</span> Some variables may have a weak or no correlation, indicating that changes in one variable do not significantly affect the other variable. Variables such as claim frequency in the past 5 years (<span style=\"font-weight: bold; color:#122ecc;\">CLM_FREQ</span>), the total claimed amount (<span style=\"font-weight: bold; color:#122ecc;\">OLDCLAIM(<span>&#36;</span>)</span>), and the number of Motor Vehicle Records Points (<span style=\"font-weight: bold; color:#122ecc;\">MVR-PTS</span>) are weakly positively correlated with the target amount (<span style=\"font-weight: bold; color:#122ecc;\">TARGET_AMT(<span>&#36;</span>)</span>), which represents the payout in case the car was in a crash. </li>\n",
    "    <br>\n",
    "</ul>\n",
    "</div>"
   ]
  },
  {
   "cell_type": "markdown",
   "metadata": {},
   "source": [
    "<p><img alt=\"Insight logo\" src=\"https://raw.githubusercontent.com/warazkhan/CarInssurance-DataAnalysis/main/NormalisingAndScaling.png\" align=\"left\" hspace=\"25px\" vspace=\"25px\" width=\"100\" height=\"80\" ></p>\n",
    "\n",
    "<ul style=\"list-style-type:none;\">\n",
    "  <li style=\"font-weight: bold;font-family:Trebuchet MS;font-size:35px;font-style: italic;color:red\">Normalising and scaling (numerical variables)</li>\n",
    "</ul>\n",
    "<ul style=\"list-style-type:none;font-family:Trebuchet MS;font-size:17px;color:black\">\n",
    "    <li>Analyze the dataset and perform both normalization and scaling techniques.</li> \n",
    "</ul>"
   ]
  },
  {
   "cell_type": "markdown",
   "metadata": {},
   "source": [
    "<p><img alt=\"Insight logo\" src=\"https://raw.githubusercontent.com/warazkhan/CarInssurance-DataAnalysis/main/normalising.png\" align=\"left\" hspace=\"25px\" vspace=\"25px\" width=\"130\" height=\"150\" ></p>\n",
    "\n",
    "<ul style=\"list-style-type:none;\">\n",
    "  <li style=\"font-weight: bold;font-family:Trebuchet MS;font-size:25px;font-style: italic;color:darkblue\">Normalising</li>\n",
    "</ul>\n",
    "<ul style=\"list-style-type:none;font-family:Trebuchet MS;font-size:15px;color:black\">\n",
    "    <li> Normalisation aims to make observations so that they can be described as <span style=\"font-weight: bold; color:#122ecc;\">normal distribution</span>. A normal distribution, often referred to as a \"bell curve\", is a statistical distribution characterized by an equal number of observations falling above and below the mean. In a normal distribution, the mean and the median are identical, and there is a greater concentration of observations near the mean. This distribution is also known as a <span style=\"font-weight: bold; color:#122ecc;\">Gaussian distribution</span>.\n",
    "</ul>"
   ]
  },
  {
   "cell_type": "code",
   "execution_count": null,
   "metadata": {
    "execution": {
     "iopub.execute_input": "2023-09-10T20:04:10.56211Z",
     "iopub.status.busy": "2023-09-10T20:04:10.561512Z",
     "iopub.status.idle": "2023-09-10T20:04:10.57078Z",
     "shell.execute_reply": "2023-09-10T20:04:10.569337Z",
     "shell.execute_reply.started": "2023-09-10T20:04:10.562075Z"
    },
    "trusted": true
   },
   "outputs": [],
   "source": [
    "# Select the numeric columns for normalising and scaling numerical values\n",
    "numericData = CarInssuranceDataframeImputedValues.select_dtypes(include=np.number).columns\n",
    "# InitialData\n",
    "InitialData = CarInssuranceDataframeImputedValues[numericData].copy()"
   ]
  },
  {
   "cell_type": "code",
   "execution_count": null,
   "metadata": {
    "execution": {
     "iopub.execute_input": "2023-09-10T20:04:10.572611Z",
     "iopub.status.busy": "2023-09-10T20:04:10.57217Z",
     "iopub.status.idle": "2023-09-10T20:04:10.58872Z",
     "shell.execute_reply": "2023-09-10T20:04:10.587586Z",
     "shell.execute_reply.started": "2023-09-10T20:04:10.57256Z"
    },
    "trusted": true
   },
   "outputs": [],
   "source": [
    "def PlotTheNormalisedData(column):\n",
    "    \n",
    "    #Get the column from the initial data set\n",
    "    InitialDataframeColumn = InitialData[column]\n",
    "    #Get the column from the normalised data set\n",
    "    normalisedDataFrameColumn = (InitialDataframeColumn - InitialDataframeColumn.mean()) / InitialDataframeColumn.std()\n",
    "    \n",
    "    fig, ax = plt.subplots(1, 2, figsize=(15, 2))\n",
    "    # Plot Graph before Normalising\n",
    "    sns.distplot(InitialDataframeColumn, ax=ax[0], kde=True, color=\"darkblue\")\n",
    "    ax[0].set_xlabel(\"Initial Data\", fontsize=12)\n",
    "    ax[0].set_ylabel(\"Count\", fontsize=12)\n",
    "    ax[0].grid(color='#b2d6c7', linewidth=1, axis='y', alpha=.3)\n",
    "    ax[0].set_facecolor((1, 1, 1))\n",
    "    ax[0].patch.set_edgecolor('black')\n",
    "\n",
    "    # Plot Graph after Normalising\n",
    "    sns.distplot(normalisedDataFrameColumn, ax=ax[1], kde=True, color='darkgreen')\n",
    "    ax[1].set_xlabel(\"Normalised Data\", fontsize=12)\n",
    "    ax[1].set_ylabel(\"Count\", fontsize=12)\n",
    "    ax[1].grid(color='#b2d6c7', linewidth=1, axis='y', alpha=.3)\n",
    "    ax[1].set_facecolor((1, 1, 1))\n",
    "    ax[1].patch.set_edgecolor('black')\n",
    "\n",
    "    fig.suptitle(column, fontsize=17, color='grey', font='Arial', fontweight='bold')\n",
    "    plt.show()"
   ]
  },
  {
   "cell_type": "code",
   "execution_count": null,
   "metadata": {
    "execution": {
     "iopub.execute_input": "2023-09-10T20:04:10.590983Z",
     "iopub.status.busy": "2023-09-10T20:04:10.5898Z",
     "iopub.status.idle": "2023-09-10T20:04:22.336177Z",
     "shell.execute_reply": "2023-09-10T20:04:22.33464Z",
     "shell.execute_reply.started": "2023-09-10T20:04:10.590952Z"
    },
    "tags": [],
    "trusted": true
   },
   "outputs": [],
   "source": [
    "for col in InitialData:\n",
    "    if col=='ID':\n",
    "        continue\n",
    "    else:\n",
    "        PlotTheNormalisedData(col)"
   ]
  },
  {
   "cell_type": "markdown",
   "metadata": {},
   "source": [
    "<p><img alt=\"Insight logo\" src=\"https://raw.githubusercontent.com/warazkhan/Data-Analysis-Project/main/Insights%20logo.png\" align=\"left\" hspace=\"0px\" vspace=\"10px\" width=\"180\" height=\"150\"></p>\n",
    "\n",
    "<ul style=\"list-style-type:none;\">\n",
    "  <li style=\"font-weight: bold;font-family:Trebuchet MS;font-size:30px;font-style: italic;color:  red\">Insights:</li>\n",
    "</ul>\n",
    "<div class=\"alert alert-success\" role=\"alert\">\n",
    "<ul style=\"list-style-type:none;font-family:Trebuchet MS;font-size:17px;color:black\">\n",
    "    <li>During analysis of the car insurance dataset, numeric columns were normalized by using the <span style=\"font-weight: bold; color:#122ecc;\">z-score formula</span>. This normalisation process involves <span style=\"font-weight: bold; color:#122ecc;\">subtracting the mean and dividing by the standard deviation of each data point</span>. It eliminates differences in magnitudes and ranges, enabling fairer comparison and interpretation of the data. Normalization can also changes the original data's shape sometimes.</li>\n",
    "    <br>\n",
    "</ul>\n",
    "</div>"
   ]
  },
  {
   "cell_type": "markdown",
   "metadata": {},
   "source": [
    "<p><img alt=\"Insight logo\" src=\"https://raw.githubusercontent.com/warazkhan/CarInssurance-DataAnalysis/main/scaling.png\" align=\"left\" hspace=\"25px\" vspace=\"5px\" width=\"100\" height=\"80\" ></p>\n",
    "\n",
    "<ul style=\"list-style-type:none;\">\n",
    "  <li style=\"font-weight: bold;font-family:Trebuchet MS;font-size:25px;font-style: italic;color:darkblue\">Scaling</li>\n",
    "</ul>\n",
    "<ul style=\"list-style-type:none;font-family:Trebuchet MS;font-size:15px;color:black\">\n",
    "    <li>Scaling is the transformation of data to a<span style=\"font-weight: bold; color:#122ecc;\"> specific scale</span>, like 0-1 or 0-100.</li> \n",
    "</ul>"
   ]
  },
  {
   "cell_type": "code",
   "execution_count": null,
   "metadata": {
    "execution": {
     "iopub.execute_input": "2023-09-10T20:04:22.338721Z",
     "iopub.status.busy": "2023-09-10T20:04:22.338192Z",
     "iopub.status.idle": "2023-09-10T20:04:22.353639Z",
     "shell.execute_reply": "2023-09-10T20:04:22.35238Z",
     "shell.execute_reply.started": "2023-09-10T20:04:22.338678Z"
    },
    "trusted": true
   },
   "outputs": [],
   "source": [
    "def PlotTheScaledData(column):\n",
    "    \n",
    "    # Get the column from Initial Data\n",
    "    InitialDataColumn = InitialData[column]\n",
    "    # Get the column from Scaled Data\n",
    "    ScaledDataColumn = (InitialDataColumn - InitialDataColumn.min()) / (InitialDataColumn.max() - InitialDataColumn.min())\n",
    "\n",
    "    fig, ax = plt.subplots(1, 2, figsize=(15, 2))\n",
    "\n",
    "    # Plot Graph before Scaling\n",
    "    sns.distplot(InitialDataColumn, ax=ax[0], kde=True, bins=5, color=\"purple\")\n",
    "    ax[0].set_xlabel(\"Initial Data\", fontsize=12)\n",
    "    ax[0].set_ylabel(\"Count\", fontsize=12)\n",
    "    ax[0].grid(color='#b2d6c7', linewidth=1, axis='y', alpha=.3)\n",
    "    ax[0].set_facecolor((1, 1, 1))\n",
    "    ax[0].patch.set_edgecolor('black')\n",
    "\n",
    "    # Plot Graph after Scaling\n",
    "    sns.distplot(ScaledDataColumn, ax=ax[1], kde=True, bins=5, color='skyblue')\n",
    "    ax[1].set_xlabel(\"Scaled Data\", fontsize=12)\n",
    "    ax[1].set_ylabel(\"Count\", fontsize=12)\n",
    "    ax[1].grid(color='#b2d6c7', linewidth=1, axis='y', alpha=.3)\n",
    "    ax[1].set_facecolor((1, 1, 1))\n",
    "    ax[1].patch.set_edgecolor('black')\n",
    "\n",
    "    fig.suptitle(column, fontsize=17, color='grey', font='Arial', fontweight='bold')\n",
    "    plt.show()"
   ]
  },
  {
   "cell_type": "code",
   "execution_count": null,
   "metadata": {
    "execution": {
     "iopub.execute_input": "2023-09-10T20:04:22.355765Z",
     "iopub.status.busy": "2023-09-10T20:04:22.355285Z",
     "iopub.status.idle": "2023-09-10T20:04:31.957339Z",
     "shell.execute_reply": "2023-09-10T20:04:31.956103Z",
     "shell.execute_reply.started": "2023-09-10T20:04:22.355723Z"
    },
    "trusted": true
   },
   "outputs": [],
   "source": [
    "for col in InitialData:\n",
    "    if col=='ID':\n",
    "        continue\n",
    "    else:\n",
    "        PlotTheScaledData(col)"
   ]
  },
  {
   "cell_type": "markdown",
   "metadata": {},
   "source": [
    "<p><img alt=\"Insight logo\" src=\"https://raw.githubusercontent.com/warazkhan/Data-Analysis-Project/main/Insights%20logo.png\" align=\"left\" hspace=\"0px\" vspace=\"10px\" width=\"180\" height=\"150\"></p>\n",
    "\n",
    "<ul style=\"list-style-type:none;\">\n",
    "  <li style=\"font-weight: bold;font-family:Trebuchet MS;font-size:30px;font-style: italic;color:  red\">Insights:</li>\n",
    "</ul>\n",
    "<div class=\"alert alert-success\" role=\"alert\">\n",
    "<ul style=\"list-style-type:none;font-family:Trebuchet MS;font-size:17px;color:black\">\n",
    "    <li>The car insurance dataset was analyzed, and the numeric columns were scaled using  <span style=\"font-weight: bold; color:#122ecc;\">Min-Max scaling</span>. This process involved  <span style=\"font-weight: bold; color:#122ecc;\">subtracting each value in the dataset by the minimum value and then dividing it by the difference between the maximum and minimum values of the dataset</span>. This transformation involved mapping the values to a specific range 0-1. Scaling ensures fair comparison by bringing variables to a similar scale while preserving the original distribution's shape.</li>\n",
    "    <br>\n",
    "</ul>\n",
    "</div>"
   ]
  },
  {
   "cell_type": "markdown",
   "metadata": {},
   "source": [
    "<p><img alt=\"Insight logo\" src=\"https://raw.githubusercontent.com/warazkhan/CarInssurance-DataAnalysis/main/grouping.png\" align=\"left\" hspace=\"25px\" vspace=\"20px\" width=\"100\" height=\"80\" ></p>\n",
    "<ul style=\"list-style-type:none;\">\n",
    "  <li style=\"font-weight: bold;font-family:Trebuchet MS;font-size:35px;font-style: italic;color:red\">Grouping of data</li>\n",
    "</ul>\n",
    "<ul style=\"list-style-type:none;font-family:Trebuchet MS;font-size:17px;color:black\">\n",
    "    <li>Analyze the dataset for data grouping.</li> \n",
    "</ul>"
   ]
  },
  {
   "cell_type": "markdown",
   "metadata": {},
   "source": [
    "<p><img alt=\"Insight logo\" src=\"https://raw.githubusercontent.com/warazkhan/CarInssurance-DataAnalysis/main/age.png\" align=\"left\" hspace=\"25px\" vspace=\"20px\" width=\"130\" height=\"100\" ></p>\n",
    "<ul style=\"list-style-type:none;\">\n",
    "  <li style=\"font-weight: bold;font-family:Trebuchet MS;font-size:25px;font-style: italic;color:darkblue\">Group by Age</li>\n",
    "</ul>"
   ]
  },
  {
   "cell_type": "code",
   "execution_count": null,
   "metadata": {
    "execution": {
     "iopub.execute_input": "2023-09-10T20:04:31.959679Z",
     "iopub.status.busy": "2023-09-10T20:04:31.958813Z",
     "iopub.status.idle": "2023-09-10T20:04:32.115315Z",
     "shell.execute_reply": "2023-09-10T20:04:32.114117Z",
     "shell.execute_reply.started": "2023-09-10T20:04:31.959638Z"
    },
    "trusted": true
   },
   "outputs": [],
   "source": [
    "GroupByAge = CarInssuranceDataframeImputedValues.groupby(['AGE'])\n",
    "GroupByAge= GroupByAge.first().sort_values(by='AGE')\n",
    "GroupByAge.style.background_gradient(cmap='Purples')"
   ]
  },
  {
   "cell_type": "code",
   "execution_count": null,
   "metadata": {
    "execution": {
     "iopub.execute_input": "2023-09-10T20:04:32.117748Z",
     "iopub.status.busy": "2023-09-10T20:04:32.117045Z",
     "iopub.status.idle": "2023-09-10T20:04:32.348247Z",
     "shell.execute_reply": "2023-09-10T20:04:32.347143Z",
     "shell.execute_reply.started": "2023-09-10T20:04:32.117714Z"
    },
    "trusted": true
   },
   "outputs": [],
   "source": [
    "# Create subplots for pie charts\n",
    "df= GroupByAge\n",
    "fig = make_subplots(\n",
    "    rows=4, cols=7,\n",
    "    specs=[[{}, {},{},{},{},{},{}],\n",
    "           [{}, {},{},{},{},{},{}],\n",
    "          [{}, {},{},{},{},{},{}],\n",
    "          [{}, {},{},{},{},None,{}]], subplot_titles=(\"KIDSDRIV\",\"BIRTH\", \"GENDER\", \"HOMEKIDS\", \"YOJ\" ,\"INCOME($)\",\"PARENT1\",\"HOME_VAL($)\",\n",
    "                                                    \"MSTATUS\", \"CAR_TYPE\", \"EDUCATION\" ,\"OCCUPATION\", \"TRAVTIME\", \"CAR_USE\", 'BLUEBOOK($)', 'TIF', 'RED_CAR',\n",
    "                                                    'OLDCLAIM($)', 'CLM_FREQ', 'REVOKED', 'MVR_PTS', 'CLM_AMT($)','CAR_AGE', 'CLAIM_FLAG', None,'URBANICITY')\n",
    ")\n",
    "\n",
    "# Plot the bars\n",
    "fig.add_trace(go.Scatter(x=df.index, y=df['KIDSDRIV'], mode='lines+markers', hoverinfo=\"x+y\"), 1, 1)\n",
    "fig.add_trace(go.Scatter(x=df.index, y=df['BIRTH'], mode='lines+markers', hoverinfo=\"x+y\"), 1, 2)\n",
    "fig.add_trace(go.Scatter(x=df.index, y=df['GENDER'], mode='lines+markers', hoverinfo=\"x+y\"), 1, 3)\n",
    "fig.add_trace(go.Scatter(x=df.index, y=df['HOMEKIDS'], mode='lines+markers', hoverinfo=\"x+y\"), 1, 4)\n",
    "fig.add_trace(go.Scatter(x=df.index, y=df['YOJ'], mode='lines+markers', hoverinfo=\"x+y\"), 1, 5)\n",
    "fig.add_trace(go.Scatter(x=df.index, y=df['INCOME($)'], mode='lines+markers', hoverinfo=\"x+y\"), 1, 6)\n",
    "fig.add_trace(go.Scatter(x=df.index, y=df['PARENT1'], mode='lines+markers', hoverinfo=\"x+y\"), 1, 7)\n",
    "fig.add_trace(go.Scatter(x=df.index, y=df['HOME_VAL($)'], mode='lines+markers', hoverinfo=\"x+y\"), 2, 1)\n",
    "fig.add_trace(go.Scatter(x=df.index, y=df['MSTATUS'], mode='lines+markers', hoverinfo=\"x+y\"), 2, 2)\n",
    "fig.add_trace(go.Scatter(x=df.index, y=df['CAR_TYPE'], mode='lines+markers', hoverinfo=\"x+y\"), 2, 3)\n",
    "fig.add_trace(go.Scatter(x=df.index, y=df['EDUCATION'], mode='lines+markers', hoverinfo=\"x+y\"), 2, 4)\n",
    "fig.add_trace(go.Scatter(x=df.index, y=df['OCCUPATION'], mode='lines+markers', hoverinfo=\"x+y\"), 2, 5)\n",
    "fig.add_trace(go.Scatter(x=df.index, y=df['TRAVTIME'], mode='lines+markers', hoverinfo=\"x+y\"), 2, 6)\n",
    "fig.add_trace(go.Scatter(x=df.index, y=df['CAR_USE'], mode='lines+markers', hoverinfo=\"x+y\"), 2, 7)\n",
    "fig.add_trace(go.Scatter(x=df.index, y=df['BLUEBOOK($)'], mode='lines+markers', hoverinfo=\"x+y\"), 3, 1)\n",
    "fig.add_trace(go.Scatter(x=df.index, y=df['TIF'], mode='lines+markers', hoverinfo=\"x+y\"), 3, 2)\n",
    "fig.add_trace(go.Scatter(x=df.index, y=df['RED_CAR'], mode='lines+markers', hoverinfo=\"x+y\"), 3, 3)\n",
    "fig.add_trace(go.Scatter(x=df.index, y=df['OLDCLAIM($)'], mode='lines+markers', hoverinfo=\"x+y\"), 3, 4)\n",
    "fig.add_trace(go.Scatter(x=df.index, y=df['CLM_FREQ'], mode='lines+markers', hoverinfo=\"x+y\"), 3, 5)\n",
    "fig.add_trace(go.Scatter(x=df.index, y=df['REVOKED'], mode='lines+markers', hoverinfo=\"x+y\"), 3, 6)\n",
    "fig.add_trace(go.Scatter(x=df.index, y=df['MVR_PTS'], mode='lines+markers', hoverinfo=\"x+y\"), 3, 7)\n",
    "fig.add_trace(go.Scatter(x=df.index, y=df['CLM_AMT($)'], mode='lines+markers', hoverinfo=\"x+y\"), 4, 1)\n",
    "fig.add_trace(go.Scatter(x=df.index, y=df['CAR_AGE'], mode='lines+markers', hoverinfo=\"x+y\"), 4, 2)\n",
    "fig.add_trace(go.Scatter(x=df.index, y=df['CLAIM_FLAG'], mode='lines+markers', hoverinfo=\"x+y\"), 4, 3)\n",
    "fig.add_trace(go.Scatter(x=df.index, y=df['URBANICITY'], mode='lines+markers', hoverinfo=\"x+y\"), 4, 5)\n",
    "\n",
    "fig.update_layout(bargap=0.03, height=900, width=2900, coloraxis=dict(colorscale='Plasma'), showlegend=False, title_text=\"Analysis by Age\", \n",
    "                  title_font = {\"size\": 22, \"color\": 'grey', 'family':'Arial Black'}, title={ 'x':0,'xanchor': 'left','yanchor': 'top'})"
   ]
  },
  {
   "cell_type": "markdown",
   "metadata": {},
   "source": [
    "<p><img alt=\"Insight logo\" src=\"https://raw.githubusercontent.com/warazkhan/Data-Analysis-Project/main/Insights%20logo.png\" align=\"left\" hspace=\"0px\" vspace=\"10px\" width=\"180\" height=\"150\"></p>\n",
    "\n",
    "<ul style=\"list-style-type:none;\">\n",
    "  <li style=\"font-weight: bold;font-family:Trebuchet MS;font-size:30px;font-style: italic;color:  red\">Insights:</li>\n",
    "</ul>\n",
    "<div class=\"alert alert-success\" role=\"alert\">\n",
    "<ul style=\"list-style-type:none;font-family:Trebuchet MS;font-size:17px;color:black\">\n",
    "    <li> Grouping the dataset by age and analyzing it reveals patterns and trends within each age slot.<br><br>\n",
    "\n",
    "<li style=\"font-weight: bold;font-family:Trebuchet MS;font-size:17px;color:blue\">Age Slot: 16-20 years</li>\n",
    "-Young and inexperienced drivers with low incomes and diverse educational backgrounds.<br>\n",
    "-Varied car types, including minivans and sports cars.<br>\n",
    "-Some instances of car accidents and revoked licenses.<br><br>\n",
    "        \n",
    "<li style=\"font-weight: bold;font-family:Trebuchet MS;font-size:17px;color:blue\">Age Slot: 21-30 years</li>\n",
    "-Young adults with some driving experience and higher incomes.<br>\n",
    "-Education levels range from high school graduates to master's degrees.<br>\n",
    "-Occupations include clerical, blue-collar, managerial, and professional roles.<br>\n",
    "-Relatively low claim frequency.<br><br>\n",
    "    \n",
    "<li style=\"font-weight: bold;font-family:Trebuchet MS;font-size:17px;color:blue\">Age Slot: 31-40 years</li>\n",
    "-Individuals with more driving experience and higher incomes.<br>\n",
    "-Education levels include high school graduates, bachelor's degrees, and some with master's degrees.<br>\n",
    "-Occupations cover a wide range, including blue-collar, managerial, and lawyer professions.<br>\n",
    "-Various car types, including minivans, sports cars, and pickups.<br>\n",
    "-Relatively low claim frequency.<br><br>\n",
    "\n",
    "<li style=\"font-weight: bold;font-family:Trebuchet MS;font-size:17px;color:blue\">Age Slot: 41-50 years</li>\n",
    "-Individuals with significant driving experience and higher incomes.<br>\n",
    "-Education levels range from high school graduates to master's degrees.<br>\n",
    "-Occupations include blue-collar, managerial, lawyer, and home maker roles.<br>\n",
    "-Car types range from SUVs to minivans.<br>\n",
    "-Relatively low claim frequency.<br><br>\n",
    "        \n",
    "<li style=\"font-weight: bold;font-family:Trebuchet MS;font-size:17px;color:blue\">Age Slot: 50+ years</li>\n",
    "-Individuals with extensive driving experience and more stable incomes.<br>\n",
    "-Education levels vary, with high school graduates being the most common.<br>\n",
    "-Occupations include blue-collar, lawyer, home maker, and retiree roles.<br>\n",
    "-Diverse car types, including SUVs, pickups, and minivans.<br>\n",
    "-Relatively low instances of accidents and revoked licenses.<br>\n",
    "    </li>\n",
    "    <br>\n",
    "</ul>\n",
    "</div>"
   ]
  },
  {
   "cell_type": "markdown",
   "metadata": {},
   "source": [
    "<p><img alt=\"Insight logo\" src=\"https://raw.githubusercontent.com/warazkhan/CarInssurance-DataAnalysis/main/gender.png\" align=\"left\" hspace=\"25px\" vspace=\"5px\" width=\"100\" height=\"80\" ></p>\n",
    "\n",
    "<ul style=\"list-style-type:none;\">\n",
    "  <li style=\"font-weight: bold;font-family:Trebuchet MS;font-size:25px;font-style: italic;color:darkblue\">Group by Gender</li>\n",
    "</ul>"
   ]
  },
  {
   "cell_type": "code",
   "execution_count": null,
   "metadata": {
    "execution": {
     "iopub.execute_input": "2023-09-10T20:04:32.349922Z",
     "iopub.status.busy": "2023-09-10T20:04:32.349573Z",
     "iopub.status.idle": "2023-09-10T20:04:32.413457Z",
     "shell.execute_reply": "2023-09-10T20:04:32.412126Z",
     "shell.execute_reply.started": "2023-09-10T20:04:32.349894Z"
    },
    "trusted": true
   },
   "outputs": [],
   "source": [
    "GroupByGender = CarInssuranceDataframeImputedValues.groupby(['GENDER'])\n",
    "GroupByGender = GroupByGender.first()\n",
    "GroupByGender.style.background_gradient(cmap='Greens')"
   ]
  },
  {
   "cell_type": "code",
   "execution_count": null,
   "metadata": {
    "execution": {
     "iopub.execute_input": "2023-09-10T20:04:32.416548Z",
     "iopub.status.busy": "2023-09-10T20:04:32.415236Z",
     "iopub.status.idle": "2023-09-10T20:04:32.657371Z",
     "shell.execute_reply": "2023-09-10T20:04:32.656022Z",
     "shell.execute_reply.started": "2023-09-10T20:04:32.416503Z"
    },
    "trusted": true
   },
   "outputs": [],
   "source": [
    "# Create subplots for pie charts\n",
    "df= GroupByGender\n",
    "fig = make_subplots(\n",
    "    rows=4, cols=7,\n",
    "    specs=[[{}, {},{},{},{},{},{}],\n",
    "           [{}, {},{},{},{},{},{}],\n",
    "          [{}, {},{},{},{},{},{}],\n",
    "          [{}, {},{},{},{},None,{}]], subplot_titles=(\"KIDSDRIV\",\"BIRTH\", \"AGE\", \"HOMEKIDS\", \"YOJ\" ,\"INCOME($)\",\"PARENT1\",\"HOME_VAL($)\",\n",
    "                                                    \"MSTATUS\", \"CAR_TYPE\", \"EDUCATION\" ,\"OCCUPATION\", \"TRAVTIME\", \"CAR_USE\", 'BLUEBOOK($)', 'TIF', 'RED_CAR',\n",
    "                                                    'OLDCLAIM($)', 'CLM_FREQ', 'REVOKED', 'MVR_PTS', 'CLM_AMT($)','CAR_AGE', 'CLAIM_FLAG', None,'URBANICITY')\n",
    ")\n",
    "\n",
    "# Plot the bars\n",
    "fig.add_trace(go.Scatter(x=df.index, y=df['KIDSDRIV'], mode='lines+markers', hoverinfo=\"x+y\"), 1, 1)\n",
    "fig.add_trace(go.Scatter(x=df.index, y=df['BIRTH'], mode='lines+markers', hoverinfo=\"x+y\"), 1, 2)\n",
    "fig.add_trace(go.Scatter(x=df.index, y=df['AGE'], mode='lines+markers', hoverinfo=\"x+y\"), 1, 3)\n",
    "fig.add_trace(go.Scatter(x=df.index, y=df['HOMEKIDS'], mode='lines+markers', hoverinfo=\"x+y\"), 1, 4)\n",
    "fig.add_trace(go.Scatter(x=df.index, y=df['YOJ'], mode='lines+markers', hoverinfo=\"x+y\"), 1, 5)\n",
    "fig.add_trace(go.Scatter(x=df.index, y=df['INCOME($)'], mode='lines+markers', hoverinfo=\"x+y\"), 1, 6)\n",
    "fig.add_trace(go.Scatter(x=df.index, y=df['PARENT1'], mode='lines+markers', hoverinfo=\"x+y\"), 1, 7)\n",
    "fig.add_trace(go.Scatter(x=df.index, y=df['HOME_VAL($)'], mode='lines+markers', hoverinfo=\"x+y\"), 2, 1)\n",
    "fig.add_trace(go.Scatter(x=df.index, y=df['MSTATUS'], mode='lines+markers', hoverinfo=\"x+y\"), 2, 2)\n",
    "fig.add_trace(go.Scatter(x=df.index, y=df['CAR_TYPE'], mode='lines+markers', hoverinfo=\"x+y\"), 2, 3)\n",
    "fig.add_trace(go.Scatter(x=df.index, y=df['EDUCATION'], mode='lines+markers', hoverinfo=\"x+y\"), 2, 4)\n",
    "fig.add_trace(go.Scatter(x=df.index, y=df['OCCUPATION'], mode='lines+markers', hoverinfo=\"x+y\"), 2, 5)\n",
    "fig.add_trace(go.Scatter(x=df.index, y=df['TRAVTIME'], mode='lines+markers', hoverinfo=\"x+y\"), 2, 6)\n",
    "fig.add_trace(go.Scatter(x=df.index, y=df['CAR_USE'], mode='lines+markers', hoverinfo=\"x+y\"), 2, 7)\n",
    "fig.add_trace(go.Scatter(x=df.index, y=df['BLUEBOOK($)'], mode='lines+markers', hoverinfo=\"x+y\"), 3, 1)\n",
    "fig.add_trace(go.Scatter(x=df.index, y=df['TIF'], mode='lines+markers', hoverinfo=\"x+y\"), 3, 2)\n",
    "fig.add_trace(go.Scatter(x=df.index, y=df['RED_CAR'], mode='lines+markers', hoverinfo=\"x+y\"), 3, 3)\n",
    "fig.add_trace(go.Scatter(x=df.index, y=df['OLDCLAIM($)'], mode='lines+markers', hoverinfo=\"x+y\"), 3, 4)\n",
    "fig.add_trace(go.Scatter(x=df.index, y=df['CLM_FREQ'], mode='lines+markers', hoverinfo=\"x+y\"), 3, 5)\n",
    "fig.add_trace(go.Scatter(x=df.index, y=df['REVOKED'], mode='lines+markers', hoverinfo=\"x+y\"), 3, 6)\n",
    "fig.add_trace(go.Scatter(x=df.index, y=df['MVR_PTS'], mode='lines+markers', hoverinfo=\"x+y\"), 3, 7)\n",
    "fig.add_trace(go.Scatter(x=df.index, y=df['CLM_AMT($)'], mode='lines+markers', hoverinfo=\"x+y\"), 4, 1)\n",
    "fig.add_trace(go.Scatter(x=df.index, y=df['CAR_AGE'], mode='lines+markers', hoverinfo=\"x+y\"), 4, 2)\n",
    "fig.add_trace(go.Scatter(x=df.index, y=df['CLAIM_FLAG'], mode='lines+markers', hoverinfo=\"x+y\"), 4, 3)\n",
    "fig.add_trace(go.Scatter(x=df.index, y=df['URBANICITY'], mode='lines+markers', hoverinfo=\"x+y\"), 4, 5)\n",
    "\n",
    "fig.update_layout(bargap=0.03, height=900, width=2900, coloraxis=dict(colorscale='Plasma'), showlegend=False, title_text=\"Analysis by Gender\", \n",
    "                  title_font = {\"size\": 22, \"color\": 'grey', 'family':'Arial Black'}, title={ 'x':0,'xanchor': 'left','yanchor': 'top'})"
   ]
  },
  {
   "cell_type": "markdown",
   "metadata": {},
   "source": [
    "<p><img alt=\"Insight logo\" src=\"https://raw.githubusercontent.com/warazkhan/Data-Analysis-Project/main/Insights%20logo.png\" align=\"left\" hspace=\"0px\" vspace=\"10px\" width=\"180\" height=\"150\"></p>\n",
    "\n",
    "<ul style=\"list-style-type:none;\">\n",
    "  <li style=\"font-weight: bold;font-family:Trebuchet MS;font-size:30px;font-style: italic;color:  red\">Insights:</li>\n",
    "</ul>\n",
    "<div class=\"alert alert-success\" role=\"alert\">\n",
    "<ul style=\"list-style-type:none;font-family:Trebuchet MS;font-size:17px;color:black\">\n",
    "    <li> Grouping the dataset by gender and analyzing it reveals patterns and trends within each age slot.<br><br>\n",
    "<li style=\"font-weight: bold;font-family:Trebuchet MS;font-size:17px;color:blue\">Female:</li>\n",
    "Most of the females in the dataset are around 34 years old. They have an average income of <span>&#36;</span>125,301, which is higher than that of males. Females in the dataset predominantly use their cars for commercial purposes, own sports cars, and tend to have a low frequency of insurance claims. The average claim amount for females is <span>&#36;</span>1,511.27. They mostly reside in highly urban/urban areas.\n",
    "<br>       \n",
    "<br>\n",
    "<li style=\"font-weight: bold;font-family:Trebuchet MS;font-size:17px;color:blue\">Male:</li>\n",
    "Most of the males in the dataset are around 40 years old, with one driving child. They have an average income of <span>&#36;</span>50,815 and 11 years of employment. Most are single parents, high school educated, and work as managers. They use cars for private purposes, mainly owning minivans. They have previous claims with an average amount of <span>&#36;</span>3,295 and 2 motor vehicle record points. They reside in highly urban/urban areas, similar to females.<br>\n",
    "    </li>\n",
    "    <br>\n",
    "</ul>\n",
    "</div>"
   ]
  },
  {
   "cell_type": "markdown",
   "metadata": {},
   "source": [
    "<p><img alt=\"Insight logo\" src=\"https://raw.githubusercontent.com/warazkhan/CarInssurance-DataAnalysis/main/genderMaritalStatusSingleParent.png\" align=\"left\" hspace=\"25px\" vspace=\"5px\" width=\"100\" height=\"80\" ></p>\n",
    "\n",
    "<ul style=\"list-style-type:none;\">\n",
    "  <li style=\"font-weight: bold;font-family:Trebuchet MS;font-size:25px;font-style: italic;color:darkblue\">Group by Gender, Marital Status and Single Parent</li>\n",
    "</ul>"
   ]
  },
  {
   "cell_type": "code",
   "execution_count": null,
   "metadata": {
    "execution": {
     "iopub.execute_input": "2023-09-10T20:04:32.659048Z",
     "iopub.status.busy": "2023-09-10T20:04:32.658713Z",
     "iopub.status.idle": "2023-09-10T20:04:32.734471Z",
     "shell.execute_reply": "2023-09-10T20:04:32.733265Z",
     "shell.execute_reply.started": "2023-09-10T20:04:32.659019Z"
    },
    "trusted": true
   },
   "outputs": [],
   "source": [
    "GroupByGenderMSTATUSPARENT1 = CarInssuranceDataframeImputedValues.groupby(['GENDER', 'MSTATUS','PARENT1'])\n",
    "GroupByGenderMSTATUSPARENT1= GroupByGenderMSTATUSPARENT1.first()\n",
    "GroupByGenderMSTATUSPARENT1.style.background_gradient(cmap='Reds')"
   ]
  },
  {
   "cell_type": "markdown",
   "metadata": {},
   "source": [
    "<p><img alt=\"Insight logo\" src=\"https://raw.githubusercontent.com/warazkhan/CarInssurance-DataAnalysis/main/vehicleType.png\" align=\"left\" hspace=\"25px\" vspace=\"5px\" width=\"100\" height=\"80\" ></p>\n",
    "\n",
    "<ul style=\"list-style-type:none;\">\n",
    "  <li style=\"font-weight: bold;font-family:Trebuchet MS;font-size:25px;font-style: italic;color:darkblue\">Group by Vehicle Type</li>\n",
    "</ul>"
   ]
  },
  {
   "cell_type": "code",
   "execution_count": null,
   "metadata": {
    "execution": {
     "iopub.execute_input": "2023-09-10T20:04:32.736338Z",
     "iopub.status.busy": "2023-09-10T20:04:32.736002Z",
     "iopub.status.idle": "2023-09-10T20:04:32.805063Z",
     "shell.execute_reply": "2023-09-10T20:04:32.803876Z",
     "shell.execute_reply.started": "2023-09-10T20:04:32.736307Z"
    },
    "trusted": true
   },
   "outputs": [],
   "source": [
    "GroupByVehicleType = CarInssuranceDataframeImputedValues.groupby(['CAR_TYPE'])\n",
    "GroupByVehicleType = GroupByVehicleType.first()\n",
    "GroupByVehicleType.style.background_gradient(cmap='RdPu')"
   ]
  },
  {
   "cell_type": "code",
   "execution_count": null,
   "metadata": {
    "execution": {
     "iopub.execute_input": "2023-09-10T20:04:32.807078Z",
     "iopub.status.busy": "2023-09-10T20:04:32.806698Z",
     "iopub.status.idle": "2023-09-10T20:04:33.042197Z",
     "shell.execute_reply": "2023-09-10T20:04:33.04141Z",
     "shell.execute_reply.started": "2023-09-10T20:04:32.807046Z"
    },
    "trusted": true
   },
   "outputs": [],
   "source": [
    "# Create subplots for pie charts\n",
    "df= GroupByVehicleType\n",
    "fig = make_subplots(\n",
    "    rows=4, cols=7,\n",
    "    specs=[[{}, {},{},{},{},{},{}],\n",
    "           [{}, {},{},{},{},{},{}],\n",
    "          [{}, {},{},{},{},{},{}],\n",
    "          [{}, {},{},{},{},None,{}]], subplot_titles=(\"KIDSDRIV\",\"BIRTH\", \"AGE\", \"HOMEKIDS\", \"YOJ\" ,\"INCOME($)\",\"PARENT1\",\"HOME_VAL($)\",\n",
    "                                                    \"MSTATUS\", \"GENDER\", \"EDUCATION\" ,\"OCCUPATION\", \"TRAVTIME\", \"CAR_USE\", 'BLUEBOOK($)', 'TIF', 'RED_CAR',\n",
    "                                                    'OLDCLAIM($)', 'CLM_FREQ', 'REVOKED', 'MVR_PTS', 'CLM_AMT($)','CAR_AGE', 'CLAIM_FLAG', None,'URBANICITY')\n",
    ")\n",
    "\n",
    "# Plot the bars\n",
    "fig.add_trace(go.Scatter(x=df.index, y=df['KIDSDRIV'], mode='lines+markers', hoverinfo=\"x+y\"), 1, 1)\n",
    "fig.add_trace(go.Scatter(x=df.index, y=df['BIRTH'], mode='lines+markers', hoverinfo=\"x+y\"), 1, 2)\n",
    "fig.add_trace(go.Scatter(x=df.index, y=df['AGE'], mode='lines+markers', hoverinfo=\"x+y\"), 1, 3)\n",
    "fig.add_trace(go.Scatter(x=df.index, y=df['HOMEKIDS'], mode='lines+markers', hoverinfo=\"x+y\"), 1, 4)\n",
    "fig.add_trace(go.Scatter(x=df.index, y=df['YOJ'], mode='lines+markers', hoverinfo=\"x+y\"), 1, 5)\n",
    "fig.add_trace(go.Scatter(x=df.index, y=df['INCOME($)'], mode='lines+markers', hoverinfo=\"x+y\"), 1, 6)\n",
    "fig.add_trace(go.Scatter(x=df.index, y=df['PARENT1'], mode='lines+markers', hoverinfo=\"x+y\"), 1, 7)\n",
    "fig.add_trace(go.Scatter(x=df.index, y=df['HOME_VAL($)'], mode='lines+markers', hoverinfo=\"x+y\"), 2, 1)\n",
    "fig.add_trace(go.Scatter(x=df.index, y=df['MSTATUS'], mode='lines+markers', hoverinfo=\"x+y\"), 2, 2)\n",
    "fig.add_trace(go.Scatter(x=df.index, y=df['GENDER'], mode='lines+markers', hoverinfo=\"x+y\"), 2, 3)\n",
    "fig.add_trace(go.Scatter(x=df.index, y=df['EDUCATION'], mode='lines+markers', hoverinfo=\"x+y\"), 2, 4)\n",
    "fig.add_trace(go.Scatter(x=df.index, y=df['OCCUPATION'], mode='lines+markers', hoverinfo=\"x+y\"), 2, 5)\n",
    "fig.add_trace(go.Scatter(x=df.index, y=df['TRAVTIME'], mode='lines+markers', hoverinfo=\"x+y\"), 2, 6)\n",
    "fig.add_trace(go.Scatter(x=df.index, y=df['CAR_USE'], mode='lines+markers', hoverinfo=\"x+y\"), 2, 7)\n",
    "fig.add_trace(go.Scatter(x=df.index, y=df['BLUEBOOK($)'], mode='lines+markers', hoverinfo=\"x+y\"), 3, 1)\n",
    "fig.add_trace(go.Scatter(x=df.index, y=df['TIF'], mode='lines+markers', hoverinfo=\"x+y\"), 3, 2)\n",
    "fig.add_trace(go.Scatter(x=df.index, y=df['RED_CAR'], mode='lines+markers', hoverinfo=\"x+y\"), 3, 3)\n",
    "fig.add_trace(go.Scatter(x=df.index, y=df['OLDCLAIM($)'], mode='lines+markers', hoverinfo=\"x+y\"), 3, 4)\n",
    "fig.add_trace(go.Scatter(x=df.index, y=df['CLM_FREQ'], mode='lines+markers', hoverinfo=\"x+y\"), 3, 5)\n",
    "fig.add_trace(go.Scatter(x=df.index, y=df['REVOKED'], mode='lines+markers', hoverinfo=\"x+y\"), 3, 6)\n",
    "fig.add_trace(go.Scatter(x=df.index, y=df['MVR_PTS'], mode='lines+markers', hoverinfo=\"x+y\"), 3, 7)\n",
    "fig.add_trace(go.Scatter(x=df.index, y=df['CLM_AMT($)'], mode='lines+markers', hoverinfo=\"x+y\"), 4, 1)\n",
    "fig.add_trace(go.Scatter(x=df.index, y=df['CAR_AGE'], mode='lines+markers', hoverinfo=\"x+y\"), 4, 2)\n",
    "fig.add_trace(go.Scatter(x=df.index, y=df['CLAIM_FLAG'], mode='lines+markers', hoverinfo=\"x+y\"), 4, 3)\n",
    "fig.add_trace(go.Scatter(x=df.index, y=df['URBANICITY'], mode='lines+markers', hoverinfo=\"x+y\"), 4, 5)\n",
    "\n",
    "fig.update_layout(bargap=0.03, height=900, width=2900, coloraxis=dict(colorscale='Plasma'), showlegend=False, title_text=\"Analysis by Vehicle Type\", \n",
    "                  title_font = {\"size\": 22, \"color\": 'grey', 'family':'Arial Black'}, title={ 'x':0,'xanchor': 'left','yanchor': 'top'})"
   ]
  },
  {
   "cell_type": "markdown",
   "metadata": {},
   "source": [
    "<p><img alt=\"Insight logo\" src=\"https://raw.githubusercontent.com/warazkhan/Data-Analysis-Project/main/Insights%20logo.png\" align=\"left\" hspace=\"0px\" vspace=\"10px\" width=\"180\" height=\"150\"></p>\n",
    "\n",
    "<ul style=\"list-style-type:none;\">\n",
    "  <li style=\"font-weight: bold;font-family:Trebuchet MS;font-size:30px;font-style: italic;color:  red\">Insights:</li>\n",
    "</ul>\n",
    "<div class=\"alert alert-success\" role=\"alert\">\n",
    "<ul style=\"list-style-type:none;font-family:Trebuchet MS;font-size:17px;color:black\">\n",
    "    <li> Grouping the dataset by type of vehicle and analyzing it reveals patterns and trends within each age slot.<br><br>\n",
    "<li style=\"font-weight: bold;font-family:Trebuchet MS;font-size:17px;color:blue\">Minivan:</li>\n",
    "The customers who own a minivan are mostly male and most of them have one child who drives. They are around 40 years old on average. The majority of them have completed high school education and work as managers. They primarily use the minivan for private purposes. The average bluebook value of the minivans owned by these customers is <span>&#36;</span>18,930, and most of them are 1 year old.The majority of minivans owned by these customers are not red cars. The majority of them do not have any previous claims. These customers who own minivans mostly reside in highly urban/urban areas.<br><br> \n",
    "        \n",
    "<li style=\"font-weight: bold;font-family:Trebuchet MS;font-size:17px;color:blue\">Panel Truck:</li>\n",
    "Customers who own a panel truck are primarily male and most of them do not have any driving children. They are typically around 53 years old. Most of them hold a PhD degree and work in blue-collar occupations. They use the panel truck for commercial purposes and have an average bluebook value of $28,340. Most of panel trucks are red car. The majority of them do not have any previous claims. These customers who own panel truck mostly reside in highly urban/urban areas.<br><br>\n",
    "    \n",
    "<li style=\"font-weight: bold;font-family:Trebuchet MS;font-size:17px;color:blue\">Pickup:</li>\n",
    "Customers who own a pickup are primarily male and most of them do not have any driving children. They are typically around 40 years old. Most of them have completed high school education and work in blue-collar occupations. They use the pickup truck for commercial purposes and have an average bluebook value of <span>&#36;</span>12,230. Most of the pickup are red car. They have mostly been assigned 6 MVR points and the average age of their pickup trucks is 6 years. They have made previous claims with an average claim amount of <span>&#36;</span>4,033.98. They reside in highly urban/urban areas.<br><br>\n",
    "\n",
    "<li style=\"font-weight: bold;font-family:Trebuchet MS;font-size:17px;color:blue\">SUV:</li>\n",
    "Customers who own an SUV are primarily female and most of them do not have any driving children. They are typically around 34 years old. Most of them have completed a bachelor's degree and work in clerical occupations. They use the SUV for private purposes and have an average bluebook value of <span>&#36;</span>11,200. The majority of SUVs owned by these customers are not red cars. Most of them have not made any previous claims, and the average age of their SUVs is 1 year. They reside in highly urban/urban areas.<br><br>\n",
    "   \n",
    "<li style=\"font-weight: bold;font-family:Trebuchet MS;font-size:17px;color:blue\">Sports car:</li>\n",
    "Customers who own a sports car are primarily female and most of them do not have any driving children. They are typically around 34 years old. Most of them have completed a bachelor's degree and work in blue-collar occupations. They use the sports car for commercial purposes and have an average bluebook value of <span>&#36;</span>17,430. The majority of sports cars owned by these customers are not red. Most of them have not made any previous claims, and the average age of their sports cars is 7 years. They reside in highly urban/urban areas.<br><br>\n",
    "\n",
    "<li style=\"font-weight: bold;font-family:Trebuchet MS;font-size:17px;color:blue\">Van:</li>\n",
    "Customers who own a van are primarily male and most of them have one child who drives. They are typically around 37 years old. Most of them have completed a bachelor's degree and work in blue-collar occupations. They use the van for commercial purposes and have an average bluebook value of <span>&#36;</span>16,970. The majority of vans owned by these customers are not red. Most of them have made one previous claim, with an average claim amount of <span>&#36;</span>2,374. The average age of their vans is 7 years. They reside in highly urban/urban areas.<br>\n",
    "    </li>\n",
    "    <br>\n",
    "</ul>\n",
    "</div>"
   ]
  },
  {
   "cell_type": "markdown",
   "metadata": {
    "tags": []
   },
   "source": [
    "<p><img alt=\"Insight logo\" src=\"https://raw.githubusercontent.com/warazkhan/CarInssurance-DataAnalysis/main/DrivingRecord.png\" align=\"left\" hspace=\"25px\" vspace=\"1px\" width=\"80\" height=\"80\" ></p>\n",
    "\n",
    "<ul style=\"list-style-type:none;\">\n",
    "  <li style=\"font-weight: bold;font-family:Trebuchet MS;font-size:25px;font-style: italic;color:darkblue\">Grouping by Driving Record</li>\n",
    "</ul>"
   ]
  },
  {
   "cell_type": "code",
   "execution_count": null,
   "metadata": {
    "execution": {
     "iopub.execute_input": "2023-09-10T20:04:33.044612Z",
     "iopub.status.busy": "2023-09-10T20:04:33.043486Z",
     "iopub.status.idle": "2023-09-10T20:04:33.151292Z",
     "shell.execute_reply": "2023-09-10T20:04:33.150104Z",
     "shell.execute_reply.started": "2023-09-10T20:04:33.044553Z"
    },
    "trusted": true
   },
   "outputs": [],
   "source": [
    "GroupByDrivingRecord = CarInssuranceDataframeImputedValues.groupby(['MVR_PTS', 'REVOKED'])\n",
    "GroupByDrivingRecord = GroupByDrivingRecord.first()\n",
    "GroupByDrivingRecord.style.background_gradient(cmap='Blues')"
   ]
  },
  {
   "cell_type": "markdown",
   "metadata": {},
   "source": [
    "<p><img alt=\"Insight logo\" src=\"https://raw.githubusercontent.com/warazkhan/CarInssurance-DataAnalysis/main/MVR_PTS.png\" align=\"left\" hspace=\"25px\" vspace=\"0px\" width=\"80\" height=\"80\" ></p>\n",
    "\n",
    "<ul style=\"list-style-type:none;\">\n",
    "  <li style=\"font-weight: bold;font-family:Trebuchet MS;font-size:25px;font-style: italic;color:darkblue\">Grouping by Motor Vehile Record Points</li>\n",
    "</ul>"
   ]
  },
  {
   "cell_type": "code",
   "execution_count": null,
   "metadata": {
    "execution": {
     "iopub.execute_input": "2023-09-10T20:04:33.153053Z",
     "iopub.status.busy": "2023-09-10T20:04:33.152714Z",
     "iopub.status.idle": "2023-09-10T20:04:33.225912Z",
     "shell.execute_reply": "2023-09-10T20:04:33.224703Z",
     "shell.execute_reply.started": "2023-09-10T20:04:33.153024Z"
    },
    "trusted": true
   },
   "outputs": [],
   "source": [
    "GroupByMVRPTS = CarInssuranceDataframeImputedValues.groupby(['MVR_PTS'])\n",
    "GroupByMVRPTS = GroupByMVRPTS.first()\n",
    "GroupByMVRPTS.style.background_gradient(cmap='flare')"
   ]
  },
  {
   "cell_type": "code",
   "execution_count": null,
   "metadata": {
    "execution": {
     "iopub.execute_input": "2023-09-10T20:04:33.227785Z",
     "iopub.status.busy": "2023-09-10T20:04:33.227433Z",
     "iopub.status.idle": "2023-09-10T20:04:33.452773Z",
     "shell.execute_reply": "2023-09-10T20:04:33.451753Z",
     "shell.execute_reply.started": "2023-09-10T20:04:33.227754Z"
    },
    "trusted": true
   },
   "outputs": [],
   "source": [
    "# Create subplots for pie charts\n",
    "df= GroupByMVRPTS\n",
    "fig = make_subplots(\n",
    "    rows=4, cols=7,\n",
    "    specs=[[{}, {},{},{},{},{},{}],\n",
    "           [{}, {},{},{},{},{},{}],\n",
    "          [{}, {},{},{},{},{},{}],\n",
    "          [{}, {},{},{},{},None,{}]], subplot_titles=(\"KIDSDRIV\",\"BIRTH\", \"AGE\", \"HOMEKIDS\", \"YOJ\" ,\"INCOME($)\",\"PARENT1\",\"HOME_VAL($)\",\n",
    "                                                    \"MSTATUS\", \"CAR_TYPE\", \"EDUCATION\" ,\"OCCUPATION\", \"TRAVTIME\", \"CAR_USE\", 'BLUEBOOK($)', 'TIF', 'RED_CAR',\n",
    "                                                    'OLDCLAIM($)', 'CLM_FREQ', 'REVOKED', 'MVR_PTS', 'CLM_AMT($)','CAR_AGE', 'CLAIM_FLAG', None,'URBANICITY')\n",
    ")\n",
    "\n",
    "# Plot the bars\n",
    "fig.add_trace(go.Scatter(x=df.index, y=df['KIDSDRIV'], mode='lines+markers', hoverinfo=\"x+y\"), 1, 1)\n",
    "fig.add_trace(go.Scatter(x=df.index, y=df['BIRTH'], mode='lines+markers', hoverinfo=\"x+y\"), 1, 2)\n",
    "fig.add_trace(go.Scatter(x=df.index, y=df['AGE'], mode='lines+markers', hoverinfo=\"x+y\"), 1, 3)\n",
    "fig.add_trace(go.Scatter(x=df.index, y=df['HOMEKIDS'], mode='lines+markers', hoverinfo=\"x+y\"), 1, 4)\n",
    "fig.add_trace(go.Scatter(x=df.index, y=df['YOJ'], mode='lines+markers', hoverinfo=\"x+y\"), 1, 5)\n",
    "fig.add_trace(go.Scatter(x=df.index, y=df['INCOME($)'], mode='lines+markers', hoverinfo=\"x+y\"), 1, 6)\n",
    "fig.add_trace(go.Scatter(x=df.index, y=df['PARENT1'], mode='lines+markers', hoverinfo=\"x+y\"), 1, 7)\n",
    "fig.add_trace(go.Scatter(x=df.index, y=df['HOME_VAL($)'], mode='lines+markers', hoverinfo=\"x+y\"), 2, 1)\n",
    "fig.add_trace(go.Scatter(x=df.index, y=df['MSTATUS'], mode='lines+markers', hoverinfo=\"x+y\"), 2, 2)\n",
    "fig.add_trace(go.Scatter(x=df.index, y=df['GENDER'], mode='lines+markers', hoverinfo=\"x+y\"), 2, 3)\n",
    "fig.add_trace(go.Scatter(x=df.index, y=df['EDUCATION'], mode='lines+markers', hoverinfo=\"x+y\"), 2, 4)\n",
    "fig.add_trace(go.Scatter(x=df.index, y=df['OCCUPATION'], mode='lines+markers', hoverinfo=\"x+y\"), 2, 5)\n",
    "fig.add_trace(go.Scatter(x=df.index, y=df['TRAVTIME'], mode='lines+markers', hoverinfo=\"x+y\"), 2, 6)\n",
    "fig.add_trace(go.Scatter(x=df.index, y=df['CAR_USE'], mode='lines+markers', hoverinfo=\"x+y\"), 2, 7)\n",
    "fig.add_trace(go.Scatter(x=df.index, y=df['BLUEBOOK($)'], mode='lines+markers', hoverinfo=\"x+y\"), 3, 1)\n",
    "fig.add_trace(go.Scatter(x=df.index, y=df['TIF'], mode='lines+markers', hoverinfo=\"x+y\"), 3, 2)\n",
    "fig.add_trace(go.Scatter(x=df.index, y=df['RED_CAR'], mode='lines+markers', hoverinfo=\"x+y\"), 3, 3)\n",
    "fig.add_trace(go.Scatter(x=df.index, y=df['OLDCLAIM($)'], mode='lines+markers', hoverinfo=\"x+y\"), 3, 4)\n",
    "fig.add_trace(go.Scatter(x=df.index, y=df['CLM_FREQ'], mode='lines+markers', hoverinfo=\"x+y\"), 3, 5)\n",
    "fig.add_trace(go.Scatter(x=df.index, y=df['REVOKED'], mode='lines+markers', hoverinfo=\"x+y\"), 3, 6)\n",
    "fig.add_trace(go.Scatter(x=df.index, y=df['CAR_TYPE'], mode='lines+markers', hoverinfo=\"x+y\"), 3, 7)\n",
    "fig.add_trace(go.Scatter(x=df.index, y=df['CLM_AMT($)'], mode='lines+markers', hoverinfo=\"x+y\"), 4, 1)\n",
    "fig.add_trace(go.Scatter(x=df.index, y=df['CAR_AGE'], mode='lines+markers', hoverinfo=\"x+y\"), 4, 2)\n",
    "fig.add_trace(go.Scatter(x=df.index, y=df['CLAIM_FLAG'], mode='lines+markers', hoverinfo=\"x+y\"), 4, 3)\n",
    "fig.add_trace(go.Scatter(x=df.index, y=df['URBANICITY'], mode='lines+markers', hoverinfo=\"x+y\"), 4, 5)\n",
    "\n",
    "fig.update_layout(bargap=0.03, height=900, width=2900, coloraxis=dict(colorscale='Plasma'), showlegend=False, title_text=\"Analysis by Motor Vehile Record Points\", \n",
    "                  title_font = {\"size\": 22, \"color\": 'grey', 'family':'Arial Black'}, title={ 'x':0,'xanchor': 'left','yanchor': 'top'})"
   ]
  },
  {
   "cell_type": "markdown",
   "metadata": {},
   "source": [
    "<p><img alt=\"Insight logo\" src=\"https://raw.githubusercontent.com/warazkhan/Data-Analysis-Project/main/Insights%20logo.png\" align=\"left\" hspace=\"0px\" vspace=\"10px\" width=\"180\" height=\"150\"></p>\n",
    "\n",
    "<ul style=\"list-style-type:none;\">\n",
    "  <li style=\"font-weight: bold;font-family:Trebuchet MS;font-size:30px;font-style: italic;color:  red\">Insights:</li>\n",
    "</ul>\n",
    "<div class=\"alert alert-success\" role=\"alert\">\n",
    "<ul style=\"list-style-type:none;font-family:Trebuchet MS;font-size:17px;color:black\">\n",
    "    <li> Grouping the dataset by Motor Vehile Record Points and analyzing it reveals patterns and trends within each age slot.<br><br>\n",
    "<li style=\"font-weight: bold;font-family:Trebuchet MS;font-size:17px;color:blue\">MVR_PTS:0-5</li>\n",
    "The majority of customers are around 34 years old and predominantly male. Most of them do not have any driving children and work in blue-collar occupations. These customers primarily use their panel trucks for commercial purposes, and the average bluebook value of their vehicles is <span>&#36;</span>17,430. Additionally, most of the panel trucks owned by these customers are considered red cars. Interestingly, none of the customers in this slot have made any previous claims. The average age of their panel trucks is 1 year, indicating that they own relatively new vehicles. These customers reside in highly urban or urban areas.<br><br> \n",
    "        \n",
    "<li style=\"font-weight: bold;font-family:Trebuchet MS;font-size:17px;color:blue\">MVR_PTS:5-10</li>\n",
    "The majority of customers are around 54 years old, with a relatively equal distribution between males and females. Similar to the previous slot, most of them do not have any driving children and work in blue-collar occupations. They primarily use their panel trucks for commercial purposes, and the average bluebook value of their vehicles varies within this range. When it comes to the color of their panel trucks, it is not predominantly red or any other specific color. Unlike the previous slot, some customers in this range have made previous claims, with varying claim frequencies. The average age of their panel trucks is 1 year, suggesting a similar trend of owning relatively new vehicles. These customers also reside in highly urban or urban areas.<br><br>\n",
    "    \n",
    "<li style=\"font-weight: bold;font-family:Trebuchet MS;font-size:17px;color:blue\">MVR_PTS:10-13</li>\n",
    "The majority of customers fall within the age range of 33 to 40 years old. The customers in this range are primarily male. Similar to the previous slots, most of them do not have any driving children and work in blue-collar occupations. They utilize their panel trucks for commercial purposes, and the average bluebook value of their vehicles is around <span>&#36;</span>15,000. When it comes to the color of their panel trucks, it varies between red and other colors. Some customers in this slot have made previous claims, with different claim frequencies. The average age of their panel trucks is around 1 to 7 years, indicating a mix of new and slightly older vehicles. Like the other slots, these customers also reside in highly urban or urban areas.<br><br>\n",
    "    </li>\n",
    "    <br>\n",
    "</ul>\n",
    "</div>"
   ]
  },
  {
   "cell_type": "markdown",
   "metadata": {},
   "source": [
    "<p><img alt=\"Insight logo\" src=\"https://raw.githubusercontent.com/warazkhan/CarInssurance-DataAnalysis/main/location.png\" align=\"left\" hspace=\"25px\" vspace=\"1px\" width=\"80\" height=\"80\" ></p>\n",
    "\n",
    "<ul style=\"list-style-type:none;\">\n",
    "  <li style=\"font-weight: bold;font-family:Trebuchet MS;font-size:25px;font-style: italic;color:darkblue\">Grouping by Location</li>\n",
    "</ul>"
   ]
  },
  {
   "cell_type": "code",
   "execution_count": null,
   "metadata": {
    "execution": {
     "iopub.execute_input": "2023-09-10T20:04:33.454973Z",
     "iopub.status.busy": "2023-09-10T20:04:33.454374Z",
     "iopub.status.idle": "2023-09-10T20:04:33.511743Z",
     "shell.execute_reply": "2023-09-10T20:04:33.510586Z",
     "shell.execute_reply.started": "2023-09-10T20:04:33.45494Z"
    },
    "trusted": true
   },
   "outputs": [],
   "source": [
    "GroupByLocation = CarInssuranceDataframeImputedValues.groupby(['URBANICITY'])\n",
    "GroupByLocation = GroupByLocation.first()\n",
    "GroupByLocation.style.background_gradient(cmap='flare')"
   ]
  },
  {
   "cell_type": "code",
   "execution_count": null,
   "metadata": {
    "execution": {
     "iopub.execute_input": "2023-09-10T20:04:33.513964Z",
     "iopub.status.busy": "2023-09-10T20:04:33.513581Z",
     "iopub.status.idle": "2023-09-10T20:04:33.744178Z",
     "shell.execute_reply": "2023-09-10T20:04:33.742998Z",
     "shell.execute_reply.started": "2023-09-10T20:04:33.513933Z"
    },
    "trusted": true
   },
   "outputs": [],
   "source": [
    "# Create subplots for pie charts\n",
    "df= GroupByLocation\n",
    "fig = make_subplots(\n",
    "    rows=4, cols=7,\n",
    "    specs=[[{}, {},{},{},{},{},{}],\n",
    "           [{}, {},{},{},{},{},{}],\n",
    "          [{}, {},{},{},{},{},{}],\n",
    "          [{}, {},{},{},{},{},{}]], subplot_titles=(\"KIDSDRIV\",\"BIRTH\", \"AGE\", \"HOMEKIDS\", \"YOJ\" ,\"INCOME($)\",\"PARENT1\",\"HOME_VAL($)\",\n",
    "                                                    \"MSTATUS\", \"CAR_TYPE\", \"EDUCATION\" ,\"OCCUPATION\", \"TRAVTIME\", \"CAR_USE\", 'BLUEBOOK($)', 'TIF', 'RED_CAR',\n",
    "                                                    'OLDCLAIM($)', 'CLM_FREQ', 'REVOKED', 'MVR_PTS', 'CLM_AMT($)','CAR_AGE', 'CLAIM_FLAG', 'MVR_PTS')\n",
    ")\n",
    "\n",
    "# Plot the bars\n",
    "fig.add_trace(go.Scatter(x=df.index, y=df['KIDSDRIV'], mode='lines+markers', hoverinfo=\"x+y\"), 1, 1)\n",
    "fig.add_trace(go.Scatter(x=df.index, y=df['BIRTH'], mode='lines+markers', hoverinfo=\"x+y\"), 1, 2)\n",
    "fig.add_trace(go.Scatter(x=df.index, y=df['AGE'], mode='lines+markers', hoverinfo=\"x+y\"), 1, 3)\n",
    "fig.add_trace(go.Scatter(x=df.index, y=df['HOMEKIDS'], mode='lines+markers', hoverinfo=\"x+y\"), 1, 4)\n",
    "fig.add_trace(go.Scatter(x=df.index, y=df['YOJ'], mode='lines+markers', hoverinfo=\"x+y\"), 1, 5)\n",
    "fig.add_trace(go.Scatter(x=df.index, y=df['INCOME($)'], mode='lines+markers', hoverinfo=\"x+y\"), 1, 6)\n",
    "fig.add_trace(go.Scatter(x=df.index, y=df['PARENT1'], mode='lines+markers', hoverinfo=\"x+y\"), 1, 7)\n",
    "fig.add_trace(go.Scatter(x=df.index, y=df['HOME_VAL($)'], mode='lines+markers', hoverinfo=\"x+y\"), 2, 1)\n",
    "fig.add_trace(go.Scatter(x=df.index, y=df['MSTATUS'], mode='lines+markers', hoverinfo=\"x+y\"), 2, 2)\n",
    "fig.add_trace(go.Scatter(x=df.index, y=df['GENDER'], mode='lines+markers', hoverinfo=\"x+y\"), 2, 3)\n",
    "fig.add_trace(go.Scatter(x=df.index, y=df['EDUCATION'], mode='lines+markers', hoverinfo=\"x+y\"), 2, 4)\n",
    "fig.add_trace(go.Scatter(x=df.index, y=df['OCCUPATION'], mode='lines+markers', hoverinfo=\"x+y\"), 2, 5)\n",
    "fig.add_trace(go.Scatter(x=df.index, y=df['TRAVTIME'], mode='lines+markers', hoverinfo=\"x+y\"), 2, 6)\n",
    "fig.add_trace(go.Scatter(x=df.index, y=df['CAR_USE'], mode='lines+markers', hoverinfo=\"x+y\"), 2, 7)\n",
    "fig.add_trace(go.Scatter(x=df.index, y=df['BLUEBOOK($)'], mode='lines+markers', hoverinfo=\"x+y\"), 3, 1)\n",
    "fig.add_trace(go.Scatter(x=df.index, y=df['TIF'], mode='lines+markers', hoverinfo=\"x+y\"), 3, 2)\n",
    "fig.add_trace(go.Scatter(x=df.index, y=df['RED_CAR'], mode='lines+markers', hoverinfo=\"x+y\"), 3, 3)\n",
    "fig.add_trace(go.Scatter(x=df.index, y=df['OLDCLAIM($)'], mode='lines+markers', hoverinfo=\"x+y\"), 3, 4)\n",
    "fig.add_trace(go.Scatter(x=df.index, y=df['CLM_FREQ'], mode='lines+markers', hoverinfo=\"x+y\"), 3, 5)\n",
    "fig.add_trace(go.Scatter(x=df.index, y=df['REVOKED'], mode='lines+markers', hoverinfo=\"x+y\"), 3, 6)\n",
    "fig.add_trace(go.Scatter(x=df.index, y=df['CAR_TYPE'], mode='lines+markers', hoverinfo=\"x+y\"), 3, 7)\n",
    "fig.add_trace(go.Scatter(x=df.index, y=df['CLM_AMT($)'], mode='lines+markers', hoverinfo=\"x+y\"), 4, 1)\n",
    "fig.add_trace(go.Scatter(x=df.index, y=df['CAR_AGE'], mode='lines+markers', hoverinfo=\"x+y\"), 4, 2)\n",
    "fig.add_trace(go.Scatter(x=df.index, y=df['CLAIM_FLAG'], mode='lines+markers', hoverinfo=\"x+y\"), 4, 3)\n",
    "fig.add_trace(go.Scatter(x=df.index, y=df['MVR_PTS'], mode='lines+markers', hoverinfo=\"x+y\"), 4, 4)\n",
    "\n",
    "fig.update_layout(bargap=0.03, height=900, width=3500, coloraxis=dict(colorscale='Plasma'), showlegend=False, title_text=\"Analysis by Location\", \n",
    "                  title_font = {\"size\": 22, \"color\": 'grey', 'family':'Arial Black'}, title={ 'x':0,'xanchor': 'left','yanchor': 'top'})"
   ]
  },
  {
   "cell_type": "markdown",
   "metadata": {},
   "source": [
    "<p><img alt=\"Insight logo\" src=\"https://raw.githubusercontent.com/warazkhan/Data-Analysis-Project/main/Insights%20logo.png\" align=\"left\" hspace=\"0px\" vspace=\"10px\" width=\"180\" height=\"150\"></p>\n",
    "\n",
    "<ul style=\"list-style-type:none;\">\n",
    "  <li style=\"font-weight: bold;font-family:Trebuchet MS;font-size:30px;font-style: italic;color:  red\">Insights:</li>\n",
    "</ul>\n",
    "<div class=\"alert alert-success\" role=\"alert\">\n",
    "<ul style=\"list-style-type:none;font-family:Trebuchet MS;font-size:17px;color:black\">\n",
    "    <li> Grouping the dataset by type of location and analyzing it reveals patterns and trends within each age slot.<br><br>\n",
    "<li style=\"font-weight: bold;font-family:Trebuchet MS;font-size:17px;color:blue\">Highly Rural/ Rural</li>\n",
    "The majority of customers are 34-year-old individuals with no driving children. They have three children at home on average and 12 years of job experience. Their average income is around <span>&#36;</span>22,510, and their home value is approximately <span>&#36;</span>123,888. Most of them are married males with a high school education. They work in clerical occupations and have a travel time of 26 minutes. These customers primarily use their panel trucks for private purposes, with an average bluebook value of <span>&#36;</span>14,690. The majority of panel trucks owned by these customers are minivans and considered red cars. Interestingly, they have not made any previous claims, and their panel trucks have an average age of 1 year. There is a claim present with an average claim amount of <span>&#36;</span>1,230, and the claim flag is set to 1.<br><br> \n",
    "        \n",
    "<li style=\"font-weight: bold;font-family:Trebuchet MS;font-size:17px;color:blue\">Highly Urban/ Urban</li>\n",
    "The majority of customers are 34-year-old individuals without driving children. They have, on average, 1 child at home, 12 years of job experience, and an annual income of <span>&#36;</span>125,301. Most of them have a home value of <span>&#36;</span>0 and are not single parents. They are predominantly single and female, with a bachelor's degree. In terms of occupation, most of them work in blue-collar jobs and have a travel time of 46 minutes. They primarily use their panel trucks for commercial purposes, with an average value of <span>&#36;</span>17,430. These panel trucks are sports cars and not red in color. Most of the customers have no previous claims or claim frequency, and their licenses have not been revoked. However, they have an average of 7 MVR points. There is a claim with an average amount of <span>&#36;</span>1,511.27, and the panel trucks have an average age of 7 years. The claim flag is set to 1 for most of these customers.<br>\n",
    "    </li>\n",
    "    <br>\n",
    "</ul>\n",
    "</div>\n"
   ]
  },
  {
   "cell_type": "markdown",
   "metadata": {},
   "source": [
    "<p><img alt=\"Insight logo\" src=\"https://raw.githubusercontent.com/warazkhan/CarInssurance-DataAnalysis/main/univariate.png\" align=\"left\" hspace=\"25px\" vspace=\"25px\" width=\"100\" height=\"80\" ></p>\n",
    "<ul style=\"list-style-type:none;\">\n",
    "<li style=\"font-weight: bold;font-family:Trebuchet MS;font-size:35px;font-style: italic;color:red\">Univariate analysis</li>\n",
    "</ul>\n",
    "<ul style=\"list-style-type:none;font-family:Trebuchet MS;font-size:17px;color:black\">  \n",
    "<li> Analyzing single variable to understand its distribution, central tendency, dispersion, and other characteristics.</li> \n",
    "</ul>"
   ]
  },
  {
   "cell_type": "markdown",
   "metadata": {},
   "source": [
    "<p><img alt=\"Insight logo\" src=\"https://raw.githubusercontent.com/warazkhan/CarInssurance-DataAnalysis/main/analysis.png\" align=\"left\" hspace=\"25px\" vspace=\"1px\" width=\"80\" height=\"80\" ></p>\n",
    "\n",
    "<ul style=\"list-style-type:none;\">\n",
    "  <li style=\"font-weight: bold;font-family:Trebuchet MS;font-size:25px;font-style: italic;color:darkblue\">Analysis by Gender, Marital Status and Single Parent</li>\n",
    "</ul>"
   ]
  },
  {
   "cell_type": "code",
   "execution_count": null,
   "metadata": {
    "execution": {
     "iopub.execute_input": "2023-09-10T20:04:33.747179Z",
     "iopub.status.busy": "2023-09-10T20:04:33.746446Z",
     "iopub.status.idle": "2023-09-10T20:04:34.306777Z",
     "shell.execute_reply": "2023-09-10T20:04:34.305637Z",
     "shell.execute_reply.started": "2023-09-10T20:04:33.747139Z"
    },
    "trusted": true
   },
   "outputs": [],
   "source": [
    "fig, ((ax1, ax2, ax3)) = plt.subplots(1, 3, figsize = (25,10))\n",
    "\n",
    "# Check Genders\n",
    "MaleGenderCount = (CarInssuranceDataframeImputedValues['GENDER']).value_counts()['M']\n",
    "FemaleGenderCount = (CarInssuranceDataframeImputedValues['GENDER']).value_counts()['F']\n",
    "# Plot the pie chart\n",
    "labels= ['Male', 'Female']\n",
    "sizes= [MaleGenderCount, FemaleGenderCount]\n",
    "explode = (0, 0.04)\n",
    "fig = ax1.pie(sizes, explode=explode, labels=labels, autopct='%1.1f%%', shadow=True, startangle=90, colors=['skyblue','pink'], textprops={'fontsize': 15})\n",
    "ax1.set_title('ANALYSIS BY GENDER', size=22, color='GREY', x=0.49, y=0.925, **{'fontname':'DejaVu Sans', 'weight':'bold' })\n",
    "\n",
    "# Marital Status Count\n",
    "NoMSTATUSCount = (CarInssuranceDataframeImputedValues['MSTATUS']).value_counts()['No']\n",
    "YesMSTATUSCount = (CarInssuranceDataframeImputedValues['MSTATUS']).value_counts()['Yes']\n",
    "# Plot the pie chart\n",
    "labels= ['Unmarried', 'Married']\n",
    "sizes= [NoMSTATUSCount, YesMSTATUSCount]\n",
    "explode = (0, 0.04)\n",
    "fig = ax2.pie(sizes, explode=explode, labels=labels, autopct='%1.1f%%', shadow=True, startangle=90, colors=['#AADEA7','#64C2A6'], textprops={'fontsize': 15})\n",
    "ax2.set_title('ANALYSIS BY MARITAL STATUS', size=22, color='GREY', x=0.49, y=0.925, **{'fontname':'DejaVu Sans', 'weight':'bold' })\n",
    "\n",
    "\n",
    "# Single Parent Count\n",
    "NoPARENT1Count = (CarInssuranceDataframeImputedValues['PARENT1']).value_counts()['No']\n",
    "YesPARENT1Count = (CarInssuranceDataframeImputedValues['PARENT1']).value_counts()['Yes']\n",
    "# Plot the pie chart\n",
    "labels= [' ', 'Single Parent']\n",
    "sizes= [NoPARENT1Count, YesPARENT1Count]\n",
    "explode = (0, 0.04)\n",
    "fig = ax3.pie(sizes, explode=explode, labels=labels, autopct='%1.1f%%', shadow=True, startangle=-90, counterclock=False, colors=['#F7B7A3','#FFF1C9'], textprops={'fontsize': 15})\n",
    "ax3.set_title('SINGLE-PARENT ANALYSIS', size=22, color='GREY', x=0.45, y=0.925, **{'fontname':'DejaVu Sans', 'weight':'bold' })\n",
    "\n",
    "plt.show()"
   ]
  },
  {
   "cell_type": "markdown",
   "metadata": {},
   "source": [
    "<p><img alt=\"Insight logo\" src=\"https://raw.githubusercontent.com/warazkhan/Data-Analysis-Project/main/Insights%20logo.png\" align=\"left\" hspace=\"0px\" vspace=\"10px\" width=\"180\" height=\"150\"></p>\n",
    "\n",
    "<ul style=\"list-style-type:none;\">\n",
    "  <li style=\"font-weight: bold;font-family:Trebuchet MS;font-size:30px;font-style: italic;color:  red\">Insights:</li>\n",
    "</ul>\n",
    "<div class=\"alert alert-success\" role=\"alert\">\n",
    "<ul style=\"list-style-type:none;font-family:Trebuchet MS;font-size:17px;color:black\">\n",
    "    <li> After analyzing the car insurance dataset, it is evident that a higher percentage of females (<span style=\"font-weight: bold; color:blue;\">53.8%</span>) opt for car insurance compared to males (<span style=\"font-weight: bold; color:blue;\">46.2%</span>). Furthermore, <span style=\"font-weight: bold; color:blue;\">60%</span> of the customers in the dataset are married, and approximately <span style=\"font-weight: bold; color:blue;\">13%</span> are single parents.<br>\n",
    "    </li>\n",
    "    <br>\n",
    "</ul>\n",
    "</div>\n"
   ]
  },
  {
   "cell_type": "markdown",
   "metadata": {},
   "source": [
    "<p><img alt=\"Insight logo\" src=\"https://raw.githubusercontent.com/warazkhan/CarInssurance-DataAnalysis/main/analysis.png\" align=\"left\" hspace=\"25px\" vspace=\"1px\" width=\"80\" height=\"80\" ></p>\n",
    "\n",
    "<ul style=\"list-style-type:none;\">\n",
    "  <li style=\"font-weight: bold;font-family:Trebuchet MS;font-size:25px;font-style: italic;color:darkblue\">Analysis by Education and Occupation</li>\n",
    "</ul>"
   ]
  },
  {
   "cell_type": "code",
   "execution_count": null,
   "metadata": {
    "execution": {
     "iopub.execute_input": "2023-09-10T20:04:34.309022Z",
     "iopub.status.busy": "2023-09-10T20:04:34.308101Z",
     "iopub.status.idle": "2023-09-10T20:04:34.428907Z",
     "shell.execute_reply": "2023-09-10T20:04:34.427679Z",
     "shell.execute_reply.started": "2023-09-10T20:04:34.308988Z"
    },
    "trusted": true
   },
   "outputs": [],
   "source": [
    "# Create subplots, using 'domain' type for pie charts\n",
    "specs = [[{'type':'domain'}, {'type':'domain'}]]\n",
    "fig = make_subplots(rows=1, cols=2, specs=specs)\n",
    "\n",
    "\n",
    "# Education Pie Chart\n",
    "PhDCount = (CarInssuranceDataframeImputedValues['EDUCATION']).value_counts()['PhD']\n",
    "HighSchoolCount = (CarInssuranceDataframeImputedValues['EDUCATION']).value_counts()['High School']\n",
    "BachelorsCount = (CarInssuranceDataframeImputedValues['EDUCATION']).value_counts()['Bachelors']\n",
    "MastersCount = (CarInssuranceDataframeImputedValues['EDUCATION']).value_counts()['Masters']\n",
    "# Plot the pie chart\n",
    "labels= ['PhD', 'High School', 'Bachelors', 'Masters']\n",
    "sizes= [PhDCount, HighSchoolCount, BachelorsCount, MastersCount]\n",
    "fig.add_trace(go.Pie(labels=labels, values=sizes, hole=.6, hoverinfo=\"label+value\", marker_colors=px.colors.sequential.Teal), 1, 1)\n",
    "\n",
    "\n",
    "# Occupation Pie Chart\n",
    "checkOccupationDataFrame = CarInssuranceDataframeImputedValues.copy()\n",
    "# Occupations Count\n",
    "ProfessionalCount = (checkOccupationDataFrame['OCCUPATION']).value_counts()['Professional']\n",
    "z_BlueCollarCount = (checkOccupationDataFrame['OCCUPATION']).value_counts()['Blue Collar']\n",
    "ManagerCount = (checkOccupationDataFrame['OCCUPATION']).value_counts()['Manager']\n",
    "ClericalCount = (checkOccupationDataFrame['OCCUPATION']).value_counts()['Clerical']\n",
    "DoctorCount = (checkOccupationDataFrame['OCCUPATION']).value_counts()['Doctor']\n",
    "LawyerCount = (checkOccupationDataFrame['OCCUPATION']).value_counts()['Lawyer']\n",
    "HomeMakerCount = (checkOccupationDataFrame['OCCUPATION']).value_counts()['Home Maker']\n",
    "StudentCount = (checkOccupationDataFrame['OCCUPATION']).value_counts()['Student']\n",
    "# Plot the pie chart\n",
    "labels = ['Professional', 'Blue Collar', 'Manager', 'Clerical', 'Doctor', 'Lawyer', 'Home Maker', 'Student']\n",
    "values = [ProfessionalCount, z_BlueCollarCount, ManagerCount, ClericalCount, DoctorCount, LawyerCount, HomeMakerCount,StudentCount]\n",
    "fig.add_trace(go.Pie(labels=labels, values=values, hole=.6, hoverinfo=\"label+value\", marker_colors=px.colors.sequential.Purples), 1, 2)\n",
    "\n",
    "fig.update_layout(\n",
    "    margin=dict(l=40, r=120, t=50, b=10),\n",
    "    title={\n",
    "        'text': \"ANALYSIS BY EDUCATION                                        ANALYSIS BY OCCUPATION\",\n",
    "        'y':0.95,\n",
    "        'x':0.46,\n",
    "        'xanchor': 'center',\n",
    "        'yanchor': 'top',}, \n",
    "    title_font = {\"size\": 22, \"color\": 'grey', 'family':'Arial Black'}\n",
    ")\n",
    "fig.update(layout_showlegend=False)\n",
    "fig.update_traces(textposition='inside', textinfo='percent+label')\n",
    "fig.show()"
   ]
  },
  {
   "cell_type": "markdown",
   "metadata": {},
   "source": [
    "<p><img alt=\"Insight logo\" src=\"https://raw.githubusercontent.com/warazkhan/Data-Analysis-Project/main/Insights%20logo.png\" align=\"left\" hspace=\"0px\" vspace=\"10px\" width=\"180\" height=\"150\"></p>\n",
    "\n",
    "<ul style=\"list-style-type:none;\">\n",
    "  <li style=\"font-weight: bold;font-family:Trebuchet MS;font-size:30px;font-style: italic;color:  red\">Insights:</li>\n",
    "</ul>\n",
    "<div class=\"alert alert-success\" role=\"alert\">\n",
    "<ul style=\"list-style-type:none;font-family:Trebuchet MS;font-size:17px;color:black\">\n",
    "    <li> After analyzing the car insurance dataset, it is evident that the majority of individuals who take insurance have completed their high school education, accounting for <span style=\"font-weight: bold; color:blue;\">43.4%</span> of the customers. Following that, <span style=\"font-weight: bold; color:blue;\">27.4%</span> have a bachelor's degree, <span style=\"font-weight: bold; color:blue;\">20.02%</span> have a master's degree, and <span style=\"font-weight: bold; color:blue;\">9.07%</span> have a PhD.<br>\n",
    "\n",
    "In terms of occupation, the highest percentage of customers, <span style=\"font-weight: bold; color:blue;\">28.7%</span>, are engaged in blue-collar work. The second-highest occupation category is clerical, accounting for <span style=\"font-weight: bold; color:blue;\">15.4%</span> of the customers. Other occupations make up the remaining percentage of insured individuals.<br>\n",
    "    </li>\n",
    "</ul>\n",
    "</div>\n"
   ]
  },
  {
   "cell_type": "markdown",
   "metadata": {},
   "source": [
    "<p><img alt=\"Insight logo\" src=\"https://raw.githubusercontent.com/warazkhan/CarInssurance-DataAnalysis/main/analysis.png\" align=\"left\" hspace=\"25px\" vspace=\"1px\" width=\"80\" height=\"80\" ></p>\n",
    "\n",
    "<ul style=\"list-style-type:none;\">\n",
    "  <li style=\"font-weight: bold;font-family:Trebuchet MS;font-size:25px;font-style: italic;color:darkblue\">Analysis by Car Usage, Car Type and Red Cars</li>\n",
    "</ul>"
   ]
  },
  {
   "cell_type": "code",
   "execution_count": null,
   "metadata": {
    "execution": {
     "iopub.execute_input": "2023-09-10T20:04:34.430451Z",
     "iopub.status.busy": "2023-09-10T20:04:34.430137Z",
     "iopub.status.idle": "2023-09-10T20:04:34.539034Z",
     "shell.execute_reply": "2023-09-10T20:04:34.537926Z",
     "shell.execute_reply.started": "2023-09-10T20:04:34.430424Z"
    },
    "trusted": true
   },
   "outputs": [],
   "source": [
    "# Create subplots for pie charts\n",
    "specs = [[{'type':'domain'}, {'type':'domain'},{'type':'domain'}]]\n",
    "fig = make_subplots(rows=1, cols=3, specs=specs)\n",
    "\n",
    "# Car Usage Pie Chart\n",
    "PrivateCount = (CarInssuranceDataframeImputedValues['CAR_USE']).value_counts()['Private']\n",
    "CommercialCount = (CarInssuranceDataframeImputedValues['CAR_USE']).value_counts()['Commercial']\n",
    "labels= ['Private', 'Commercial']\n",
    "sizes= [ PrivateCount, CommercialCount]\n",
    "# Plot the pie chart\n",
    "fig.add_trace(go.Pie( values=sizes, labels = labels, hoverinfo=\"label+value\", marker_colors=px.colors.sequential.Viridis), 1, 1)\n",
    "\n",
    "# Car Type Pie Chart\n",
    "MinivanCount = (CarInssuranceDataframeImputedValues['CAR_TYPE']).value_counts()['Minivan']\n",
    "VanCount = (CarInssuranceDataframeImputedValues['CAR_TYPE']).value_counts()['Van']\n",
    "SUVCount = (CarInssuranceDataframeImputedValues['CAR_TYPE']).value_counts()['SUV']\n",
    "SportsCarCount = (CarInssuranceDataframeImputedValues['CAR_TYPE']).value_counts()['Sports Car']\n",
    "PanelTruckCount = (CarInssuranceDataframeImputedValues['CAR_TYPE']).value_counts()['Panel Truck']\n",
    "PickupCount = (CarInssuranceDataframeImputedValues['CAR_TYPE']).value_counts()['Pickup']\n",
    "# Plot the pie chart\n",
    "labels= ['Minivan', 'Van', 'SUV', 'Sports Car','Panel Truck','Pickup']\n",
    "sizes= [ MinivanCount, VanCount, SUVCount, SportsCarCount, PanelTruckCount, PickupCount]\n",
    "fig.add_trace(go.Pie(labels=labels, values=sizes, hoverinfo=\"label+value\", marker_colors=px.colors.sequential.Plasma), 1, 2)\n",
    "\n",
    "# Red Car Pie Chart\n",
    "NoREDCARCount = (CarInssuranceDataframeImputedValues['RED_CAR']).value_counts()['no']\n",
    "YesREDCARCount = (CarInssuranceDataframeImputedValues['RED_CAR']).value_counts()['yes']\n",
    "# Plot the pie chart\n",
    "labels = ['Other Cars','Red Cars']\n",
    "values = [NoREDCARCount, YesREDCARCount]\n",
    "fig.add_trace(go.Pie(labels=labels, values=values, hoverinfo=\"label+value\", marker_colors=px.colors.sequential.RdBu), 1, 3)\n",
    "\n",
    "fig.update_layout(\n",
    "    margin=dict(l=40, r=120, t=50, b=10),\n",
    "    title={\n",
    "        'text': \"ANALYSIS BY CAR USAGE              ANALYSIS BY CAR TYPE               ANALYSIS BY RED CARS\",\n",
    "        'y':0.95,\n",
    "        'x':0.46,\n",
    "        'xanchor': 'center',\n",
    "        'yanchor': 'top',}, \n",
    "    title_font = {\"size\": 22, \"color\": 'grey', 'family':'Arial Black'}\n",
    ")\n",
    "fig.update(layout_showlegend=False)\n",
    "fig.update_traces(textposition='inside', textinfo='percent+label')\n",
    "fig.show()"
   ]
  },
  {
   "cell_type": "markdown",
   "metadata": {},
   "source": [
    "<p><img alt=\"Insight logo\" src=\"https://raw.githubusercontent.com/warazkhan/Data-Analysis-Project/main/Insights%20logo.png\" align=\"left\" hspace=\"0px\" vspace=\"10px\" width=\"180\" height=\"150\"></p>\n",
    "\n",
    "<ul style=\"list-style-type:none;\">\n",
    "  <li style=\"font-weight: bold;font-family:Trebuchet MS;font-size:30px;font-style: italic;color:  red\">Insights:</li>\n",
    "</ul>\n",
    "<div class=\"alert alert-success\" role=\"alert\">\n",
    "<ul style=\"list-style-type:none;font-family:Trebuchet MS;font-size:17px;color:black\">\n",
    "    <li> After analyzing the car insurance dataset, it is evident that the majority of individuals who take insurance use their car for private purposes, accounting for <span style=\"font-weight: bold; color:blue;\">63.2%</span> of the customers.<br>\n",
    "When considering car types, the highest percentage of customers have SUVs, comprising <span style=\"font-weight: bold; color:blue;\">28%</span> of the insured individuals. The second-highest car type is minivans, accounting for <span style=\"font-weight: bold; color:blue;\">26.2%</span> of the customers. The remaining percentage of insured individuals is distributed among pickup trucks and other car types.<br>\n",
    "Regarding the Red Cars, the majority of customers do not have red cars, with <span style=\"font-weight: bold; color:blue;\">71.1%</span> of them opting for other colors.<br>\n",
    "    </li>\n",
    "    <br>\n",
    "</ul>\n",
    "</div>"
   ]
  },
  {
   "cell_type": "markdown",
   "metadata": {},
   "source": [
    "<p><img alt=\"Insight logo\" src=\"https://raw.githubusercontent.com/warazkhan/CarInssurance-DataAnalysis/main/analysis.png\" align=\"left\" hspace=\"25px\" vspace=\"1px\" width=\"80\" height=\"80\" ></p>\n",
    "\n",
    "<ul style=\"list-style-type:none;\">\n",
    "  <li style=\"font-weight: bold;font-family:Trebuchet MS;font-size:25px;font-style: italic;color:darkblue\">Analysis by Licenses Revoked</li>\n",
    "</ul>"
   ]
  },
  {
   "cell_type": "code",
   "execution_count": null,
   "metadata": {
    "execution": {
     "iopub.execute_input": "2023-09-10T20:04:34.541262Z",
     "iopub.status.busy": "2023-09-10T20:04:34.540838Z",
     "iopub.status.idle": "2023-09-10T20:04:34.638853Z",
     "shell.execute_reply": "2023-09-10T20:04:34.637526Z",
     "shell.execute_reply.started": "2023-09-10T20:04:34.541222Z"
    },
    "trusted": true
   },
   "outputs": [],
   "source": [
    "# Car Usage Pie Chart\n",
    "YesRevokedCount = (CarInssuranceDataframeImputedValues['REVOKED']).value_counts()['Yes']\n",
    "NoRevokedCount = (CarInssuranceDataframeImputedValues['REVOKED']).value_counts()['No']\n",
    "# Percentage of Genders in Dataframe\n",
    "YesRevokedPercentage=(YesRevokedCount/CarInssuranceDataframeImputedValues['REVOKED'].count())*100\n",
    "NoRevokedPercentage=(NoRevokedCount/CarInssuranceDataframeImputedValues['REVOKED'].count())*100\n",
    "\n",
    "top_labels = ['Yes', 'No']\n",
    "colors = ['rgb(38, 24, 74, 0.8)', 'rgb(164, 163, 204, 0.85)']\n",
    "x_data = [[round(YesRevokedPercentage, 1), round(NoRevokedPercentage, 1)]]\n",
    "y_data = ['Previously revoked<br> license holders']\n",
    "\n",
    "fig = go.Figure()\n",
    "\n",
    "for i in range(0, len(top_labels)):\n",
    "    for xd, yd in zip(x_data, y_data):\n",
    "        fig.add_trace(go.Bar( x=[xd[i]], y=[yd],\n",
    "            orientation='h',\n",
    "            marker=dict(\n",
    "                color=colors[i],\n",
    "                line=dict(color='rgb(248, 248, 249)', width=1)\n",
    "            )\n",
    "        ))\n",
    "\n",
    "fig.update_layout(\n",
    "    \n",
    "    {'plot_bgcolor': 'rgb(0, 0, 0, 0)', 'paper_bgcolor': 'rgb(0, 0, 0, 0)'\n",
    "    },\n",
    "    xaxis=dict(\n",
    "        showgrid=False,\n",
    "        showline=False,\n",
    "        showticklabels=False,\n",
    "        zeroline=False,\n",
    "        domain=[0.15, 1]\n",
    "    ),\n",
    "    yaxis=dict(\n",
    "        showgrid=False,\n",
    "        showline=False,\n",
    "        showticklabels=False,\n",
    "        zeroline=False,\n",
    "    ),\n",
    "    barmode='stack',\n",
    "    margin=dict(l=10, r=150, t=100, b=120),\n",
    "    showlegend=False,\n",
    "    title={\n",
    "        'text': \"ANALYSIS BY LICENSE\",\n",
    "        'y':0.95,\n",
    "        'x':0.49,\n",
    "        'xanchor': 'center',\n",
    "        'yanchor': 'top',}, \n",
    "    title_font = {\"size\": 22, \"color\": 'grey', 'family':'Arial Black'}\n",
    ")\n",
    "\n",
    "annotations = []\n",
    "\n",
    "for yd, xd in zip(y_data, x_data):\n",
    "    # labeling the y-axis\n",
    "    annotations.append(dict(xref='paper', yref='y',\n",
    "                            x=0.14, y=yd,\n",
    "                            xanchor='right',\n",
    "                            text=str(yd),\n",
    "                            font=dict(family='Arial Black', size=14,\n",
    "                                      color='rgb(67, 67, 67)'),\n",
    "                            showarrow=False, align='right'))\n",
    "    # labeling the first percentage of each bar (x_axis)\n",
    "    annotations.append(dict(xref='x', yref='y',\n",
    "                            x=xd[0] / 2, y=yd,\n",
    "                            text=str(xd[0]) + '%',\n",
    "                            font=dict(family='Arial', size=14,\n",
    "                                      color='rgb(248, 248, 255)'),\n",
    "                            showarrow=False))\n",
    "    # labeling the first Likert scale (on the top)\n",
    "    if yd == y_data[-1]:\n",
    "        annotations.append(dict(xref='x', yref='paper',\n",
    "                                x=xd[0] / 2, y=1.1,\n",
    "                                text=top_labels[0],\n",
    "                                font=dict(family='Arial', size=14,\n",
    "                                          color='rgb(67, 67, 67)'),\n",
    "                                showarrow=False))\n",
    "    space = xd[0]\n",
    "    for i in range(1, len(top_labels)):\n",
    "            # labeling the rest of percentages for each bar (x_axis)\n",
    "            annotations.append(dict(xref='x', yref='y',\n",
    "                                    x=space + (xd[i]/2), y=yd,\n",
    "                                    text=str(xd[i]) + '%',\n",
    "                                    font=dict(family='Arial', size=14,\n",
    "                                              color='rgb(248, 248, 255)'),\n",
    "                                    showarrow=False))\n",
    "            # labeling the Likert scale\n",
    "            if yd == y_data[-1]:\n",
    "                annotations.append(dict(xref='x', yref='paper',\n",
    "                                        x=space + (xd[i]/2), y=1.1,\n",
    "                                        text=top_labels[i],\n",
    "                                        font=dict(family='Arial', size=14,\n",
    "                                                  color='rgb(67, 67, 67)'),\n",
    "                                        showarrow=False))\n",
    "            space += xd[i]\n",
    "\n",
    "fig.update_layout(annotations=annotations)\n",
    "fig.update_traces(hoverinfo='skip')\n",
    "\n",
    "fig.show()"
   ]
  },
  {
   "cell_type": "markdown",
   "metadata": {},
   "source": [
    "<p><img alt=\"Insight logo\" src=\"https://raw.githubusercontent.com/warazkhan/Data-Analysis-Project/main/Insights%20logo.png\" align=\"left\" hspace=\"0px\" vspace=\"10px\" width=\"180\" height=\"150\"></p>\n",
    "\n",
    "<ul style=\"list-style-type:none;\">\n",
    "  <li style=\"font-weight: bold;font-family:Trebuchet MS;font-size:30px;font-style: italic;color:  red\">Insights:</li>\n",
    "</ul>\n",
    "<div class=\"alert alert-success\" role=\"alert\">\n",
    "<ul style=\"list-style-type:none;font-family:Trebuchet MS;font-size:17px;color:black\">\n",
    "    <li> After analyzing the car insurance dataset, it is evident that a small percentage of individuals, specifically <span style=\"font-weight: bold; color:blue;\">12.2%</span>, have had their licenses revoked. This indicates that there are less risky drivers in dataset.<br>\n",
    "    </li>\n",
    "    <br>\n",
    "</ul>\n",
    "</div>"
   ]
  },
  {
   "cell_type": "markdown",
   "metadata": {},
   "source": [
    "<p><img alt=\"Insight logo\" src=\"https://raw.githubusercontent.com/warazkhan/CarInssurance-DataAnalysis/main/analysis.png\" align=\"left\" hspace=\"25px\" vspace=\"1px\" width=\"80\" height=\"80\" ></p>\n",
    "\n",
    "<ul style=\"list-style-type:none;\">\n",
    "  <li style=\"font-weight: bold;font-family:Trebuchet MS;font-size:25px;font-style: italic;color:darkblue\">Analysis by Location</li>\n",
    "</ul>"
   ]
  },
  {
   "cell_type": "code",
   "execution_count": null,
   "metadata": {
    "execution": {
     "iopub.execute_input": "2023-09-10T20:04:34.641103Z",
     "iopub.status.busy": "2023-09-10T20:04:34.640649Z",
     "iopub.status.idle": "2023-09-10T20:04:34.718048Z",
     "shell.execute_reply": "2023-09-10T20:04:34.716966Z",
     "shell.execute_reply.started": "2023-09-10T20:04:34.641064Z"
    },
    "trusted": true
   },
   "outputs": [],
   "source": [
    "# Car Usage Pie Chart\n",
    "UrbanCount = (CarInssuranceDataframeImputedValues['URBANICITY']).value_counts()['Highly Urban/ Urban']\n",
    "RuralCount = (CarInssuranceDataframeImputedValues['URBANICITY']).value_counts()['Highly Rural/ Rural']\n",
    "\n",
    "fig = go.Figure(go.Funnel(\n",
    "    y = [\"Highly Urban/ Urban\", \"Highly Rural/ Rural\"],\n",
    "    x = [UrbanCount, RuralCount],\n",
    "    textposition = \"inside\",\n",
    "    textinfo = \"value+percent total\",\n",
    "    opacity = 0.9, marker = {\"color\": [ \"lightsalmon\", \"teal\"],\n",
    "    \"line\": {\"width\": [4, 3, 2, 3, 1, 1], \"color\": [\"wheat\", \"wheat\"]}},\n",
    "    connector = {\"line\": {\"color\": \"black\", \"dash\": \"dot\", \"width\": 3}})\n",
    "    )\n",
    "\n",
    "fig.update_layout(\n",
    "    \n",
    "    {'plot_bgcolor': 'rgb(0, 0, 0, 0)', 'paper_bgcolor': 'rgb(0, 0, 0, 0)'\n",
    "    },\n",
    "    margin=dict(l=10, r=10, t=50),\n",
    "    showlegend=False,\n",
    "    title={\n",
    "        'text': \"ANALYSIS BY LOCATION\",\n",
    "        'y':0.95,\n",
    "        'x':0.53,\n",
    "        'xanchor': 'center',\n",
    "        'yanchor': 'top',}, \n",
    "    title_font = {\"size\": 22, \"color\": 'grey', 'family':'Arial Black'}\n",
    ")\n",
    "fig.update_traces(hoverinfo='skip')\n",
    "\n",
    "fig.show()"
   ]
  },
  {
   "cell_type": "markdown",
   "metadata": {},
   "source": [
    "<p><img alt=\"Insight logo\" src=\"https://raw.githubusercontent.com/warazkhan/Data-Analysis-Project/main/Insights%20logo.png\" align=\"left\" hspace=\"0px\" vspace=\"10px\" width=\"180\" height=\"150\"></p>\n",
    "\n",
    "<ul style=\"list-style-type:none;\">\n",
    "  <li style=\"font-weight: bold;font-family:Trebuchet MS;font-size:30px;font-style: italic;color:  red\">Insights:</li>\n",
    "</ul>\n",
    "<div class=\"alert alert-success\" role=\"alert\">\n",
    "<ul style=\"list-style-type:none;font-family:Trebuchet MS;font-size:17px;color:black\">\n",
    "    <li>After analyzing the car insurance dataset, it is evident that the majority of insured individuals reside in highly urban areas, accounting for <span style=\"font-weight: bold; color:blue;\">80%</span> of the total. This indicates that car insurance is more prevalent among those living in densely populated urban areas.<br>\n",
    "    </li>\n",
    "    <br>\n",
    "</ul>\n",
    "</div>"
   ]
  },
  {
   "cell_type": "markdown",
   "metadata": {},
   "source": [
    "<p><img alt=\"Insight logo\" src=\"https://raw.githubusercontent.com/warazkhan/CarInssurance-DataAnalysis/main/analysis.png\" align=\"left\" hspace=\"25px\" vspace=\"1px\" width=\"80\" height=\"80\" ></p>\n",
    "\n",
    "<ul style=\"list-style-type:none;\">\n",
    "  <li style=\"font-weight: bold;font-family:Trebuchet MS;font-size:25px;font-style: italic;color:darkblue\">Analysis by Date of Birth</li>\n",
    "</ul>"
   ]
  },
  {
   "cell_type": "code",
   "execution_count": null,
   "metadata": {
    "execution": {
     "iopub.execute_input": "2023-09-10T20:04:34.720162Z",
     "iopub.status.busy": "2023-09-10T20:04:34.719806Z",
     "iopub.status.idle": "2023-09-10T20:04:34.983804Z",
     "shell.execute_reply": "2023-09-10T20:04:34.982586Z",
     "shell.execute_reply.started": "2023-09-10T20:04:34.720132Z"
    },
    "trusted": true
   },
   "outputs": [],
   "source": [
    "df=CarInssuranceDataframeImputedValues\n",
    "x = df['BIRTH']\n",
    "\n",
    "# Use the hovertext kw argument for hover text\n",
    "fig = go.Figure(data=[go.Histogram(x=x, histfunc='count' ,hoverinfo=('x+y'))])\n",
    "# Customize aspect\n",
    "fig.update_traces(marker_line_color='#371916', marker_color='#D2958E',\n",
    "                  marker_line_width=1.5, opacity=0.6)\n",
    "\n",
    "fig.update_layout({'plot_bgcolor': 'rgb(0, 0, 0, 0)', 'paper_bgcolor': 'rgb(0, 0, 0, 0)'},bargap=0.2, height=500, width=1200, title_text=\"ANALYSIS BY DATE OF BIRTH\", \n",
    "                  title_font = {\"size\": 22, \"color\": 'grey', 'family':'Arial Black'}, title={ 'x':0.5,'xanchor': 'center','yanchor': 'top'})\n",
    "fig.update_xaxes(title_text=\"BIRTH\")\n",
    "fig.update_yaxes(title_text=\"NUMBER OF PEOPLE\")\n",
    "fig.show()"
   ]
  },
  {
   "cell_type": "markdown",
   "metadata": {
    "tags": []
   },
   "source": [
    "<p><img alt=\"Insight logo\" src=\"https://raw.githubusercontent.com/warazkhan/Data-Analysis-Project/main/Insights%20logo.png\" align=\"left\" hspace=\"0px\" vspace=\"10px\" width=\"180\" height=\"150\"></p>\n",
    "\n",
    "<ul style=\"list-style-type:none;\">\n",
    "  <li style=\"font-weight: bold;font-family:Trebuchet MS;font-size:30px;font-style: italic;color:  red\">Insights:</li>\n",
    "</ul>\n",
    "<div class=\"alert alert-success\" role=\"alert\">\n",
    "<ul style=\"list-style-type:none;font-family:Trebuchet MS;font-size:17px;color:black\">\n",
    "    <li>Upon analyzing the car insurance dataset, it becomes apparent that a significant proportion of insured individuals fall within the birth year range of <span style=\"font-weight: bold; color:blue;\">1950-1960</span>, highlighting the higher propensity for individuals born during this period to possess car insurance coverage. Most of the customers that are <span style=\"font-weight: bold; color:blue;\">250</span> are from <span style=\"font-weight: bold; color:blue;\">1951</span><br>\n",
    "    </li>\n",
    "    <br>\n",
    "</ul>\n",
    "</div>"
   ]
  },
  {
   "cell_type": "markdown",
   "metadata": {},
   "source": [
    "<p><img alt=\"Insight logo\" src=\"https://raw.githubusercontent.com/warazkhan/Data-Analysis-Project/main/allinsight-logo.png\" align=\"left\" hspace=\"0px\" vspace=\"30px\" width=\"120\" height=\"80\"></p>\n",
    "<br>\n",
    "<ul style=\"list-style-type:none;\">\n",
    "  <li style=\"font-weight: bold;font-family:Trebuchet MS;font-size:30px;font-style: italic;color:  red\">&emsp;In a null shell:</li>\n",
    "</ul>\n",
    "\n",
    "<div class=\"alert alert-info\" role=\"alert\">\n",
    "<ul style=\"list-style-type:none;font-family:Trebuchet MS;font-size:17px;color:black\"> \n",
    "    <li>This project focuses on analyzing a dataset from an car insurance claim, containing information about individual customers, their socio-demographic profile, and vehicles details. It involves downloading, cleaning, and preparing the dataset </li><br>\n",
    "    <li><span style=\"font-weight: bold; color:green;\">1.</span> Frequency plots, also known as histograms, are utilized to visualize the distribution of variables in the dataset.</li>\n",
    "    <br>\n",
    "    <li><span style=\"font-weight: bold; color:green;\">2.</span> In discrete statistics, central tendency measures like mean, median, and mode determine average and frequently occurring values. Variability measures (range, standard deviation, variance) assess data spread. Skewness and kurtosis indicate distribution shape and concentration.</li>\n",
    "    <br>\n",
    "    <li><span style=\"font-weight: bold; color:green;\">3.</span> Outliers, data points deviating from the expected range, are handled using univariate and multivariate outlier analysis. The Interquartile Range (IQR) identifies univariate outliers, and multivariate outliers are replaced with mean values to avoid data loss.</li>\n",
    "    <br>\n",
    "    <li><span style=\"font-weight: bold; color:green;\">4.</span> Handling missing values is crucial. Numeric missing values are imputed with the mean or most frequent strategy. Categorical missing values are replaced with the most frequent value.</li>\n",
    "    <br>\n",
    "    <li><span style=\"font-weight: bold; color:green;\">5.</span> Correlation analysis is conducted to examine the relationships between variables. Positive and negative correlations indicate the direction and strength of the relationship, while weak or no correlation suggests little or no relationship. Coefficients range from -1 to 1, with 0 indicating no correlation, -1 showing perfect negative correlation, and 1 representing perfect positive correlation.</li>\n",
    "    <br>\n",
    "    <li><span style=\"font-weight: bold; color:green;\">6.</span> Normalization and scaling techniques are applied to numeric variables. Normalization transforms data to a normal distribution, while scaling brings it to a specific range (0-1). Techniques like z-score normalization and Min-Max scaling ensure fair comparison.</li>\n",
    "    <br>\n",
    "    <li><span style=\"font-weight: bold; color:green;\">7.</span> Grouping the data by age, gender, driving record and vehicle type provides insights into patterns and trends within each category.</li>\n",
    "    <br>\n",
    "    <li><span style=\"font-weight: bold; color:green;\">8.</span> Univariate analysis examines relationships within a single variable. It reveals females show a higher preference for insurance, and the majority of insured individuals are married, have completed high school, use cars privately, and live in urban areas. A small percentage have had their licenses revoked.</li>\n",
    "    <br>\n",
    "</ul>\n",
    "</div>"
   ]
  },
  {
   "cell_type": "markdown",
   "metadata": {},
   "source": [
    "<p><img alt=\"Insight logo\" src=\"https://raw.githubusercontent.com/warazkhan/CarInssurance-DataAnalysis/main/univariate.png\" align=\"left\" hspace=\"25px\" vspace=\"25px\" width=\"100\" height=\"80\" ></p>\n",
    "<ul style=\"list-style-type:none;\">\n",
    "<li style=\"font-weight: bold;font-family:Trebuchet MS;font-size:35px;font-style: italic;color:red\">Bivariate and Multivarite analysis</li>\n",
    "</ul>\n",
    "<ul style=\"list-style-type:none;font-family:Trebuchet MS;font-size:17px;color:black\">  \n",
    "<li> Analyzing relashionships between more than one variable to understand its distribution, central tendency, dispersion, and other characteristics.</li> \n",
    "</ul>"
   ]
  },
  {
   "cell_type": "markdown",
   "metadata": {},
   "source": [
    "<p><img alt=\"Insight logo\" src=\"https://raw.githubusercontent.com/warazkhan/CarInssurance-DataAnalysis/main/categoricalData.png\" align=\"left\" hspace=\"25px\" vspace=\"1px\" width=\"100\" height=\"80\" ></p>\n",
    "\n",
    "<ul style=\"list-style-type:none;\">\n",
    "  <li style=\"font-weight: bold;font-family:Trebuchet MS;font-size:25px;font-style: italic;color:green\"> Categorical to Categorical</li>\n",
    "</ul>"
   ]
  },
  {
   "cell_type": "markdown",
   "metadata": {},
   "source": [
    "<p><img alt=\"Insight logo\" src=\"https://raw.githubusercontent.com/warazkhan/CarInssurance-DataAnalysis/main/analysis.png\" align=\"left\" hspace=\"25px\" vspace=\"1px\" width=\"80\" height=\"80\" ></p>\n",
    "\n",
    "<ul style=\"list-style-type:none;\">\n",
    "  <li style=\"font-weight: bold;font-family:Trebuchet MS;font-size:25px;font-style: italic;color:darkblue\"> Analysis by Gender and Revoked License</li>\n",
    "</ul>"
   ]
  },
  {
   "cell_type": "code",
   "execution_count": null,
   "metadata": {
    "execution": {
     "iopub.execute_input": "2023-09-10T20:04:34.985553Z",
     "iopub.status.busy": "2023-09-10T20:04:34.98521Z",
     "iopub.status.idle": "2023-09-10T20:04:35.114868Z",
     "shell.execute_reply": "2023-09-10T20:04:35.113681Z",
     "shell.execute_reply.started": "2023-09-10T20:04:34.985524Z"
    },
    "trusted": true
   },
   "outputs": [],
   "source": [
    "x = df['GENDER']\n",
    "y = df['REVOKED']\n",
    "\n",
    "# Use the hovertext kw argument for hover text\n",
    "fig = go.Figure(data=[go.Histogram(x=x, y=y, histfunc='count')])\n",
    "# Customize aspect\n",
    "fig.update_traces(marker_color='rgb(158,202,225)', marker_line_color='rgb(8,48,107)',\n",
    "                  marker_line_width=1.5, opacity=0.6)\n",
    "\n",
    "fig.update_layout({'plot_bgcolor': 'rgb(0, 0, 0, 0)', 'paper_bgcolor': 'rgb(0, 0, 0, 0)'},bargap=0.2, height=500, width=1200, title_text=\"GENDER VS REVOKED LICENSE\", \n",
    "                  title_font = {\"size\": 22, \"color\": 'grey', 'family':'Arial Black'}, title={ 'x':0.5,'xanchor': 'center','yanchor': 'top'})\n",
    "fig.update_xaxes(title_text=\"GENDER\")\n",
    "fig.update_yaxes(title_text=\"NUMBER OF REVOKED\")\n",
    "fig.show()"
   ]
  },
  {
   "cell_type": "markdown",
   "metadata": {},
   "source": [
    "<p><img alt=\"Insight logo\" src=\"https://raw.githubusercontent.com/warazkhan/Data-Analysis-Project/main/Insights%20logo.png\" align=\"left\" hspace=\"0px\" vspace=\"10px\" width=\"180\" height=\"150\"></p>\n",
    "\n",
    "<ul style=\"list-style-type:none;\">\n",
    "  <li style=\"font-weight: bold;font-family:Trebuchet MS;font-size:30px;font-style: italic;color:  red\">Insights:</li>\n",
    "</ul>\n",
    "<div class=\"alert alert-success\" role=\"alert\">\n",
    "<ul style=\"list-style-type:none;font-family:Trebuchet MS;font-size:17px;color:black\">\n",
    "    <li>Based on the analysis of the car insurance dataset, the graphical representation reveals a notable trend indicating that a <span style=\"font-weight: bold; color:blue;\">larger</span> proportion of <span style=\"font-weight: bold; color:blue;\">females</span> have revoked licenses compared to males.<br>\n",
    "    </li>\n",
    "    <br>\n",
    "</ul>\n",
    "</div>"
   ]
  },
  {
   "cell_type": "markdown",
   "metadata": {},
   "source": [
    "<p><img alt=\"Insight logo\" src=\"https://raw.githubusercontent.com/warazkhan/CarInssurance-DataAnalysis/main/analysis.png\" align=\"left\" hspace=\"25px\" vspace=\"1px\" width=\"80\" height=\"80\" ></p>\n",
    "\n",
    "<ul style=\"list-style-type:none;\">\n",
    "  <li style=\"font-weight: bold;font-family:Trebuchet MS;font-size:25px;font-style: italic;color:darkblue\">Analysis by Marital Status and Education</li>\n",
    "</ul>"
   ]
  },
  {
   "cell_type": "code",
   "execution_count": null,
   "metadata": {
    "execution": {
     "iopub.execute_input": "2023-09-10T20:04:35.117278Z",
     "iopub.status.busy": "2023-09-10T20:04:35.116377Z",
     "iopub.status.idle": "2023-09-10T20:04:35.252449Z",
     "shell.execute_reply": "2023-09-10T20:04:35.250923Z",
     "shell.execute_reply.started": "2023-09-10T20:04:35.117236Z"
    },
    "trusted": true
   },
   "outputs": [],
   "source": [
    "y = df['MSTATUS']\n",
    "x = df['EDUCATION']\n",
    "\n",
    "# Use the hovertext kw argument for hover text\n",
    "fig = go.Figure(data=[go.Histogram(x=x, y=y, histfunc='count')])\n",
    "# Customize aspect\n",
    "fig.update_traces(marker_line_color='#51087E', marker_color='#D7A1F9',\n",
    "                  marker_line_width=1.5, opacity=0.6)\n",
    "\n",
    "fig.update_layout({'plot_bgcolor': 'rgb(0, 0, 0, 0)', 'paper_bgcolor': 'rgb(0, 0, 0, 0)'},bargap=0.2, height=500, width=1200, title_text=\"MARITAL STATUS VS EDUCATION\", \n",
    "                  title_font = {\"size\": 22, \"color\": 'grey', 'family':'Arial Black'}, title={ 'x':0.5,'xanchor': 'center','yanchor': 'top'})\n",
    "fig.update_xaxes(title_text=\"EDUCATION\")\n",
    "fig.update_yaxes(title_text=\"NUMBER OF PEOPLE MARRIED\")\n",
    "fig.show()"
   ]
  },
  {
   "cell_type": "markdown",
   "metadata": {},
   "source": [
    "<p><img alt=\"Insight logo\" src=\"https://raw.githubusercontent.com/warazkhan/Data-Analysis-Project/main/Insights%20logo.png\" align=\"left\" hspace=\"0px\" vspace=\"10px\" width=\"180\" height=\"150\"></p>\n",
    "\n",
    "<ul style=\"list-style-type:none;\">\n",
    "  <li style=\"font-weight: bold;font-family:Trebuchet MS;font-size:30px;font-style: italic;color:  red\">Insights:</li>\n",
    "</ul>\n",
    "<div class=\"alert alert-success\" role=\"alert\">\n",
    "<ul style=\"list-style-type:none;font-family:Trebuchet MS;font-size:17px;color:black\">\n",
    "    <li>Based on the analysis of the car insurance dataset, the graphical representation highlights a significant trend, demonstrating that a higher percentage of insured married individuals hold a <span style=\"font-weight: bold; color:blue;\">high school</span> degree compared to those with a bachelor's degree, followed by individuals with a master's degree, and finally, individuals with a PhD.<br>\n",
    "    </li>\n",
    "    <br>\n",
    "</ul>\n",
    "</div>"
   ]
  },
  {
   "cell_type": "markdown",
   "metadata": {},
   "source": [
    "<p><img alt=\"Insight logo\" src=\"https://raw.githubusercontent.com/warazkhan/CarInssurance-DataAnalysis/main/analysis.png\" align=\"left\" hspace=\"25px\" vspace=\"1px\" width=\"80\" height=\"80\" ></p>\n",
    "\n",
    "<ul style=\"list-style-type:none;\">\n",
    "  <li style=\"font-weight: bold;font-family:Trebuchet MS;font-size:25px;font-style: italic;color:darkblue\">Analysis by Marital Status and Occupation</li>\n",
    "</ul>"
   ]
  },
  {
   "cell_type": "code",
   "execution_count": null,
   "metadata": {
    "execution": {
     "iopub.execute_input": "2023-09-10T20:04:35.254454Z",
     "iopub.status.busy": "2023-09-10T20:04:35.253967Z",
     "iopub.status.idle": "2023-09-10T20:04:35.388916Z",
     "shell.execute_reply": "2023-09-10T20:04:35.387695Z",
     "shell.execute_reply.started": "2023-09-10T20:04:35.25441Z"
    },
    "trusted": true
   },
   "outputs": [],
   "source": [
    "y = df['MSTATUS']\n",
    "x = df['OCCUPATION']\n",
    "\n",
    "# Use the hovertext kw argument for hover text\n",
    "fig = go.Figure(data=[go.Histogram(x=x, y=y, histfunc='count')])\n",
    "# Customize aspect\n",
    "fig.update_traces(marker_line_color='#1E4D3D', marker_color='#83CEB5',\n",
    "                  marker_line_width=1.5, opacity=0.6)\n",
    "\n",
    "fig.update_layout({'plot_bgcolor': 'rgb(0, 0, 0, 0)', 'paper_bgcolor': 'rgb(0, 0, 0, 0)'},bargap=0.2, height=500, width=1200, title_text=\"MARITAL STATUS VS OCCUPATION\", \n",
    "                  title_font = {\"size\": 22, \"color\": 'grey', 'family':'Arial Black'}, title={ 'x':0.5,'xanchor': 'center','yanchor': 'top'})\n",
    "fig.update_xaxes(title_text=\"OCCUPATION\")\n",
    "fig.update_yaxes(title_text=\"NUMBER OF PEOPLE MARRIED\")\n",
    "fig.show()"
   ]
  },
  {
   "cell_type": "markdown",
   "metadata": {},
   "source": [
    "<p><img alt=\"Insight logo\" src=\"https://raw.githubusercontent.com/warazkhan/Data-Analysis-Project/main/Insights%20logo.png\" align=\"left\" hspace=\"0px\" vspace=\"10px\" width=\"180\" height=\"150\"></p>\n",
    "\n",
    "<ul style=\"list-style-type:none;\">\n",
    "  <li style=\"font-weight: bold;font-family:Trebuchet MS;font-size:30px;font-style: italic;color:  red\">Insights:</li>\n",
    "</ul>\n",
    "<div class=\"alert alert-success\" role=\"alert\">\n",
    "<ul style=\"list-style-type:none;font-family:Trebuchet MS;font-size:17px;color:black\">\n",
    "    <li>Based on the analysis of the car insurance dataset, the graphical representation reveals a clear trend, indicating that a larger proportion of inssured married individuals are engaged in <span style=\"font-weight: bold; color:blue;\">blue-collar</span> occupations compared to those in clerical positions, followed by professionals, managers, lawyers, students, home makers and doctors.<br>\n",
    "    </li>\n",
    "    <br>\n",
    "</ul>\n",
    "</div>"
   ]
  },
  {
   "cell_type": "markdown",
   "metadata": {},
   "source": [
    "<p><img alt=\"Insight logo\" src=\"https://raw.githubusercontent.com/warazkhan/CarInssurance-DataAnalysis/main/analysis.png\" align=\"left\" hspace=\"25px\" vspace=\"1px\" width=\"80\" height=\"80\" ></p>\n",
    "\n",
    "<ul style=\"list-style-type:none;\">\n",
    "  <li style=\"font-weight: bold;font-family:Trebuchet MS;font-size:25px;font-style: italic;color:darkblue\">Analysis by different categorical columns</li>\n",
    "</ul>"
   ]
  },
  {
   "cell_type": "code",
   "execution_count": null,
   "metadata": {
    "execution": {
     "iopub.execute_input": "2023-09-10T20:04:35.390625Z",
     "iopub.status.busy": "2023-09-10T20:04:35.390273Z",
     "iopub.status.idle": "2023-09-10T20:04:35.572704Z",
     "shell.execute_reply": "2023-09-10T20:04:35.571489Z",
     "shell.execute_reply.started": "2023-09-10T20:04:35.39058Z"
    },
    "trusted": true
   },
   "outputs": [],
   "source": [
    "# Create subplots for pie charts\n",
    "df= GroupByMVRPTS\n",
    "fig = make_subplots(\n",
    "    rows=3, cols=3,\n",
    "    specs=[[{}, {},{}],\n",
    "           [{}, {},{}],\n",
    "          [{}, {},{}]]\n",
    ")\n",
    "\n",
    "# Plot the bars\n",
    "fig.add_trace(go.Histogram2d(x=df['EDUCATION'], y=df['OCCUPATION'], texttemplate= \"%{z}\", colorscale=[[0, 'rgb(12,51,131)'], [0.25, 'rgb(10,136,186)'], [0.5, 'rgb(242,211,56)'], [0.75, 'rgb(242,143,56)'], [1, 'rgb(217,30,30)']]), 1, 1)\n",
    "fig.add_trace(go.Histogram2d(x=df['PARENT1'], y=df['MSTATUS'], texttemplate= \"%{z}\", colorscale=[[0, 'rgb(12,51,131)'], [0.25, 'rgb(10,136,186)'], [0.5, 'rgb(242,211,56)'], [0.75, 'rgb(242,143,56)'], [1, 'rgb(217,30,30)']]), 1, 2)\n",
    "fig.add_trace(go.Histogram2d(x=df['CAR_USE'], y=df['OCCUPATION'], texttemplate= \"%{z}\", colorscale=[[0, 'rgb(12,51,131)'], [0.25, 'rgb(10,136,186)'], [0.5, 'rgb(242,211,56)'], [0.75, 'rgb(242,143,56)'], [1, 'rgb(217,30,30)']]), 1, 3)\n",
    "fig.add_trace(go.Histogram2d(x=df['CAR_TYPE'], y=df['CAR_USE'], texttemplate= \"%{z}\", colorscale=[[0, 'rgb(12,51,131)'], [0.25, 'rgb(10,136,186)'], [0.5, 'rgb(242,211,56)'], [0.75, 'rgb(242,143,56)'], [1, 'rgb(217,30,30)']]), 2, 1)\n",
    "fig.add_trace(go.Histogram2d(x=df['CAR_TYPE'], y=df['RED_CAR'], texttemplate= \"%{z}\", colorscale=[[0, 'rgb(12,51,131)'], [0.25, 'rgb(10,136,186)'], [0.5, 'rgb(242,211,56)'], [0.75, 'rgb(242,143,56)'], [1, 'rgb(217,30,30)']]), 2, 2)\n",
    "fig.add_trace(go.Histogram2d(x=df['REVOKED'], y=df['RED_CAR'], texttemplate= \"%{z}\", colorscale=[[0, 'rgb(12,51,131)'], [0.25, 'rgb(10,136,186)'], [0.5, 'rgb(242,211,56)'], [0.75, 'rgb(242,143,56)'], [1, 'rgb(217,30,30)']]), 2, 3)\n",
    "fig.add_trace(go.Histogram2d(x=df['REVOKED'], y=df['URBANICITY'], texttemplate= \"%{z}\", colorscale=[[0, 'rgb(12,51,131)'], [0.25, 'rgb(10,136,186)'], [0.5, 'rgb(242,211,56)'], [0.75, 'rgb(242,143,56)'], [1, 'rgb(217,30,30)']]), 3, 1)\n",
    "\n",
    "\n",
    "\n",
    "fig.update_layout({'plot_bgcolor': 'rgb(0, 0, 0, 0)', 'paper_bgcolor': 'rgb(0, 0, 0, 0)'}, bargap=0.03, height=800, width=2200, showlegend=False)\n",
    ", showscale=False\n",
    "# Update xaxis properties\n",
    "fig.update_xaxes(title_text=\"EDUCATION\", row=1, col=1)\n",
    "fig.update_xaxes(title_text=\"PARENT1\", row=1, col=2)\n",
    "fig.update_xaxes(title_text=\"CAR_USE\", row=1, col=3)\n",
    "fig.update_xaxes(title_text=\"CAR_TYPE\", row=2, col=1)\n",
    "fig.update_xaxes(title_text=\"CAR_TYPE\", row=2, col=2)\n",
    "fig.update_xaxes(title_text=\"REVOKED\",row=2, col=3)\n",
    "fig.update_xaxes(title_text=\"REVOKED\", row=3, col=1)\n",
    "fig.update_xaxes(title_text=\"TRAVTIME\", row=3, col=2)\n",
    "fig.update_xaxes(title_text=\"TIF\", row=3, col=3)\n",
    "\n",
    "# Update yaxis properties\n",
    "fig.update_yaxes(title_text=\"OCCUPATION\", row=1, col=1)\n",
    "fig.update_yaxes(title_text=\"MSTATUS\", row=1, col=2)\n",
    "fig.update_yaxes(title_text=\"OCCUPATION\", row=1, col=3)\n",
    "fig.update_yaxes(title_text=\"CAR_USE\", row=2, col=1)\n",
    "fig.update_yaxes(title_text=\"RED_CAR\", row=2, col=2)\n",
    "fig.update_yaxes(title_text=\"RED_CAR\", row=2, col=3)\n",
    "fig.update_yaxes(title_text=\"URBANICITY\", row=3, col=1)\n",
    "fig.update_yaxes(title_text=\"FREQUENCY\", row=3, col=2)\n",
    "fig.update_yaxes(title_text=\"FREQUENCY\", row=3, col=3)\n",
    "fig.update_traces(showscale=False)\n",
    "\n",
    "fig.show()"
   ]
  },
  {
   "cell_type": "markdown",
   "metadata": {},
   "source": [
    "<p><img alt=\"Insight logo\" src=\"https://raw.githubusercontent.com/warazkhan/CarInssurance-DataAnalysis/main/numericData.png\" align=\"left\" hspace=\"25px\" vspace=\"7px\" width=\"50\" height=\"60\" ></p>\n",
    "\n",
    "<ul style=\"list-style-type:none;\">\n",
    "  <li style=\"font-weight: bold;font-family:Trebuchet MS;font-size:25px;font-style: italic;color:green\">Numerical to Numerical</li>\n",
    "</ul>"
   ]
  },
  {
   "cell_type": "markdown",
   "metadata": {},
   "source": [
    "<p><img alt=\"Insight logo\" src=\"https://raw.githubusercontent.com/warazkhan/CarInssurance-DataAnalysis/main/analysis.png\" align=\"left\" hspace=\"25px\" vspace=\"1px\" width=\"80\" height=\"80\" ></p>\n",
    "\n",
    "<ul style=\"list-style-type:none;\">\n",
    "  <li style=\"font-weight: bold;font-family:Trebuchet MS;font-size:25px;font-style: italic;color:darkblue\">Analysis by Income, Previous Claims and Claim Frequency</li>\n",
    "</ul>"
   ]
  },
  {
   "cell_type": "code",
   "execution_count": null,
   "metadata": {
    "execution": {
     "iopub.execute_input": "2023-09-10T20:04:35.574562Z",
     "iopub.status.busy": "2023-09-10T20:04:35.574208Z",
     "iopub.status.idle": "2023-09-10T20:04:35.718216Z",
     "shell.execute_reply": "2023-09-10T20:04:35.717092Z",
     "shell.execute_reply.started": "2023-09-10T20:04:35.574532Z"
    },
    "trusted": true
   },
   "outputs": [],
   "source": [
    "fig = go.Figure()\n",
    "\n",
    "fig=px.histogram(x=df['INCOME($)'], y=df['OLDCLAIM($)'], color=df['CLM_FREQ'] )\n",
    "fig.update_layout(bargap=0.2, height=500, width=1200, title_text=\"(INCOME VS OLDCLAIM) VS CLM_FREQ\", \n",
    "                  title_font = {\"size\": 22, \"color\": 'grey', 'family':'Arial Black'}, title={ 'x':0.5,'xanchor': 'center','yanchor': 'top'})\n",
    "\n",
    "fig.update_xaxes(title_text=\"INCOME($)\")\n",
    "fig.update_yaxes(title_text=\"sum of OLDCLAIM($)\")\n",
    "fig.show()"
   ]
  },
  {
   "cell_type": "markdown",
   "metadata": {},
   "source": [
    "<p><img alt=\"Insight logo\" src=\"https://raw.githubusercontent.com/warazkhan/Data-Analysis-Project/main/Insights%20logo.png\" align=\"left\" hspace=\"0px\" vspace=\"10px\" width=\"180\" height=\"150\"></p>\n",
    "\n",
    "<ul style=\"list-style-type:none;\">\n",
    "  <li style=\"font-weight: bold;font-family:Trebuchet MS;font-size:30px;font-style: italic;color:  red\">Insights:</li>\n",
    "</ul>\n",
    "<div class=\"alert alert-success\" role=\"alert\">\n",
    "<ul style=\"list-style-type:none;font-family:Trebuchet MS;font-size:17px;color:black\">\n",
    "    <li>Based on the analysis of the car insurance dataset, the graph representing the relationship between income and oldclaim demonstrates that individuals with income ranging between <span style=\"font-weight: bold; color:blue;\">20K-40K</span> tend to have a higher total amount claimed in the past. Interestingly, higher-income individuals tend to claim less. Additionally, when comparing claim frequency, it is observed that a significant portion of individuals who claimed once also fall within the income range of <span style=\"font-weight: bold; color:blue;\">20K-40K</span>.<br>\n",
    "    </li>\n",
    "    <br>\n",
    "</ul>\n",
    "</div>"
   ]
  },
  {
   "cell_type": "markdown",
   "metadata": {},
   "source": [
    "<p><img alt=\"Insight logo\" src=\"https://raw.githubusercontent.com/warazkhan/CarInssurance-DataAnalysis/main/analysis.png\" align=\"left\" hspace=\"25px\" vspace=\"1px\" width=\"80\" height=\"80\" ></p>\n",
    "\n",
    "<ul style=\"list-style-type:none;\">\n",
    "  <li style=\"font-weight: bold;font-family:Trebuchet MS;font-size:25px;font-style: italic;color:darkblue\">Analysis by Income and Age</li>\n",
    "</ul>"
   ]
  },
  {
   "cell_type": "code",
   "execution_count": null,
   "metadata": {
    "execution": {
     "iopub.execute_input": "2023-09-10T20:04:35.7211Z",
     "iopub.status.busy": "2023-09-10T20:04:35.71975Z",
     "iopub.status.idle": "2023-09-10T20:04:35.843432Z",
     "shell.execute_reply": "2023-09-10T20:04:35.842161Z",
     "shell.execute_reply.started": "2023-09-10T20:04:35.721061Z"
    },
    "trusted": true
   },
   "outputs": [],
   "source": [
    "fig = go.Figure()\n",
    "\n",
    "# Add traces\n",
    "fig = px.histogram(x=df['INCOME($)'], y=df['AGE'] ,histfunc='avg')\n",
    "fig.update_layout(bargap=0.03, height=500, width=1200, showlegend=True, title_text=\"(INCOME VS AGE\", title_font = {\"size\": 22, \"color\": 'grey', 'family':'Arial Black'}, title={ 'x':0.5,'xanchor': 'center','yanchor': 'top'})\n",
    "fig.update_xaxes(title_text=\"INCOME($)\")\n",
    "fig.update_yaxes(title_text=\"AGE\")\n",
    "\n",
    "fig.show()"
   ]
  },
  {
   "cell_type": "markdown",
   "metadata": {},
   "source": [
    "<p><img alt=\"Insight logo\" src=\"https://raw.githubusercontent.com/warazkhan/Data-Analysis-Project/main/Insights%20logo.png\" align=\"left\" hspace=\"0px\" vspace=\"10px\" width=\"180\" height=\"150\"></p>\n",
    "\n",
    "<ul style=\"list-style-type:none;\">\n",
    "  <li style=\"font-weight: bold;font-family:Trebuchet MS;font-size:30px;font-style: italic;color:  red\">Insights:</li>\n",
    "</ul>\n",
    "<div class=\"alert alert-success\" role=\"alert\">\n",
    "<ul style=\"list-style-type:none;font-family:Trebuchet MS;font-size:17px;color:black\">\n",
    "    <li>Based on the analysis of the car insurance dataset, the graph depicting the relationship between income and age reveals that individuals with the highest income tend to be around the average age of <span style=\"font-weight: bold; color:blue;\">35</span>. On the other hand, individuals with lower income levels are more commonly observed among the age group of <span style=\"font-weight: bold; color:blue;\">40</span> years and above.<br>\n",
    "    </li>\n",
    "    <br>\n",
    "</ul>\n",
    "</div>"
   ]
  },
  {
   "cell_type": "markdown",
   "metadata": {},
   "source": [
    "<p><img alt=\"Insight logo\" src=\"https://raw.githubusercontent.com/warazkhan/CarInssurance-DataAnalysis/main/numericCategoric.png\" align=\"left\" hspace=\"25px\" vspace=\"5px\" width=\"60\" height=\"80\" ></p>\n",
    "\n",
    "<ul style=\"list-style-type:none;\">\n",
    "  <li style=\"font-weight: bold;font-family:Trebuchet MS;font-size:25px;font-style: italic;color:green\">Categorical to Numerical</li>\n",
    "</ul>"
   ]
  },
  {
   "cell_type": "markdown",
   "metadata": {},
   "source": [
    "<p><img alt=\"Insight logo\" src=\"https://raw.githubusercontent.com/warazkhan/CarInssurance-DataAnalysis/main/analysis.png\" align=\"left\" hspace=\"25px\" vspace=\"1px\" width=\"80\" height=\"80\" ></p>\n",
    "\n",
    "<ul style=\"list-style-type:none;\">\n",
    "  <li style=\"font-weight: bold;font-family:Trebuchet MS;font-size:25px;font-style: italic;color:darkblue\">Analysis Education, Previous Claim Amount and Future Claim Amount</li>\n",
    "</ul>"
   ]
  },
  {
   "cell_type": "code",
   "execution_count": null,
   "metadata": {
    "execution": {
     "iopub.execute_input": "2023-09-10T20:04:35.845397Z",
     "iopub.status.busy": "2023-09-10T20:04:35.84494Z",
     "iopub.status.idle": "2023-09-10T20:04:35.982989Z",
     "shell.execute_reply": "2023-09-10T20:04:35.981498Z",
     "shell.execute_reply.started": "2023-09-10T20:04:35.845352Z"
    },
    "trusted": true
   },
   "outputs": [],
   "source": [
    "df = CarInssuranceDataframeImputedValues\n",
    "fig = go.Figure()\n",
    "\n",
    "fig.add_trace(go.Violin(x=df['EDUCATION'],\n",
    "                        y=df['OLDCLAIM($)'],\n",
    "                        legendgroup='OLDCLAIM', scalegroup='OLDCLAIM', name='OLDCLAIM',\n",
    "                        side='negative',\n",
    "                        line_color='blue')\n",
    "             )\n",
    "fig.add_trace(go.Violin(x=df['EDUCATION'],\n",
    "                        y=df['CLM_AMT($)'],\n",
    "                        legendgroup='CLM_AMT', scalegroup='CLM_AMT', name='CLM_AMT',\n",
    "                        side='positive',\n",
    "                        line_color='orange')\n",
    "             )\n",
    "fig.update_traces(meanline_visible=True)\n",
    "fig.update_layout(violingap=0, violinmode='overlay')\n",
    "fig.update_xaxes(title_text=\"EDUCATION\")\n",
    "fig.update_layout(bargap=0.03, height=500, width=1200, showlegend=True, title_text=\"EDUCATION (OLDCLAIM VS CLM_AMT)\", title_font = {\"size\": 22, \"color\": 'grey', 'family':'Arial Black'}, title={ 'x':0.5,'xanchor': 'center','yanchor': 'top'})\n",
    "\n",
    "fig.show()"
   ]
  },
  {
   "cell_type": "markdown",
   "metadata": {},
   "source": [
    "<p><img alt=\"Insight logo\" src=\"https://raw.githubusercontent.com/warazkhan/Data-Analysis-Project/main/Insights%20logo.png\" align=\"left\" hspace=\"0px\" vspace=\"10px\" width=\"180\" height=\"150\"></p>\n",
    "\n",
    "<ul style=\"list-style-type:none;\">\n",
    "  <li style=\"font-weight: bold;font-family:Trebuchet MS;font-size:30px;font-style: italic;color:  red\">Insights:</li>\n",
    "</ul>\n",
    "<div class=\"alert alert-success\" role=\"alert\">\n",
    "<ul style=\"list-style-type:none;font-family:Trebuchet MS;font-size:17px;color:black\">\n",
    "    <li>Based on the analysis of the car insurance dataset, the graph illustrating the relationship between education, old claims, and future claims indicates that individuals with a <span style=\"font-weight: bold; color:blue;\">PhD</span> degree tend to have higher claim amounts compared to individuals with other educational backgrounds. Furthermore, the graph suggests that individuals with a <span style=\"font-weight: bold; color:blue;\">high school</span> diploma and <span style=\"font-weight: bold; color:blue;\">bachelor's</span> degree are more likely to make future claims.<br>\n",
    "    </li>\n",
    "    <br>\n",
    "</ul>\n",
    "</div>"
   ]
  },
  {
   "cell_type": "markdown",
   "metadata": {},
   "source": [
    "<p><img alt=\"Insight logo\" src=\"https://raw.githubusercontent.com/warazkhan/CarInssurance-DataAnalysis/main/analysis.png\" align=\"left\" hspace=\"25px\" vspace=\"1px\" width=\"80\" height=\"80\" ></p>\n",
    "\n",
    "<ul style=\"list-style-type:none;\">\n",
    "  <li style=\"font-weight: bold;font-family:Trebuchet MS;font-size:25px;font-style: italic;color:darkblue\">Analysis by Occupation and Income</li>\n",
    "</ul>"
   ]
  },
  {
   "cell_type": "code",
   "execution_count": null,
   "metadata": {
    "execution": {
     "iopub.execute_input": "2023-09-10T20:04:35.985073Z",
     "iopub.status.busy": "2023-09-10T20:04:35.984641Z",
     "iopub.status.idle": "2023-09-10T20:04:37.430877Z",
     "shell.execute_reply": "2023-09-10T20:04:37.429636Z",
     "shell.execute_reply.started": "2023-09-10T20:04:35.985039Z"
    },
    "trusted": true
   },
   "outputs": [],
   "source": [
    "fig= px.violin(df, y=df['INCOME($)'], x=df[\"OCCUPATION\"], color=df[\"OCCUPATION\"],\n",
    "                violinmode='overlay',\n",
    "                box=True, hover_data=df.columns)\n",
    "fig.update_layout(bargap=0.03, height=500, width=1200, showlegend=True, title_text=\"OCCUPATION VS INCOME\", title_font = {\"size\": 22, \"color\": 'grey', 'family':'Arial Black'}, title={ 'x':0.5,'xanchor': 'center','yanchor': 'top'})\n",
    "\n",
    "fig.show()"
   ]
  },
  {
   "cell_type": "markdown",
   "metadata": {},
   "source": [
    "<p><img alt=\"Insight logo\" src=\"https://raw.githubusercontent.com/warazkhan/Data-Analysis-Project/main/Insights%20logo.png\" align=\"left\" hspace=\"0px\" vspace=\"10px\" width=\"180\" height=\"150\"></p>\n",
    "\n",
    "<ul style=\"list-style-type:none;\">\n",
    "  <li style=\"font-weight: bold;font-family:Trebuchet MS;font-size:30px;font-style: italic;color:  red\">Insights:</li>\n",
    "</ul>\n",
    "<div class=\"alert alert-success\" role=\"alert\">\n",
    "<ul style=\"list-style-type:none;font-family:Trebuchet MS;font-size:17px;color:black\">\n",
    "    <li>Based on the analysis of the car insurance dataset, the graph depicting the relationship between income and occupation shows that individuals that are <span style=\"font-weight: bold; color:blue;\">doctors</span>, tend to have higher incomes compared to individuals in other occupations.<br>\n",
    "    </li>\n",
    "    <br>\n",
    "</ul>\n",
    "</div>"
   ]
  },
  {
   "cell_type": "markdown",
   "metadata": {},
   "source": [
    "<p><img alt=\"Insight logo\" src=\"https://raw.githubusercontent.com/warazkhan/CarInssurance-DataAnalysis/main/analysis.png\" align=\"left\" hspace=\"25px\" vspace=\"1px\" width=\"80\" height=\"80\" ></p>\n",
    "\n",
    "<ul style=\"list-style-type:none;\">\n",
    "  <li style=\"font-weight: bold;font-family:Trebuchet MS;font-size:25px;font-style: italic;color:darkblue\">Analysis by Education and Income</li>\n",
    "</ul>"
   ]
  },
  {
   "cell_type": "code",
   "execution_count": null,
   "metadata": {
    "execution": {
     "iopub.execute_input": "2023-09-10T20:04:37.432544Z",
     "iopub.status.busy": "2023-09-10T20:04:37.432189Z",
     "iopub.status.idle": "2023-09-10T20:04:39.121867Z",
     "shell.execute_reply": "2023-09-10T20:04:39.120678Z",
     "shell.execute_reply.started": "2023-09-10T20:04:37.432509Z"
    },
    "trusted": true
   },
   "outputs": [],
   "source": [
    "fig= px.violin(df, y=df['INCOME($)'], x=df[\"EDUCATION\"], color=df[\"EDUCATION\"],\n",
    "                violinmode='overlay',\n",
    "                box=True, hover_data=df.columns)\n",
    "fig.update_layout(bargap=0.03, height=500, width=1200, showlegend=True, title_text=\"EDUCATION VS INCOME\", title_font = {\"size\": 22, \"color\": 'grey', 'family':'Arial Black'}, title={ 'x':0.5,'xanchor': 'center','yanchor': 'top'})\n",
    "\n",
    "fig.show()"
   ]
  },
  {
   "cell_type": "markdown",
   "metadata": {},
   "source": [
    "<p><img alt=\"Insight logo\" src=\"https://raw.githubusercontent.com/warazkhan/Data-Analysis-Project/main/Insights%20logo.png\" align=\"left\" hspace=\"0px\" vspace=\"10px\" width=\"180\" height=\"150\"></p>\n",
    "\n",
    "<ul style=\"list-style-type:none;\">\n",
    "  <li style=\"font-weight: bold;font-family:Trebuchet MS;font-size:30px;font-style: italic;color:  red\">Insights:</li>\n",
    "</ul>\n",
    "<div class=\"alert alert-success\" role=\"alert\">\n",
    "<ul style=\"list-style-type:none;font-family:Trebuchet MS;font-size:17px;color:black\">\n",
    "    <li>Based on the analysis of the car insurance dataset, the graph illustrating the relationship between income and education level reveals that individuals with a <span style=\"font-weight: bold; color:blue;\">bachelor</span>'s degree tend to have higher incomes compared to individuals with other education levels.<br>\n",
    "    </li>\n",
    "    <br>\n",
    "</ul>\n",
    "</div>"
   ]
  },
  {
   "cell_type": "markdown",
   "metadata": {},
   "source": [
    "<p><img alt=\"Insight logo\" src=\"https://raw.githubusercontent.com/warazkhan/CarInssurance-DataAnalysis/main/analysis.png\" align=\"left\" hspace=\"25px\" vspace=\"1px\" width=\"80\" height=\"80\" ></p>\n",
    "\n",
    "<ul style=\"list-style-type:none;\">\n",
    "  <li style=\"font-weight: bold;font-family:Trebuchet MS;font-size:25px;font-style: italic;color:darkblue\">Analysis by Education and Age</li>\n",
    "</ul>"
   ]
  },
  {
   "cell_type": "code",
   "execution_count": null,
   "metadata": {
    "execution": {
     "iopub.execute_input": "2023-09-10T20:04:39.124247Z",
     "iopub.status.busy": "2023-09-10T20:04:39.123285Z",
     "iopub.status.idle": "2023-09-10T20:04:40.48796Z",
     "shell.execute_reply": "2023-09-10T20:04:40.486937Z",
     "shell.execute_reply.started": "2023-09-10T20:04:39.124204Z"
    },
    "trusted": true
   },
   "outputs": [],
   "source": [
    "fig= px.violin(df, y=df['AGE'], x=df['EDUCATION'], color=df['EDUCATION'],\n",
    "                violinmode='overlay',\n",
    "                box=True, points=\"all\", hover_data=df.columns)\n",
    "fig.update_layout(bargap=0.03, height=500, width=1200, showlegend=True, title_text=\"EDUCATION VS AGE\", title_font = {\"size\": 22, \"color\": 'grey', 'family':'Arial Black'}, title={ 'x':0.5,'xanchor': 'center','yanchor': 'top'})\n",
    "\n",
    "fig.show()"
   ]
  },
  {
   "cell_type": "markdown",
   "metadata": {},
   "source": [
    "<p><img alt=\"Insight logo\" src=\"https://raw.githubusercontent.com/warazkhan/Data-Analysis-Project/main/Insights%20logo.png\" align=\"left\" hspace=\"0px\" vspace=\"10px\" width=\"180\" height=\"150\"></p>\n",
    "\n",
    "<ul style=\"list-style-type:none;\">\n",
    "  <li style=\"font-weight: bold;font-family:Trebuchet MS;font-size:30px;font-style: italic;color:  red\">Insights:</li>\n",
    "</ul>\n",
    "<div class=\"alert alert-success\" role=\"alert\">\n",
    "<ul style=\"list-style-type:none;font-family:Trebuchet MS;font-size:17px;color:black\">\n",
    "    <li>Based on the analysis of the car insurance dataset, the graph depicting the relationship between age and education reveals that individuals above the age of <span style=\"font-weight: bold; color:blue;\">70</span> tend to have a higher percentage of individuals with a bachelor's degree compared to other education levels.<br>\n",
    "    </li>\n",
    "    <br>\n",
    "</ul>\n",
    "</div>"
   ]
  },
  {
   "cell_type": "markdown",
   "metadata": {},
   "source": [
    "<p><img alt=\"Insight logo\" src=\"https://raw.githubusercontent.com/warazkhan/CarInssurance-DataAnalysis/main/analysis.png\" align=\"left\" hspace=\"25px\" vspace=\"1px\" width=\"80\" height=\"80\" ></p>\n",
    "\n",
    "<ul style=\"list-style-type:none;\">\n",
    "  <li style=\"font-weight: bold;font-family:Trebuchet MS;font-size:25px;font-style: italic;color:darkblue\">Analysis by Occupation and Age</li>\n",
    "</ul>"
   ]
  },
  {
   "cell_type": "code",
   "execution_count": null,
   "metadata": {
    "execution": {
     "iopub.execute_input": "2023-09-10T20:04:40.489943Z",
     "iopub.status.busy": "2023-09-10T20:04:40.489466Z",
     "iopub.status.idle": "2023-09-10T20:04:41.873778Z",
     "shell.execute_reply": "2023-09-10T20:04:41.87257Z",
     "shell.execute_reply.started": "2023-09-10T20:04:40.489912Z"
    },
    "trusted": true
   },
   "outputs": [],
   "source": [
    "fig= px.violin(df, y=df['AGE'], x=df['OCCUPATION'], color=df['OCCUPATION'],\n",
    "                violinmode='overlay',\n",
    "                box=True, points=\"all\", hover_data=df.columns)\n",
    "fig.update_layout(bargap=0.03, height=500, width=1200, showlegend=True, title_text=\"OCCUPATION VS AGE\", title_font = {\"size\": 22, \"color\": 'grey', 'family':'Arial Black'}, title={ 'x':0.5,'xanchor': 'center','yanchor': 'top'})\n",
    "\n",
    "fig.show()"
   ]
  },
  {
   "cell_type": "markdown",
   "metadata": {},
   "source": [
    "<p><img alt=\"Insight logo\" src=\"https://raw.githubusercontent.com/warazkhan/Data-Analysis-Project/main/Insights%20logo.png\" align=\"left\" hspace=\"0px\" vspace=\"10px\" width=\"180\" height=\"150\"></p>\n",
    "\n",
    "<ul style=\"list-style-type:none;\">\n",
    "  <li style=\"font-weight: bold;font-family:Trebuchet MS;font-size:30px;font-style: italic;color:  red\">Insights:</li>\n",
    "</ul>\n",
    "<div class=\"alert alert-success\" role=\"alert\">\n",
    "<ul style=\"list-style-type:none;font-family:Trebuchet MS;font-size:17px;color:black\">\n",
    "    <li>Based on the analysis of the car insurance dataset, the graph illustrating the relationship between age and education reveals that individuals above the age of <span style=\"font-weight: bold; color:blue;\">73</span> are predominantly professionals.<br>\n",
    "    </li>\n",
    "    <br>\n",
    "</ul>\n",
    "</div>"
   ]
  },
  {
   "cell_type": "markdown",
   "metadata": {},
   "source": [
    "<p><img alt=\"Insight logo\" src=\"https://raw.githubusercontent.com/warazkhan/Data-Analysis-Project/main/allinsight-logo.png\" align=\"left\" hspace=\"0px\" vspace=\"30px\" width=\"120\" height=\"80\"></p>\n",
    "<br>\n",
    "<ul style=\"list-style-type:none;\">\n",
    "  <li style=\"font-weight: bold;font-family:Trebuchet MS;font-size:30px;font-style: italic;color:  red\">&emsp;In a null shell:</li>\n",
    "</ul>\n",
    "\n",
    "<div class=\"alert alert-info\" role=\"alert\">\n",
    "<ul style=\"list-style-type:none;font-family:Trebuchet MS;font-size:17px;color:black\"> \n",
    "    <li>Bivariate and multivariate analysis examines the relationships between variables. By considering two or more variables simultaneously, this analysis provides insights into how they interact and influence each other, contributing to a deeper understanding of the data.</li><br>\n",
    "    <li><span style=\"font-weight: bold; color:green;\">1.</span> Categorical to categorical analysis reveals trends such as higher proportions of females with revoked licenses and married individuals with a high school degree.</li>\n",
    "    <br>\n",
    "    <li><span style=\"font-weight: bold; color:green;\">2.</span> Numerical to numerical analysis shows income affecting claim amounts and frequencies.</li>\n",
    "    <br>\n",
    "    <li><span style=\"font-weight: bold; color:green;\">3.</span> Categorical to numerical analysis reveals higher claim amounts for PhD holders and higher incomes for doctors. Additionally, individuals above 73 years old predominantly belong to professional occupations.</li>\n",
    "    <br>\n",
    "    <li>In a nut shell, this project involves exploring and pre-processing the auto insurance dataset. It includes frequency plots, discrete statics, central tendency measures, variability measures, outlier treatment, handling missing values, correlation analysis, normalisation, scaling, grouping, uivariate, bivariate and multivariate analysis. These steps aid in understanding the dataset, identifying patterns, and preparing data for further analysis and modelling.</li><br>\n",
    "</ul>\n",
    "</div>"
   ]
  },
  {
   "cell_type": "markdown",
   "metadata": {},
   "source": [
    "<p><img alt=\"Insight logo\" src=\"https://raw.githubusercontent.com/warazkhan/Data-Analysis-Project/main/refrences-logo.png\" align=\"left\" hspace=\"0px\" vspace=\"7px\" width=\"120\" height=\"80\"></p>\n",
    "<ul style=\"list-style-type:none;\">\n",
    "  <li style=\"font-weight: bold;font-family:Trebuchet MS;font-size:30px;font-style: italic;color:  red\">&emsp;Refrences:</li>\n",
    "</ul>      \n",
    "\n",
    "<div class=\"alert alert-warning\" role=\"alert\">\n",
    "<ul style=\"list-style-type:none;font-family:Trebuchet MS;font-size:17px;color:black\"> \n",
    "    <li>1. <span style=\"font-weight: bold; color:#122ecc;\"> https://matplotlib.org/</li>     \n",
    "    <br>          \n",
    "    <li>2. <span style=\"font-weight: bold; color:#122ecc;\"> https://seaborn.pydata.org/</li>     \n",
    "    <br>\n",
    "    <li>3. <span style=\"font-weight: bold; color:#122ecc;\">https://plotly.com/</li>     \n",
    "    <br> \n",
    "    <li>4. <span style=\"font-weight: bold; color:#122ecc;\">https://www.pngegg.com/</li>  \n",
    "    <br> \n",
    "    <li>5. <span style=\"font-weight: bold; color:#122ecc;\">https://www.wikipedia.de/</li> \n",
    "    <br>   \n",
    "    <li>6. <span style=\"font-weight: bold; color:#122ecc;\">https://www.canva.com/</li> \n",
    "    <br>   \n",
    "    <li>7. <span style=\"font-weight: bold; color:#122ecc;\">https://stackoverflow.com/</li>\n",
    "    <br>   \n",
    "    <li>7. <span style=\"font-weight: bold; color:#122ecc;\">https://medium.com/</li>\n",
    "    <br>\n",
    "</ul>\n",
    "</div>"
   ]
  },
  {
   "cell_type": "markdown",
   "metadata": {},
   "source": [
    " <center><img alt=\"Insight logo\" src=\"https://raw.githubusercontent.com/warazkhan/CarInssurance-DataAnalysis/main/Thankyou.gif\" class=\"center\" hspace=\"0px\" vspace=\"0px\" width=400 height=0></center>"
   ]
  }
 ],
 "metadata": {
  "kaggle": {
   "accelerator": "none",
   "dataSources": [
    {
     "datasetId": 64550,
     "sourceId": 126911,
     "sourceType": "datasetVersion"
    }
   ],
   "dockerImageVersionId": 30558,
   "isGpuEnabled": false,
   "isInternetEnabled": false,
   "language": "python",
   "sourceType": "notebook"
  },
  "kernelspec": {
   "display_name": "Python 3",
   "language": "python",
   "name": "python3"
  },
  "language_info": {
   "codemirror_mode": {
    "name": "ipython",
    "version": 3
   },
   "file_extension": ".py",
   "mimetype": "text/x-python",
   "name": "python",
   "nbconvert_exporter": "python",
   "pygments_lexer": "ipython3",
   "version": "3.10.12"
  }
 },
 "nbformat": 4,
 "nbformat_minor": 4
}
