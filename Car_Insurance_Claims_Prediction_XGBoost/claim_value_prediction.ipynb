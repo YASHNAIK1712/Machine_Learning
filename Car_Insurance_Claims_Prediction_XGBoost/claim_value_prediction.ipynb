{
 "cells": [
  {
   "cell_type": "code",
   "execution_count": 2,
   "metadata": {},
   "outputs": [],
   "source": [
    "import pandas as pd\n",
    "import numpy as np\n",
    "import seaborn as sns\n",
    "import matplotlib.pyplot as plt\n",
    "\n",
    "from sklearn.pipeline import Pipeline\n",
    "from sklearn.preprocessing import OneHotEncoder, OrdinalEncoder, StandardScaler\n",
    "from sklearn.impute import SimpleImputer, KNNImputer\n",
    "from sklearn.base import BaseEstimator, TransformerMixin\n",
    "from sklearn.compose import ColumnTransformer\n",
    "from sklearn.neural_network import MLPClassifier, MLPRegressor\n",
    "from sklearn.model_selection import train_test_split, cross_val_score, RandomizedSearchCV, GridSearchCV, KFold\n",
    "from sklearn.linear_model import LogisticRegression, LinearRegression, SGDRegressor\n",
    "from sklearn.discriminant_analysis import QuadraticDiscriminantAnalysis\n",
    "from sklearn.ensemble import RandomForestClassifier, AdaBoostClassifier, GradientBoostingClassifier, BaggingClassifier, RandomForestRegressor\n",
    "from sklearn.neighbors import KNeighborsClassifier, KNeighborsRegressor\n",
    "from sklearn.svm import SVC, LinearSVC, SVR\n",
    "from sklearn.naive_bayes import GaussianNB\n",
    "from sklearn.tree import DecisionTreeClassifier, DecisionTreeRegressor\n",
    "from sklearn.metrics import ConfusionMatrixDisplay, f1_score, make_scorer, confusion_matrix, mean_squared_error, mean_absolute_error\n",
    "\n",
    "from statsmodels.stats.outliers_influence import variance_inflation_factor\n",
    "from statsmodels.tools.tools import add_constant\n",
    "\n",
    "from xgboost import XGBClassifier, XGBRegressor\n",
    "from catboost import CatBoostClassifier\n",
    "\n",
    "from scipy.stats import randint, uniform"
   ]
  },
  {
   "cell_type": "code",
   "execution_count": 3,
   "metadata": {},
   "outputs": [],
   "source": [
    "raw_data = pd.read_csv(\"/Users/macbookair/Downloads/car_insurance_claim.csv\")"
   ]
  },
  {
   "cell_type": "code",
   "execution_count": 4,
   "metadata": {},
   "outputs": [
    {
     "data": {
      "text/html": [
       "<div>\n",
       "<style scoped>\n",
       "    .dataframe tbody tr th:only-of-type {\n",
       "        vertical-align: middle;\n",
       "    }\n",
       "\n",
       "    .dataframe tbody tr th {\n",
       "        vertical-align: top;\n",
       "    }\n",
       "\n",
       "    .dataframe thead th {\n",
       "        text-align: right;\n",
       "    }\n",
       "</style>\n",
       "<table border=\"1\" class=\"dataframe\">\n",
       "  <thead>\n",
       "    <tr style=\"text-align: right;\">\n",
       "      <th></th>\n",
       "      <th>ID</th>\n",
       "      <th>KIDSDRIV</th>\n",
       "      <th>BIRTH</th>\n",
       "      <th>AGE</th>\n",
       "      <th>HOMEKIDS</th>\n",
       "      <th>YOJ</th>\n",
       "      <th>INCOME</th>\n",
       "      <th>PARENT1</th>\n",
       "      <th>HOME_VAL</th>\n",
       "      <th>MSTATUS</th>\n",
       "      <th>GENDER</th>\n",
       "      <th>EDUCATION</th>\n",
       "      <th>OCCUPATION</th>\n",
       "      <th>TRAVTIME</th>\n",
       "      <th>CAR_USE</th>\n",
       "      <th>BLUEBOOK</th>\n",
       "      <th>TIF</th>\n",
       "      <th>CAR_TYPE</th>\n",
       "      <th>RED_CAR</th>\n",
       "      <th>OLDCLAIM</th>\n",
       "      <th>CLM_FREQ</th>\n",
       "      <th>REVOKED</th>\n",
       "      <th>MVR_PTS</th>\n",
       "      <th>CLM_AMT</th>\n",
       "      <th>CAR_AGE</th>\n",
       "      <th>CLAIM_FLAG</th>\n",
       "      <th>URBANICITY</th>\n",
       "    </tr>\n",
       "  </thead>\n",
       "  <tbody>\n",
       "    <tr>\n",
       "      <th>0</th>\n",
       "      <td>63581743</td>\n",
       "      <td>0</td>\n",
       "      <td>16MAR39</td>\n",
       "      <td>60.0</td>\n",
       "      <td>0</td>\n",
       "      <td>11.0</td>\n",
       "      <td>$67,349</td>\n",
       "      <td>No</td>\n",
       "      <td>$0</td>\n",
       "      <td>z_No</td>\n",
       "      <td>M</td>\n",
       "      <td>PhD</td>\n",
       "      <td>Professional</td>\n",
       "      <td>14</td>\n",
       "      <td>Private</td>\n",
       "      <td>$14,230</td>\n",
       "      <td>11</td>\n",
       "      <td>Minivan</td>\n",
       "      <td>yes</td>\n",
       "      <td>$4,461</td>\n",
       "      <td>2</td>\n",
       "      <td>No</td>\n",
       "      <td>3</td>\n",
       "      <td>$0</td>\n",
       "      <td>18.0</td>\n",
       "      <td>0</td>\n",
       "      <td>Highly Urban/ Urban</td>\n",
       "    </tr>\n",
       "    <tr>\n",
       "      <th>1</th>\n",
       "      <td>132761049</td>\n",
       "      <td>0</td>\n",
       "      <td>21JAN56</td>\n",
       "      <td>43.0</td>\n",
       "      <td>0</td>\n",
       "      <td>11.0</td>\n",
       "      <td>$91,449</td>\n",
       "      <td>No</td>\n",
       "      <td>$257,252</td>\n",
       "      <td>z_No</td>\n",
       "      <td>M</td>\n",
       "      <td>z_High School</td>\n",
       "      <td>z_Blue Collar</td>\n",
       "      <td>22</td>\n",
       "      <td>Commercial</td>\n",
       "      <td>$14,940</td>\n",
       "      <td>1</td>\n",
       "      <td>Minivan</td>\n",
       "      <td>yes</td>\n",
       "      <td>$0</td>\n",
       "      <td>0</td>\n",
       "      <td>No</td>\n",
       "      <td>0</td>\n",
       "      <td>$0</td>\n",
       "      <td>1.0</td>\n",
       "      <td>0</td>\n",
       "      <td>Highly Urban/ Urban</td>\n",
       "    </tr>\n",
       "    <tr>\n",
       "      <th>2</th>\n",
       "      <td>921317019</td>\n",
       "      <td>0</td>\n",
       "      <td>18NOV51</td>\n",
       "      <td>48.0</td>\n",
       "      <td>0</td>\n",
       "      <td>11.0</td>\n",
       "      <td>$52,881</td>\n",
       "      <td>No</td>\n",
       "      <td>$0</td>\n",
       "      <td>z_No</td>\n",
       "      <td>M</td>\n",
       "      <td>Bachelors</td>\n",
       "      <td>Manager</td>\n",
       "      <td>26</td>\n",
       "      <td>Private</td>\n",
       "      <td>$21,970</td>\n",
       "      <td>1</td>\n",
       "      <td>Van</td>\n",
       "      <td>yes</td>\n",
       "      <td>$0</td>\n",
       "      <td>0</td>\n",
       "      <td>No</td>\n",
       "      <td>2</td>\n",
       "      <td>$0</td>\n",
       "      <td>10.0</td>\n",
       "      <td>0</td>\n",
       "      <td>Highly Urban/ Urban</td>\n",
       "    </tr>\n",
       "    <tr>\n",
       "      <th>3</th>\n",
       "      <td>727598473</td>\n",
       "      <td>0</td>\n",
       "      <td>05MAR64</td>\n",
       "      <td>35.0</td>\n",
       "      <td>1</td>\n",
       "      <td>10.0</td>\n",
       "      <td>$16,039</td>\n",
       "      <td>No</td>\n",
       "      <td>$124,191</td>\n",
       "      <td>Yes</td>\n",
       "      <td>z_F</td>\n",
       "      <td>z_High School</td>\n",
       "      <td>Clerical</td>\n",
       "      <td>5</td>\n",
       "      <td>Private</td>\n",
       "      <td>$4,010</td>\n",
       "      <td>4</td>\n",
       "      <td>z_SUV</td>\n",
       "      <td>no</td>\n",
       "      <td>$38,690</td>\n",
       "      <td>2</td>\n",
       "      <td>No</td>\n",
       "      <td>3</td>\n",
       "      <td>$0</td>\n",
       "      <td>10.0</td>\n",
       "      <td>0</td>\n",
       "      <td>Highly Urban/ Urban</td>\n",
       "    </tr>\n",
       "    <tr>\n",
       "      <th>4</th>\n",
       "      <td>450221861</td>\n",
       "      <td>0</td>\n",
       "      <td>05JUN48</td>\n",
       "      <td>51.0</td>\n",
       "      <td>0</td>\n",
       "      <td>14.0</td>\n",
       "      <td>NaN</td>\n",
       "      <td>No</td>\n",
       "      <td>$306,251</td>\n",
       "      <td>Yes</td>\n",
       "      <td>M</td>\n",
       "      <td>&lt;High School</td>\n",
       "      <td>z_Blue Collar</td>\n",
       "      <td>32</td>\n",
       "      <td>Private</td>\n",
       "      <td>$15,440</td>\n",
       "      <td>7</td>\n",
       "      <td>Minivan</td>\n",
       "      <td>yes</td>\n",
       "      <td>$0</td>\n",
       "      <td>0</td>\n",
       "      <td>No</td>\n",
       "      <td>0</td>\n",
       "      <td>$0</td>\n",
       "      <td>6.0</td>\n",
       "      <td>0</td>\n",
       "      <td>Highly Urban/ Urban</td>\n",
       "    </tr>\n",
       "  </tbody>\n",
       "</table>\n",
       "</div>"
      ],
      "text/plain": [
       "          ID  KIDSDRIV    BIRTH   AGE  HOMEKIDS   YOJ   INCOME PARENT1  \\\n",
       "0   63581743         0  16MAR39  60.0         0  11.0  $67,349      No   \n",
       "1  132761049         0  21JAN56  43.0         0  11.0  $91,449      No   \n",
       "2  921317019         0  18NOV51  48.0         0  11.0  $52,881      No   \n",
       "3  727598473         0  05MAR64  35.0         1  10.0  $16,039      No   \n",
       "4  450221861         0  05JUN48  51.0         0  14.0      NaN      No   \n",
       "\n",
       "   HOME_VAL MSTATUS GENDER      EDUCATION     OCCUPATION  TRAVTIME  \\\n",
       "0        $0    z_No      M            PhD   Professional        14   \n",
       "1  $257,252    z_No      M  z_High School  z_Blue Collar        22   \n",
       "2        $0    z_No      M      Bachelors        Manager        26   \n",
       "3  $124,191     Yes    z_F  z_High School       Clerical         5   \n",
       "4  $306,251     Yes      M   <High School  z_Blue Collar        32   \n",
       "\n",
       "      CAR_USE BLUEBOOK  TIF CAR_TYPE RED_CAR OLDCLAIM  CLM_FREQ REVOKED  \\\n",
       "0     Private  $14,230   11  Minivan     yes   $4,461         2      No   \n",
       "1  Commercial  $14,940    1  Minivan     yes       $0         0      No   \n",
       "2     Private  $21,970    1      Van     yes       $0         0      No   \n",
       "3     Private   $4,010    4    z_SUV      no  $38,690         2      No   \n",
       "4     Private  $15,440    7  Minivan     yes       $0         0      No   \n",
       "\n",
       "   MVR_PTS CLM_AMT  CAR_AGE  CLAIM_FLAG           URBANICITY  \n",
       "0        3      $0     18.0           0  Highly Urban/ Urban  \n",
       "1        0      $0      1.0           0  Highly Urban/ Urban  \n",
       "2        2      $0     10.0           0  Highly Urban/ Urban  \n",
       "3        3      $0     10.0           0  Highly Urban/ Urban  \n",
       "4        0      $0      6.0           0  Highly Urban/ Urban  "
      ]
     },
     "execution_count": 4,
     "metadata": {},
     "output_type": "execute_result"
    }
   ],
   "source": [
    "pd.set_option('display.max_columns', None)\n",
    "raw_data.head()"
   ]
  },
  {
   "cell_type": "markdown",
   "metadata": {},
   "source": [
    "#   DATA CLEANING"
   ]
  },
  {
   "cell_type": "code",
   "execution_count": 5,
   "metadata": {},
   "outputs": [],
   "source": [
    "data_df = raw_data.copy()"
   ]
  },
  {
   "cell_type": "markdown",
   "metadata": {},
   "source": [
    "We have just created a copy of our actual data and changed the column names to little descriptive names."
   ]
  },
  {
   "cell_type": "code",
   "execution_count": 6,
   "metadata": {},
   "outputs": [],
   "source": [
    "col_names = {\n",
    "    'KIDSDRIV': 'num_young_drivers',\n",
    "    'BIRTH': 'date_of_birth',\n",
    "    'AGE': 'age',\n",
    "    'HOMEKIDS': 'num_of_children',\n",
    "    'YOJ': 'years_job_held_for',\n",
    "    'INCOME': 'income',\n",
    "    'PARENT1': 'single_parent',\n",
    "    'HOME_VAL': 'value_of_home',\n",
    "    'MSTATUS': 'married',\n",
    "    'GENDER': 'gender',\n",
    "    'EDUCATION': 'highest_education',\n",
    "    'OCCUPATION': 'occupation',\n",
    "    'TRAVTIME': 'commute_dist',\n",
    "    'CAR_USE': 'type_of_use',\n",
    "    'BLUEBOOK': 'vehicle_value',\n",
    "    'TIF': 'policy_tenure',\n",
    "    'CAR_TYPE': 'vehicle_type',\n",
    "    'RED_CAR': 'red_vehicle',\n",
    "    'OLDCLAIM': '5_year_total_claims_value',\n",
    "    'CLM_FREQ': '5_year_num_of_claims',\n",
    "    'REVOKED': 'licence_revoked',\n",
    "    'MVR_PTS': 'license_points',\n",
    "    'CLM_AMT': 'new_claim_value',\n",
    "    'CAR_AGE': 'vehicle_age',\n",
    "    'CLAIM_FLAG': 'is_claim',\n",
    "    'URBANICITY': 'address_type'\n",
    "}\n",
    "\n",
    "# Update column names\n",
    "data_df.rename(columns=col_names, inplace=True)"
   ]
  },
  {
   "cell_type": "code",
   "execution_count": 7,
   "metadata": {},
   "outputs": [],
   "source": [
    "# Drop duplicates\n",
    "data_df.drop_duplicates(inplace=True)"
   ]
  },
  {
   "cell_type": "code",
   "execution_count": 8,
   "metadata": {},
   "outputs": [
    {
     "name": "stdout",
     "output_type": "stream",
     "text": [
      "<class 'pandas.core.frame.DataFrame'>\n",
      "Index: 10301 entries, 0 to 10301\n",
      "Data columns (total 27 columns):\n",
      " #   Column                     Non-Null Count  Dtype  \n",
      "---  ------                     --------------  -----  \n",
      " 0   ID                         10301 non-null  int64  \n",
      " 1   num_young_drivers          10301 non-null  int64  \n",
      " 2   date_of_birth              10301 non-null  object \n",
      " 3   age                        10294 non-null  float64\n",
      " 4   num_of_children            10301 non-null  int64  \n",
      " 5   years_job_held_for         9753 non-null   float64\n",
      " 6   income                     9731 non-null   object \n",
      " 7   single_parent              10301 non-null  object \n",
      " 8   value_of_home              9726 non-null   object \n",
      " 9   married                    10301 non-null  object \n",
      " 10  gender                     10301 non-null  object \n",
      " 11  highest_education          10301 non-null  object \n",
      " 12  occupation                 9636 non-null   object \n",
      " 13  commute_dist               10301 non-null  int64  \n",
      " 14  type_of_use                10301 non-null  object \n",
      " 15  vehicle_value              10301 non-null  object \n",
      " 16  policy_tenure              10301 non-null  int64  \n",
      " 17  vehicle_type               10301 non-null  object \n",
      " 18  red_vehicle                10301 non-null  object \n",
      " 19  5_year_total_claims_value  10301 non-null  object \n",
      " 20  5_year_num_of_claims       10301 non-null  int64  \n",
      " 21  licence_revoked            10301 non-null  object \n",
      " 22  license_points             10301 non-null  int64  \n",
      " 23  new_claim_value            10301 non-null  object \n",
      " 24  vehicle_age                9662 non-null   float64\n",
      " 25  is_claim                   10301 non-null  int64  \n",
      " 26  address_type               10301 non-null  object \n",
      "dtypes: float64(3), int64(8), object(16)\n",
      "memory usage: 2.2+ MB\n"
     ]
    }
   ],
   "source": [
    "data_df.info()"
   ]
  },
  {
   "cell_type": "markdown",
   "metadata": {},
   "source": [
    "We have observed that some columns like income includes special characters like \"$\" and \",\". We need to change that to change the column type to Integer"
   ]
  },
  {
   "cell_type": "code",
   "execution_count": 9,
   "metadata": {},
   "outputs": [],
   "source": [
    "# Define currency based columns\n",
    "currency_cols = ['income', 'value_of_home', 'vehicle_value', '5_year_total_claims_value', 'new_claim_value']\n",
    "\n",
    "# Create function to remove '$' and ','\n",
    "def format_currency_cols(data, cols):\n",
    "    for col in cols:\n",
    "        data[col] = data[col].replace('[\\\\$,]', '', regex=True).astype('Int64')\n",
    "    return data\n",
    "\n",
    "data_df = format_currency_cols(data_df, currency_cols)"
   ]
  },
  {
   "cell_type": "code",
   "execution_count": 10,
   "metadata": {},
   "outputs": [
    {
     "name": "stdout",
     "output_type": "stream",
     "text": [
      "<class 'pandas.core.frame.DataFrame'>\n",
      "Index: 10301 entries, 0 to 10301\n",
      "Data columns (total 27 columns):\n",
      " #   Column                     Non-Null Count  Dtype  \n",
      "---  ------                     --------------  -----  \n",
      " 0   ID                         10301 non-null  int64  \n",
      " 1   num_young_drivers          10301 non-null  int64  \n",
      " 2   date_of_birth              10301 non-null  object \n",
      " 3   age                        10294 non-null  float64\n",
      " 4   num_of_children            10301 non-null  int64  \n",
      " 5   years_job_held_for         9753 non-null   float64\n",
      " 6   income                     9731 non-null   Int64  \n",
      " 7   single_parent              10301 non-null  object \n",
      " 8   value_of_home              9726 non-null   Int64  \n",
      " 9   married                    10301 non-null  object \n",
      " 10  gender                     10301 non-null  object \n",
      " 11  highest_education          10301 non-null  object \n",
      " 12  occupation                 9636 non-null   object \n",
      " 13  commute_dist               10301 non-null  int64  \n",
      " 14  type_of_use                10301 non-null  object \n",
      " 15  vehicle_value              10301 non-null  Int64  \n",
      " 16  policy_tenure              10301 non-null  int64  \n",
      " 17  vehicle_type               10301 non-null  object \n",
      " 18  red_vehicle                10301 non-null  object \n",
      " 19  5_year_total_claims_value  10301 non-null  Int64  \n",
      " 20  5_year_num_of_claims       10301 non-null  int64  \n",
      " 21  licence_revoked            10301 non-null  object \n",
      " 22  license_points             10301 non-null  int64  \n",
      " 23  new_claim_value            10301 non-null  Int64  \n",
      " 24  vehicle_age                9662 non-null   float64\n",
      " 25  is_claim                   10301 non-null  int64  \n",
      " 26  address_type               10301 non-null  object \n",
      "dtypes: Int64(5), float64(3), int64(8), object(11)\n",
      "memory usage: 2.2+ MB\n"
     ]
    }
   ],
   "source": [
    "data_df.info()"
   ]
  },
  {
   "cell_type": "markdown",
   "metadata": {},
   "source": [
    "As we can see that all the data types have changed to integers as we removed the special characters."
   ]
  },
  {
   "cell_type": "code",
   "execution_count": 11,
   "metadata": {},
   "outputs": [],
   "source": [
    "# Define columns that have prefix\n",
    "z_prefix_cols = ['married', 'gender', 'highest_education', 'occupation', 'vehicle_type', 'address_type']\n",
    "\n",
    "# Create function to remove 'z_' prefix\n",
    "def remove_prefix(data, cols):\n",
    "    for col in cols:\n",
    "        data[col] = data[col].replace('[z_]', '', regex=True)\n",
    "    return data\n",
    "\n",
    "data_df = remove_prefix(data_df, z_prefix_cols)"
   ]
  },
  {
   "cell_type": "markdown",
   "metadata": {},
   "source": [
    "We need to remove this Z prefix data values from multiple columns as we can see in married, gender etc."
   ]
  },
  {
   "cell_type": "code",
   "execution_count": 12,
   "metadata": {},
   "outputs": [],
   "source": [
    "data_df.drop(['ID', 'date_of_birth'], axis=1, inplace=True)"
   ]
  },
  {
   "cell_type": "markdown",
   "metadata": {},
   "source": [
    "- ID is just a unique identifier so is not needed\n",
    "- data_of_birth duplicates the age feature (as age infers this information) so is not needed"
   ]
  },
  {
   "cell_type": "code",
   "execution_count": 13,
   "metadata": {},
   "outputs": [
    {
     "data": {
      "text/html": [
       "<div>\n",
       "<style scoped>\n",
       "    .dataframe tbody tr th:only-of-type {\n",
       "        vertical-align: middle;\n",
       "    }\n",
       "\n",
       "    .dataframe tbody tr th {\n",
       "        vertical-align: top;\n",
       "    }\n",
       "\n",
       "    .dataframe thead th {\n",
       "        text-align: right;\n",
       "    }\n",
       "</style>\n",
       "<table border=\"1\" class=\"dataframe\">\n",
       "  <thead>\n",
       "    <tr style=\"text-align: right;\">\n",
       "      <th></th>\n",
       "      <th>num_young_drivers</th>\n",
       "      <th>age</th>\n",
       "      <th>num_of_children</th>\n",
       "      <th>years_job_held_for</th>\n",
       "      <th>income</th>\n",
       "      <th>single_parent</th>\n",
       "      <th>value_of_home</th>\n",
       "      <th>married</th>\n",
       "      <th>gender</th>\n",
       "      <th>highest_education</th>\n",
       "      <th>occupation</th>\n",
       "      <th>commute_dist</th>\n",
       "      <th>type_of_use</th>\n",
       "      <th>vehicle_value</th>\n",
       "      <th>policy_tenure</th>\n",
       "      <th>vehicle_type</th>\n",
       "      <th>red_vehicle</th>\n",
       "      <th>5_year_total_claims_value</th>\n",
       "      <th>5_year_num_of_claims</th>\n",
       "      <th>licence_revoked</th>\n",
       "      <th>license_points</th>\n",
       "      <th>new_claim_value</th>\n",
       "      <th>vehicle_age</th>\n",
       "      <th>is_claim</th>\n",
       "      <th>address_type</th>\n",
       "    </tr>\n",
       "  </thead>\n",
       "  <tbody>\n",
       "    <tr>\n",
       "      <th>0</th>\n",
       "      <td>0</td>\n",
       "      <td>60.0</td>\n",
       "      <td>0</td>\n",
       "      <td>11.0</td>\n",
       "      <td>67349</td>\n",
       "      <td>No</td>\n",
       "      <td>0</td>\n",
       "      <td>No</td>\n",
       "      <td>M</td>\n",
       "      <td>PhD</td>\n",
       "      <td>Professional</td>\n",
       "      <td>14</td>\n",
       "      <td>Private</td>\n",
       "      <td>14230</td>\n",
       "      <td>11</td>\n",
       "      <td>Minivan</td>\n",
       "      <td>yes</td>\n",
       "      <td>4461</td>\n",
       "      <td>2</td>\n",
       "      <td>No</td>\n",
       "      <td>3</td>\n",
       "      <td>0</td>\n",
       "      <td>18.0</td>\n",
       "      <td>0</td>\n",
       "      <td>Highly Urban/ Urban</td>\n",
       "    </tr>\n",
       "    <tr>\n",
       "      <th>1</th>\n",
       "      <td>0</td>\n",
       "      <td>43.0</td>\n",
       "      <td>0</td>\n",
       "      <td>11.0</td>\n",
       "      <td>91449</td>\n",
       "      <td>No</td>\n",
       "      <td>257252</td>\n",
       "      <td>No</td>\n",
       "      <td>M</td>\n",
       "      <td>High School</td>\n",
       "      <td>Blue Collar</td>\n",
       "      <td>22</td>\n",
       "      <td>Commercial</td>\n",
       "      <td>14940</td>\n",
       "      <td>1</td>\n",
       "      <td>Minivan</td>\n",
       "      <td>yes</td>\n",
       "      <td>0</td>\n",
       "      <td>0</td>\n",
       "      <td>No</td>\n",
       "      <td>0</td>\n",
       "      <td>0</td>\n",
       "      <td>1.0</td>\n",
       "      <td>0</td>\n",
       "      <td>Highly Urban/ Urban</td>\n",
       "    </tr>\n",
       "    <tr>\n",
       "      <th>2</th>\n",
       "      <td>0</td>\n",
       "      <td>48.0</td>\n",
       "      <td>0</td>\n",
       "      <td>11.0</td>\n",
       "      <td>52881</td>\n",
       "      <td>No</td>\n",
       "      <td>0</td>\n",
       "      <td>No</td>\n",
       "      <td>M</td>\n",
       "      <td>Bachelors</td>\n",
       "      <td>Manager</td>\n",
       "      <td>26</td>\n",
       "      <td>Private</td>\n",
       "      <td>21970</td>\n",
       "      <td>1</td>\n",
       "      <td>Van</td>\n",
       "      <td>yes</td>\n",
       "      <td>0</td>\n",
       "      <td>0</td>\n",
       "      <td>No</td>\n",
       "      <td>2</td>\n",
       "      <td>0</td>\n",
       "      <td>10.0</td>\n",
       "      <td>0</td>\n",
       "      <td>Highly Urban/ Urban</td>\n",
       "    </tr>\n",
       "    <tr>\n",
       "      <th>3</th>\n",
       "      <td>0</td>\n",
       "      <td>35.0</td>\n",
       "      <td>1</td>\n",
       "      <td>10.0</td>\n",
       "      <td>16039</td>\n",
       "      <td>No</td>\n",
       "      <td>124191</td>\n",
       "      <td>Yes</td>\n",
       "      <td>F</td>\n",
       "      <td>High School</td>\n",
       "      <td>Clerical</td>\n",
       "      <td>5</td>\n",
       "      <td>Private</td>\n",
       "      <td>4010</td>\n",
       "      <td>4</td>\n",
       "      <td>SUV</td>\n",
       "      <td>no</td>\n",
       "      <td>38690</td>\n",
       "      <td>2</td>\n",
       "      <td>No</td>\n",
       "      <td>3</td>\n",
       "      <td>0</td>\n",
       "      <td>10.0</td>\n",
       "      <td>0</td>\n",
       "      <td>Highly Urban/ Urban</td>\n",
       "    </tr>\n",
       "    <tr>\n",
       "      <th>4</th>\n",
       "      <td>0</td>\n",
       "      <td>51.0</td>\n",
       "      <td>0</td>\n",
       "      <td>14.0</td>\n",
       "      <td>&lt;NA&gt;</td>\n",
       "      <td>No</td>\n",
       "      <td>306251</td>\n",
       "      <td>Yes</td>\n",
       "      <td>M</td>\n",
       "      <td>&lt;High School</td>\n",
       "      <td>Blue Collar</td>\n",
       "      <td>32</td>\n",
       "      <td>Private</td>\n",
       "      <td>15440</td>\n",
       "      <td>7</td>\n",
       "      <td>Minivan</td>\n",
       "      <td>yes</td>\n",
       "      <td>0</td>\n",
       "      <td>0</td>\n",
       "      <td>No</td>\n",
       "      <td>0</td>\n",
       "      <td>0</td>\n",
       "      <td>6.0</td>\n",
       "      <td>0</td>\n",
       "      <td>Highly Urban/ Urban</td>\n",
       "    </tr>\n",
       "  </tbody>\n",
       "</table>\n",
       "</div>"
      ],
      "text/plain": [
       "   num_young_drivers   age  num_of_children  years_job_held_for  income  \\\n",
       "0                  0  60.0                0                11.0   67349   \n",
       "1                  0  43.0                0                11.0   91449   \n",
       "2                  0  48.0                0                11.0   52881   \n",
       "3                  0  35.0                1                10.0   16039   \n",
       "4                  0  51.0                0                14.0    <NA>   \n",
       "\n",
       "  single_parent  value_of_home married gender highest_education    occupation  \\\n",
       "0            No              0      No      M               PhD  Professional   \n",
       "1            No         257252      No      M       High School   Blue Collar   \n",
       "2            No              0      No      M         Bachelors       Manager   \n",
       "3            No         124191     Yes      F       High School      Clerical   \n",
       "4            No         306251     Yes      M      <High School   Blue Collar   \n",
       "\n",
       "   commute_dist type_of_use  vehicle_value  policy_tenure vehicle_type  \\\n",
       "0            14     Private          14230             11      Minivan   \n",
       "1            22  Commercial          14940              1      Minivan   \n",
       "2            26     Private          21970              1          Van   \n",
       "3             5     Private           4010              4          SUV   \n",
       "4            32     Private          15440              7      Minivan   \n",
       "\n",
       "  red_vehicle  5_year_total_claims_value  5_year_num_of_claims  \\\n",
       "0         yes                       4461                     2   \n",
       "1         yes                          0                     0   \n",
       "2         yes                          0                     0   \n",
       "3          no                      38690                     2   \n",
       "4         yes                          0                     0   \n",
       "\n",
       "  licence_revoked  license_points  new_claim_value  vehicle_age  is_claim  \\\n",
       "0              No               3                0         18.0         0   \n",
       "1              No               0                0          1.0         0   \n",
       "2              No               2                0         10.0         0   \n",
       "3              No               3                0         10.0         0   \n",
       "4              No               0                0          6.0         0   \n",
       "\n",
       "          address_type  \n",
       "0  Highly Urban/ Urban  \n",
       "1  Highly Urban/ Urban  \n",
       "2  Highly Urban/ Urban  \n",
       "3  Highly Urban/ Urban  \n",
       "4  Highly Urban/ Urban  "
      ]
     },
     "execution_count": 13,
     "metadata": {},
     "output_type": "execute_result"
    }
   ],
   "source": [
    "data_df.head()"
   ]
  },
  {
   "cell_type": "code",
   "execution_count": 24,
   "metadata": {},
   "outputs": [],
   "source": [
    "# Define bins\n",
    "bins = [0.0, 5000, 10_000, 15_000, 20_000, 25_000, 30_000, 35_000, 40_000, 45_000, 50_000, np.inf]\n",
    "# Define bin labels\n",
    "labels = np.arange(1, 12)\n",
    "\n",
    "# Apply the bins using cut\n",
    "data_df['claim_value_cat'] = pd.cut(data_df['new_claim_value'], bins = bins, labels= labels, include_lowest=True)"
   ]
  },
  {
   "cell_type": "code",
   "execution_count": 18,
   "metadata": {},
   "outputs": [],
   "source": [
    "cols_to_drop = [\n",
    "    'red_vehicle',\n",
    "]\n",
    "\n",
    "numerical_cols = ['num_young_drivers',\n",
    " 'age',\n",
    " 'num_of_children',\n",
    " 'years_job_held_for',\n",
    " 'income',\n",
    " 'value_of_home',\n",
    " 'commute_dist',\n",
    " 'vehicle_value',\n",
    " 'policy_tenure',\n",
    " '5_year_total_claims_value',\n",
    " '5_year_num_of_claims',\n",
    " 'license_points',\n",
    " 'vehicle_age']\n",
    "\n",
    "# Define ordinal features\n",
    "cat_cols_ord = ['highest_education']\n",
    "# Define binary features\n",
    "cat_cols_bin = ['single_parent', 'married', 'gender', 'type_of_use', 'licence_revoked', 'address_type']\n",
    "# Define one-hot features\n",
    "cat_cols_one_hot = ['occupation', 'vehicle_type']"
   ]
  },
  {
   "cell_type": "markdown",
   "metadata": {},
   "source": [
    "# MODEL PIPELINE"
   ]
  },
  {
   "cell_type": "code",
   "execution_count": 19,
   "metadata": {},
   "outputs": [],
   "source": [
    "# Custom transformer to drop specified columns\n",
    "class ColumnDropper(BaseEstimator, TransformerMixin):\n",
    "    def __init__(self, columns_to_drop):\n",
    "        self.columns_to_drop = columns_to_drop\n",
    "    \n",
    "    def fit(self, X, y=None):\n",
    "        return self\n",
    "    \n",
    "    def transform(self, X):\n",
    "        return X.drop(columns=self.columns_to_drop)\n",
    "    \n",
    "    def get_feature_names_out(self, input_features=None):\n",
    "        return None"
   ]
  },
  {
   "cell_type": "code",
   "execution_count": 20,
   "metadata": {},
   "outputs": [],
   "source": [
    "class SqrtTransformer(BaseEstimator, TransformerMixin):\n",
    "    def __init__(self, columns_to_transform):\n",
    "        self.columns_to_transform = columns_to_transform\n",
    "    \n",
    "    def fit(self, X, y=None):\n",
    "        return self\n",
    "    \n",
    "    def transform(self, X):\n",
    "        X[self.columns_to_transform] = np.sqrt(X[self.columns_to_transform])\n",
    "        return X\n",
    "\n",
    "    def get_feature_names_out(self, input_features=None):\n",
    "        return input_features"
   ]
  },
  {
   "cell_type": "code",
   "execution_count": 21,
   "metadata": {},
   "outputs": [],
   "source": [
    "from sklearn import set_config\n",
    "\n",
    "# Set transformer output to df so we can reference columns names\n",
    "set_config(transform_output='pandas')"
   ]
  },
  {
   "cell_type": "code",
   "execution_count": 22,
   "metadata": {},
   "outputs": [],
   "source": [
    "# Define column dropper pipeline\n",
    "cols_to_drop_pipeline = Pipeline([\n",
    "    ('col_dropper', ColumnDropper(cols_to_drop))\n",
    "])\n",
    "\n",
    "skewed_features = ['income', 'value_of_home', 'commute_dist', 'vehicle_value', 'policy_tenure', 'license_points']\n",
    "\n",
    "# Define numerical feature pipeline\n",
    "num_pipeline = Pipeline([\n",
    "    ('knn_imputer', KNNImputer(n_neighbors=2)),\n",
    "    ('sqrt', SqrtTransformer(skewed_features)),\n",
    "    ('scaler', StandardScaler()),\n",
    "])\n",
    "\n",
    "# Define rank of education levels\n",
    "education_rank = [['<High School', 'High School', 'Bachelors', 'Masters', 'PhD']]\n",
    "\n",
    "# Define ordinal categorical feature pipeline (highest_education feature)\n",
    "cat_ord_pipeline = Pipeline([\n",
    "    ('simple_imputer', SimpleImputer(strategy='most_frequent')),\n",
    "    ('ord_encoder', OrdinalEncoder(categories=education_rank)),\n",
    "])\n",
    "\n",
    "# Define binary categorical feature pipeline\n",
    "cat_bin_pipeline = Pipeline([\n",
    "    ('simple_imputer', SimpleImputer(strategy='most_frequent')),\n",
    "    ('binary_encoder', OrdinalEncoder()),\n",
    "])\n",
    "\n",
    "# Define one-hot categorical feature pipeline\n",
    "cat_one_hot_pipeline = Pipeline([\n",
    "    ('cat_simple_imputer', SimpleImputer(strategy='most_frequent')),\n",
    "    ('one_hot_encoder', OneHotEncoder(handle_unknown='ignore', sparse_output=False, drop='first')),\n",
    "])\n",
    "\n",
    "# Define preprocessing pipeline with a column transformer\n",
    "preprocess_pipeline = ColumnTransformer([\n",
    "    ('drop_features', cols_to_drop_pipeline, cols_to_drop),\n",
    "    ('num', num_pipeline, numerical_cols),\n",
    "    ('cat_ord', cat_ord_pipeline, cat_cols_ord),\n",
    "    ('cat_bin', cat_bin_pipeline, cat_cols_bin),\n",
    "    ('cat_one_hot', cat_one_hot_pipeline, cat_cols_one_hot),\n",
    "])"
   ]
  },
  {
   "cell_type": "code",
   "execution_count": 25,
   "metadata": {},
   "outputs": [],
   "source": [
    "# Filter to only rows with a non-zero claim value\n",
    "claim_data = data_df[data_df['new_claim_value'] > 0]\n",
    "\n",
    "# Create clean copy of training data\n",
    "X_reg = claim_data.copy()\n",
    "y_reg = claim_data['new_claim_value']\n",
    "\n",
    "# Drop the target feature\n",
    "X_reg.drop(columns=['new_claim_value','is_claim', 'claim_value_cat'], inplace=True)\n",
    "\n",
    "# Create train/test split\n",
    "X_reg_train, X_reg_test, y_reg_train, y_reg_test = train_test_split(X_reg, y_reg, test_size=0.2, random_state=42)"
   ]
  },
  {
   "cell_type": "code",
   "execution_count": 26,
   "metadata": {},
   "outputs": [],
   "source": [
    "# Use the same pipeline as the classifier model to preprocess X train\n",
    "X_reg_train_prepared = preprocess_pipeline.fit_transform(X_reg_train)"
   ]
  },
  {
   "cell_type": "markdown",
   "metadata": {},
   "source": [
    "# MODEL SELECTION"
   ]
  },
  {
   "cell_type": "markdown",
   "metadata": {},
   "source": [
    "We'll start by looking at the performance of some of the most popular regression models."
   ]
  },
  {
   "cell_type": "code",
   "execution_count": 35,
   "metadata": {},
   "outputs": [],
   "source": [
    "regs = [\n",
    "    ('Linear Regression', LinearRegression()),\n",
    "    ('Logistic Regression', LogisticRegression(random_state=42, max_iter=25, solver='sag', tol=3)),\n",
    "    ('SGD Regressor', SGDRegressor(random_state=42)),\n",
    "    ('Decision Tree Regression ', DecisionTreeRegressor(random_state=42)),\n",
    "    ('Random Forest', RandomForestRegressor(random_state=42)),\n",
    "    ('KNN Model ', KNeighborsRegressor()),\n",
    "    ('Support Vector Machines (SVM)', SVR(gamma=2, C=1))\n",
    "]"
   ]
  },
  {
   "cell_type": "markdown",
   "metadata": {},
   "source": [
    "Like with the classification models, we'll use a KFold object to use the same folds for the cross-validation of each model.\n",
    "\n",
    "For the scoring of the model, we'll use the RMSE as it's more sensitive to outliers."
   ]
  },
  {
   "cell_type": "code",
   "execution_count": 36,
   "metadata": {},
   "outputs": [
    {
     "name": "stdout",
     "output_type": "stream",
     "text": [
      "Linear Regression\n",
      "Logistic Regression\n",
      "SGD Regressor\n",
      "Decision Tree Regression \n",
      "Random Forest\n",
      "KNN Model \n",
      "Support Vector Machines (SVM)\n"
     ]
    }
   ],
   "source": [
    "# Create KFold object with 10 folds\n",
    "reg_kf = KFold(n_splits=10, shuffle=True, random_state=42)\n",
    "\n",
    "# Dictionary to store results\n",
    "reg_results = {}\n",
    "\n",
    "# Evaluate each classifier using cross-validation\n",
    "for reg_name, reg in regs:\n",
    "    print(reg_name)\n",
    "    cv_rmses = -cross_val_score(reg, X_reg_train_prepared, y_reg_train, cv=reg_kf, scoring='neg_root_mean_squared_error')\n",
    "    reg_results[reg_name] = cv_rmses\n",
    "\n",
    "reg_cv_scores_df = pd.DataFrame(reg_results)"
   ]
  },
  {
   "cell_type": "markdown",
   "metadata": {},
   "source": [
    "And again, let's create a boxplot of the results of the cross-validation for each model."
   ]
  },
  {
   "cell_type": "code",
   "execution_count": 37,
   "metadata": {},
   "outputs": [
    {
     "data": {
      "text/plain": [
       "Text(0.5, 1.0, 'Cross-Validation Scores for Different Regressors')"
      ]
     },
     "execution_count": 37,
     "metadata": {},
     "output_type": "execute_result"
    },
    {
     "data": {
      "image/png": "[encoded data removed]",
      "text/plain": [
       "<Figure size 1152x576 with 1 Axes>"
      ]
     },
     "metadata": {
      "needs_background": "light"
     },
     "output_type": "display_data"
    }
   ],
   "source": [
    "# Plot scores\n",
    "fig, ax = plt.subplots(figsize=(16, 8))\n",
    "sns.boxplot(reg_cv_scores_df)\n",
    "\n",
    "# Add axis labels\n",
    "ax.set_xlabel('Regressor', fontsize=12)\n",
    "ax.set_ylabel('CV RMSE', fontsize=12)\n",
    "ax.set_title('Cross-Validation Scores for Different Regressors', fontsize=14)"
   ]
  },
  {
   "cell_type": "markdown",
   "metadata": {},
   "source": [
    "As we're using the RMSE as the scoring method, lower is better. We can see the linear regression and SGD Regressor models performed the best. Their scores were very similar, as the models themselves are. As we have more flexibility to tune the SGD Regressor, we'll proceed with that."
   ]
  },
  {
   "cell_type": "markdown",
   "metadata": {},
   "source": [
    "# HYPERPARAMETER OPTIMISATION"
   ]
  },
  {
   "cell_type": "markdown",
   "metadata": {},
   "source": [
    "As we did with the classification model, we'll first use random search to cover a large parameter space."
   ]
  },
  {
   "cell_type": "code",
   "execution_count": 38,
   "metadata": {},
   "outputs": [],
   "source": [
    "# Define the parameter grid for SGDRegressor\n",
    "reg_param_grid = {\n",
    "    'penalty': ['l2', 'l1', 'elasticnet'],\n",
    "    'alpha': uniform(0.0001, 0.01),\n",
    "    'learning_rate': ['constant', 'invscaling'],\n",
    "    'eta0': uniform(0.001, 0.1),\n",
    "    'max_iter': randint(100, 1000),\n",
    "    'tol': uniform(1e-6, 1e-3)\n",
    "}\n",
    "\n",
    "# Initialise the regressor\n",
    "sgd_regressor = SGDRegressor(random_state=42)\n",
    "\n",
    "# Create random search\n",
    "reg_random_search = RandomizedSearchCV(\n",
    "    estimator=sgd_regressor,\n",
    "    param_distributions=reg_param_grid,\n",
    "    n_iter=500,\n",
    "    scoring='neg_mean_squared_error',\n",
    "    cv=reg_kf,\n",
    "    verbose=1,\n",
    "    random_state=42,\n",
    "    n_jobs=-1\n",
    ")"
   ]
  },
  {
   "cell_type": "code",
   "execution_count": null,
   "metadata": {},
   "outputs": [],
   "source": [
    "# Fit the model using RandomizedSearchCV\n",
    "reg_random_search.fit(X_reg_train_prepared, y_reg_train)\n",
    "\n",
    "score = np.sqrt(-reg_random_search.best_score_)\n",
    "\n",
    "# Print the best parameters and the best score\n",
    "print(\"Best parameters found: \", reg_random_search.best_params_)\n",
    "print(\"Best cross-validation score: \", score)"
   ]
  },
  {
   "cell_type": "markdown",
   "metadata": {},
   "source": [
    "Fitting 10 folds for each of 500 candidates, totalling 5000 fits\n",
    "\n",
    "Best parameters found:  {'alpha': 0.008548753109694546, 'eta0': 0.003327193573582587, 'learning_rate': 'invscaling', 'max_iter': 214, 'penalty': 'l2', 'tol': 0.0004970374542934063}\n",
    "Best cross-validation score:  7606.542104820654"
   ]
  },
  {
   "cell_type": "markdown",
   "metadata": {},
   "source": [
    "We can now use grid search with the reduce parameter space."
   ]
  },
  {
   "cell_type": "code",
   "execution_count": 42,
   "metadata": {},
   "outputs": [],
   "source": [
    "# Define the parameter grid for SGDRegressor\n",
    "reg_param_grid_gs = {\n",
    "    'penalty': ['l2', 'l1', 'elasticnet'],\n",
    "    'alpha': [0.004, 0.008, 0.012],\n",
    "    'learning_rate': ['invscaling'],\n",
    "    'eta0': [0.001, 0.003, 0.005],\n",
    "    'max_iter': [180, 200, 220],\n",
    "    'tol': [1e-5, 1e-4, 1e-6]\n",
    "}\n",
    "\n",
    "# Initialise the regressor\n",
    "sgd_regressor = SGDRegressor(random_state=42)\n",
    "\n",
    "# Create random search\n",
    "reg_grid_search = GridSearchCV(\n",
    "    estimator=sgd_regressor,\n",
    "    param_grid=reg_param_grid_gs,\n",
    "    scoring='neg_mean_squared_error',\n",
    "    cv=reg_kf,\n",
    "    verbose=1,\n",
    "    n_jobs=-1\n",
    ")"
   ]
  },
  {
   "cell_type": "code",
   "execution_count": null,
   "metadata": {},
   "outputs": [],
   "source": [
    "# Fit the model\n",
    "reg_grid_search.fit(X_reg_train_prepared, y_reg_train)\n",
    "\n",
    "reg_score = np.sqrt(-reg_grid_search.best_score_)\n",
    "\n",
    "# Print the best parameters and the best score\n",
    "print(\"Best parameters found: \", reg_grid_search.best_params_)\n",
    "print(\"Best cross-validation score: \", reg_score)"
   ]
  },
  {
   "cell_type": "markdown",
   "metadata": {},
   "source": [
    "Fitting 10 folds for each of 243 candidates, totalling 2430 fits\n",
    "\n",
    "Best parameters found:  {'alpha': 0.012, 'eta0': 0.003, 'learning_rate': 'invscaling', 'max_iter': 180, 'penalty': 'l2', 'tol': 1e-05}\n",
    "\n",
    "Best cross-validation score:  7605.2923588743715"
   ]
  },
  {
   "cell_type": "markdown",
   "metadata": {},
   "source": [
    "# MODEL EVALUATION"
   ]
  },
  {
   "cell_type": "markdown",
   "metadata": {},
   "source": [
    "We can now test our regression model with the test sets to see our final score."
   ]
  },
  {
   "cell_type": "code",
   "execution_count": 47,
   "metadata": {},
   "outputs": [
    {
     "data": {
      "text/plain": [
       "7379.111618747787"
      ]
     },
     "execution_count": 47,
     "metadata": {},
     "output_type": "execute_result"
    }
   ],
   "source": [
    "reg_cv_scores_df[\"SGD Regressor\"].mean()"
   ]
  },
  {
   "cell_type": "code",
   "execution_count": 46,
   "metadata": {},
   "outputs": [
    {
     "name": "stdout",
     "output_type": "stream",
     "text": [
      "RMSE: 8378.846093356431\n",
      "MAE: 3556.2627508324217\n"
     ]
    }
   ],
   "source": [
    "X_reg_test_prepared = preprocess_pipeline.fit_transform(X_reg_test)\n",
    "\n",
    "y_reg_pred = reg_grid_search.best_estimator_.predict(X_reg_test_prepared)\n",
    "\n",
    "mse = mean_squared_error(y_reg_test, y_reg_pred)\n",
    "rmse = np.sqrt(mse)\n",
    "\n",
    "mae = mean_absolute_error(y_reg_test, y_reg_pred)\n",
    "\n",
    "print(f'RMSE: {rmse}')\n",
    "print(f'MAE: {mae}')"
   ]
  },
  {
   "cell_type": "markdown",
   "metadata": {},
   "source": [
    "We can see the RMSE score was slightly higher than what we saw in the train sets, but still fairly inline. As with the classification model, there is still lots of room for potential improvement, like additional feature engineering, investigating feature importance or combining multiple models to create an ensemble."
   ]
  },
  {
   "cell_type": "markdown",
   "metadata": {},
   "source": []
  }
 ],
 "metadata": {
  "kernelspec": {
   "display_name": "Python 3",
   "language": "python",
   "name": "python3"
  },
  "language_info": {
   "codemirror_mode": {
    "name": "ipython",
    "version": 3
   },
   "file_extension": ".py",
   "mimetype": "text/x-python",
   "name": "python",
   "nbconvert_exporter": "python",
   "pygments_lexer": "ipython3",
   "version": "3.10.0"
  }
 },
 "nbformat": 4,
 "nbformat_minor": 2
}
